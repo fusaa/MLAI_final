{
 "cells": [
  {
   "cell_type": "markdown",
   "id": "8d8d4040",
   "metadata": {
    "ExecuteTime": {
     "end_time": "2023-06-25T14:17:10.449983Z",
     "start_time": "2023-06-25T14:17:10.433980Z"
    }
   },
   "source": [
    "<a id='Introduction'></a>\n",
    "# Introduction"
   ]
  },
  {
   "cell_type": "markdown",
   "id": "40f06164",
   "metadata": {
    "ExecuteTime": {
     "end_time": "2023-07-19T16:42:52.965377Z",
     "start_time": "2023-07-19T16:42:52.954372Z"
    }
   },
   "source": [
    "[Introduction](#Introduction) [Imports](#Imports) [Helper](#Helper)  >>  \n",
    "[Data](#data) [Model](#model)  [Initial Data](#initial) [Sampling Initial Data](#sampling)  >>\n",
    "[Bayesian Optimization](#bayesian) [Imports BO](#imports_bo) [BO Search](#bo_search) >> [Epochs Choice](#epochs) [Final Model](#final) [Confusion Matrix](#confusion_matrix)"
   ]
  },
  {
   "cell_type": "markdown",
   "id": "18a8c2e1",
   "metadata": {},
   "source": [
    "This is the final project for Machine Learning & Artificial Intelligence. The goal is to apply Bayesian Optimization training, a classifier using a neural network with CNN that can diagnose patients with pneumonia. \n",
    "\n",
    "The chosen dataset was obtained from [Kaggle](https://www.kaggle.com/datasets/paultimothymooney/chest-xray-pneumonia). The dataset comprehends lung X-ray images from children, and the goal is to train a classifier that is able to diagnose patients for pneumonia. \n",
    "\n",
    "> Kermany, Daniel; Zhang, Kang; Goldbaum, Michael (2018), “Labeled Optical Coherence Tomography (OCT) and Chest X-Ray Images for Classification”, Mendeley Data, V2, doi: 10.17632/rscbjbr9sj.2\n",
    "\n",
    "The dataset has high-resolution images, and it has been pre-cleaned and labelled by specialists. It comprehends 5.856 files with a size of 1.15GB.\n",
    "\n",
    "The original data was provided with an original split for training, validation and testing. However, this author decided to merge all the files again and do a new split - the files on the original division for training and testing needed to be more.\n",
    "\n"
   ]
  },
  {
   "cell_type": "markdown",
   "id": "835b5e24",
   "metadata": {},
   "source": [
    "<a id='Imports'></a>\n",
    "# Imports"
   ]
  },
  {
   "cell_type": "markdown",
   "id": "57bcac2d",
   "metadata": {
    "ExecuteTime": {
     "end_time": "2023-07-19T16:42:52.965377Z",
     "start_time": "2023-07-19T16:42:52.954372Z"
    }
   },
   "source": [
    "[Introduction](#Introduction) [Imports](#Imports) [Helper](#Helper)  >>  \n",
    "[Data](#data) [Model](#model)  [Initial Data](#initial) [Sampling Initial Data](#sampling)  >>\n",
    "[Bayesian Optimization](#bayesian) [Imports BO](#imports_bo) [BO Search](#bo_search) >> [Epochs Choice](#epochs) [Final Model](#final) [Confusion Matrix](#confusion_matrix)"
   ]
  },
  {
   "cell_type": "code",
   "execution_count": 1,
   "id": "a7096d8c",
   "metadata": {
    "ExecuteTime": {
     "end_time": "2023-07-18T15:51:11.187776Z",
     "start_time": "2023-07-18T15:51:03.174065Z"
    }
   },
   "outputs": [],
   "source": [
    "import cv2  # !pip install opencv-python\n",
    "\n",
    "from torchvision.datasets import ImageFolder\n",
    "import torchvision.transforms as transforms\n",
    "import torchvision\n",
    "import torch\n",
    "import torchvision.transforms as transforms\n",
    "\n",
    "import matplotlib.pyplot as plt\n",
    "import numpy as np\n",
    "\n",
    "import splitfolders\n",
    "\n",
    "import torch.nn as nn  # model\n",
    "import torch.nn.functional as F  # model\n",
    "\n",
    "import torch.optim as optim  # optimizer\n",
    "import time  # so we can keep track of time...\n",
    "\n",
    "\n",
    "from torchinfo import summary  # exp.track\n",
    "from torch.utils.tensorboard import SummaryWriter\n",
    "\n",
    "import pandas as pd\n",
    "import pickle as pkl\n",
    "\n",
    "from sklearn.gaussian_process import GaussianProcessRegressor\n",
    "from sklearn.preprocessing import normalize,MinMaxScaler,StandardScaler\n",
    "from sklearn.metrics import recall_score\n",
    "from sklearn.metrics import fbeta_score\n",
    "from sklearn.metrics import confusion_matrix, ConfusionMatrixDisplay\n",
    "\n",
    "import itertools as it\n",
    "import shutil\n",
    "\n",
    "\n",
    "\n"
   ]
  },
  {
   "cell_type": "markdown",
   "id": "8790619b",
   "metadata": {},
   "source": [
    "<a id='Helper'></a>\n",
    "# Helper Functions"
   ]
  },
  {
   "cell_type": "markdown",
   "id": "90734a61",
   "metadata": {},
   "source": [
    "- The function img_loader() is used by the Imagefolder function to read the data images from a specific folder. \n",
    "- imshow() just displays any requested image"
   ]
  },
  {
   "cell_type": "code",
   "execution_count": 129,
   "id": "e338cb12",
   "metadata": {
    "ExecuteTime": {
     "end_time": "2023-07-19T14:56:56.660707Z",
     "start_time": "2023-07-19T14:56:56.638710Z"
    }
   },
   "outputs": [],
   "source": [
    "# img = cv2.imread(\"some_image.pgm\", cv2.IMREAD_COLOR)\n",
    "\n",
    "def img_loader(filename):\n",
    "    img = cv2.imread(filename, cv2.IMREAD_GRAYSCALE)\n",
    "    width = 224  #200 # lowering image resolutions \n",
    "    height = 224  #200\n",
    "    dim = (width,height)\n",
    "    resized = cv2.resize(img, dim, interpolation = cv2.INTER_AREA)\n",
    "    return resized\n",
    "\n",
    "def imshow(img):\n",
    "    img = img / 2 + 0.5     # unnormalize\n",
    "    npimg = img.numpy()\n",
    "    plt.imshow(np.transpose(npimg, (1, 2, 0)))\n",
    "    plt.show()\n",
    "    \n",
    "\n",
    "def save_ckp(state, is_best, checkpoint_dir, best_model_dir):  # we can save a model with this function\n",
    "    f_path = f'{checkpoint_dir}/checkpoint.pt'\n",
    "    torch.save(state, f_path)\n",
    "    if is_best:  # if saving best model separate\n",
    "        best_fpath = f'{best_model_dir}/best_model.pt'\n",
    "        shutil.copyfile(f_path, best_fpath)\n",
    "        \n",
    "def load_ckp(checkpoint_fpath, model, optimizer):  # loads a previously saved model.\n",
    "    checkpoint = torch.load(checkpoint_fpath)\n",
    "    model.load_state_dict(checkpoint['state_dict'])\n",
    "    optimizer.load_state_dict(checkpoint['optimizer'])\n",
    "    return model, optimizer, checkpoint['epoch']"
   ]
  },
  {
   "cell_type": "markdown",
   "id": "e69b39d4",
   "metadata": {},
   "source": [
    "- perf_check_overall is used for calculating accuracy metric, while count_classes, just counts the classes in the dataset."
   ]
  },
  {
   "cell_type": "code",
   "execution_count": 4,
   "id": "c117995a",
   "metadata": {
    "ExecuteTime": {
     "end_time": "2023-07-18T15:51:11.363772Z",
     "start_time": "2023-07-18T15:51:11.347772Z"
    }
   },
   "outputs": [],
   "source": [
    "def count_classes(loader):\n",
    "    class_list = torch.Tensor()\n",
    "    for data in loader:\n",
    "        _, labels = data\n",
    "        class_list = torch.cat((class_list, labels))\n",
    "    return class_list\n",
    "\n",
    "\n",
    "def perf_check_overall(net_model, test_df):\n",
    "    correct = 0\n",
    "    total = 0\n",
    "    \n",
    "    prediction_list = torch.Tensor()\n",
    "    label_list = torch.Tensor()\n",
    "    \n",
    "    with torch.no_grad():\n",
    "        for data in test_df:\n",
    "            images, labels = data\n",
    "            outputs = net_model(images)\n",
    "            _, predicted = torch.max(outputs.data, 1)\n",
    "            \n",
    "            prediction_list = torch.cat((prediction_list,predicted))\n",
    "            label_list = torch.cat((label_list,labels))\n",
    "                                       \n",
    "            total += labels.size(0)\n",
    "            correct += (predicted == labels).sum().item()\n",
    "            \n",
    "    accuracy = correct / total\n",
    "    recall = recall_score(label_list, prediction_list)\n",
    "    f2score = fbeta_score(label_list, prediction_list, beta=2)\n",
    "    print(f'Recall -> {recall}')\n",
    "    print(f'Accuracy -> {accuracy}')\n",
    "    print(f'f2 score -> {f2score}')\n",
    "    print('Accuracy of the network w/ validation/test: %d %%' % (\n",
    "        100 * accuracy))\n",
    "    return accuracy, recall, f2score"
   ]
  },
  {
   "cell_type": "code",
   "execution_count": 6,
   "id": "4bbceb0b",
   "metadata": {
    "ExecuteTime": {
     "end_time": "2023-07-18T15:51:12.371773Z",
     "start_time": "2023-07-18T15:51:12.355774Z"
    }
   },
   "outputs": [],
   "source": [
    "def set_seeds(seed: int=42):\n",
    "    # Set the seed for general torch operations\n",
    "    torch.manual_seed(seed)\n",
    "    # Set the seed for CUDA torch operations (ones that happen on the GPU)\n",
    "    torch.cuda.manual_seed(seed)"
   ]
  },
  {
   "cell_type": "markdown",
   "id": "79edcb75",
   "metadata": {},
   "source": [
    "<a id = 'data'></a>\n",
    "# Data"
   ]
  },
  {
   "cell_type": "markdown",
   "id": "a297af89",
   "metadata": {
    "ExecuteTime": {
     "end_time": "2023-07-19T16:42:52.965377Z",
     "start_time": "2023-07-19T16:42:52.954372Z"
    }
   },
   "source": [
    "[Introduction](#Introduction) [Imports](#Imports) [Helper](#Helper)  >>  \n",
    "[Data](#data) [Model](#model)  [Initial Data](#initial) [Sampling Initial Data](#sampling)  >>\n",
    "[Bayesian Optimization](#bayesian) [Imports BO](#imports_bo) [BO Search](#bo_search) >> [Epochs Choice](#epochs) [Final Model](#final) [Confusion Matrix](#confusion_matrix)"
   ]
  },
  {
   "cell_type": "markdown",
   "id": "bf60ce1a",
   "metadata": {},
   "source": [
    "## Dataset partitioning"
   ]
  },
  {
   "cell_type": "markdown",
   "id": "4f26eb2e",
   "metadata": {
    "ExecuteTime": {
     "end_time": "2023-06-29T15:01:20.897756Z",
     "start_time": "2023-06-29T15:01:20.874758Z"
    }
   },
   "source": [
    "The data obtained was already partitioned in training, validation and testing. However, it was found to be unsuitable, so the data has been re-unified to be split again. Using splitfolders 70% of the data has been assigned to training, 15% to validation and the remaining 15% to testing."
   ]
  },
  {
   "cell_type": "code",
   "execution_count": 7,
   "id": "3fe25f99",
   "metadata": {
    "ExecuteTime": {
     "end_time": "2023-07-18T15:51:14.962760Z",
     "start_time": "2023-07-18T15:51:14.938768Z"
    }
   },
   "outputs": [],
   "source": [
    "run_split_folders = False\n",
    "\n",
    "if run_split_folders:\n",
    "    splitfolders.ratio(\"./chest_xray_full/data/\", \n",
    "                       output=\"partitioned_data_7\", \n",
    "                       seed=1337, \n",
    "                       ratio=(.7, .15, .15), \n",
    "                       group_prefix=None, \n",
    "                       move=False)\n",
    "\n",
    "# Copying files: 5856 files [01:44, 55.89 files/s] "
   ]
  },
  {
   "cell_type": "markdown",
   "id": "da434bef",
   "metadata": {},
   "source": [
    "## Loading data with DataLoader"
   ]
  },
  {
   "cell_type": "code",
   "execution_count": 8,
   "id": "a54ef76a",
   "metadata": {
    "ExecuteTime": {
     "end_time": "2023-07-18T15:51:17.780658Z",
     "start_time": "2023-07-18T15:51:17.764645Z"
    }
   },
   "outputs": [],
   "source": [
    "transform = transforms.Compose(\n",
    "    [transforms.ToTensor(),\n",
    "     transforms.Normalize(0.5, 0.5)])"
   ]
  },
  {
   "cell_type": "markdown",
   "id": "308f31ec",
   "metadata": {},
   "source": [
    "- By using a DataLoader we prevent running out of memory and allow the data to be read in parallel."
   ]
  },
  {
   "cell_type": "code",
   "execution_count": 9,
   "id": "88ec7fcb",
   "metadata": {
    "ExecuteTime": {
     "end_time": "2023-07-18T15:51:19.505210Z",
     "start_time": "2023-07-18T15:51:19.425213Z"
    }
   },
   "outputs": [],
   "source": [
    "data_train = ImageFolder(root='./partitioned_data_7/train/', loader=img_loader,\n",
    "                         transform=transform)\n",
    "\n",
    "data_val = ImageFolder(root='./partitioned_data_7/val/', loader=img_loader,\n",
    "                       transform=transform)\n",
    "\n",
    "data_test = ImageFolder(root='./partitioned_data_7/test/', loader=img_loader,\n",
    "                        transform=transform)\n",
    "\n",
    "trainloader = torch.utils.data.DataLoader(data_train, batch_size=4, \n",
    "                                          shuffle=True, num_workers=0)\n",
    "\n",
    "valloader = torch.utils.data.DataLoader(data_val, batch_size=4, \n",
    "                                        shuffle=False, num_workers=0)\n",
    "\n",
    "testloader = torch.utils.data.DataLoader(data_test, batch_size=4,\n",
    "                                         shuffle=False, num_workers=0)"
   ]
  },
  {
   "cell_type": "code",
   "execution_count": 10,
   "id": "c548ef07",
   "metadata": {
    "ExecuteTime": {
     "end_time": "2023-07-18T15:51:23.665728Z",
     "start_time": "2023-07-18T15:51:23.644723Z"
    }
   },
   "outputs": [],
   "source": [
    "def count_classes(loader):\n",
    "    class_list = torch.Tensor()\n",
    "    for data in loader:\n",
    "        _, labels = data\n",
    "        class_list = torch.cat((class_list, labels))\n",
    "    return class_list\n",
    "\n",
    "if run_split_folders:\n",
    "    train_labels = count_classes(trainloader)\n",
    "    val_labels   = count_classes(valloader)\n",
    "    test_labels  = count_classes(testloader)\n",
    "    \n",
    "    df_count_samples = pd.DataFrame(index=['Training', 'Validation','Test'])\n",
    "    df_count_samples['Total Size'] =[len(train_labels), len(val_labels), len(test_labels)]\n",
    "    df_count_samples['Class 0'] = [int(len(train_labels)-train_labels.sum()),int(len(val_labels)-val_labels.sum()),int(len(test_labels)-test_labels.sum())]\n",
    "    df_count_samples['Class 1'] = df_count_samples['Total Size'] - df_count_samples['Class 0']\n",
    "    df_count_samples.to_pickle('./workflow_data/df_count_samples.pkl')\n",
    "else:\n",
    "    df_count_samples = pd.read_pickle('./workflow_data/df_count_samples.pkl')\n",
    "    \n",
    "#1m40s"
   ]
  },
  {
   "cell_type": "code",
   "execution_count": 11,
   "id": "c3b80dc9",
   "metadata": {
    "ExecuteTime": {
     "end_time": "2023-07-18T15:51:24.846666Z",
     "start_time": "2023-07-18T15:51:24.811655Z"
    }
   },
   "outputs": [
    {
     "data": {
      "text/html": [
       "<div>\n",
       "<style scoped>\n",
       "    .dataframe tbody tr th:only-of-type {\n",
       "        vertical-align: middle;\n",
       "    }\n",
       "\n",
       "    .dataframe tbody tr th {\n",
       "        vertical-align: top;\n",
       "    }\n",
       "\n",
       "    .dataframe thead th {\n",
       "        text-align: right;\n",
       "    }\n",
       "</style>\n",
       "<table border=\"1\" class=\"dataframe\">\n",
       "  <thead>\n",
       "    <tr style=\"text-align: right;\">\n",
       "      <th></th>\n",
       "      <th>Total Size</th>\n",
       "      <th>Class 0</th>\n",
       "      <th>Class 1</th>\n",
       "    </tr>\n",
       "  </thead>\n",
       "  <tbody>\n",
       "    <tr>\n",
       "      <th>Training</th>\n",
       "      <td>4099</td>\n",
       "      <td>1108</td>\n",
       "      <td>2991</td>\n",
       "    </tr>\n",
       "    <tr>\n",
       "      <th>Validation</th>\n",
       "      <td>877</td>\n",
       "      <td>237</td>\n",
       "      <td>640</td>\n",
       "    </tr>\n",
       "    <tr>\n",
       "      <th>Test</th>\n",
       "      <td>880</td>\n",
       "      <td>238</td>\n",
       "      <td>642</td>\n",
       "    </tr>\n",
       "  </tbody>\n",
       "</table>\n",
       "</div>"
      ],
      "text/plain": [
       "            Total Size  Class 0  Class 1\n",
       "Training          4099     1108     2991\n",
       "Validation         877      237      640\n",
       "Test               880      238      642"
      ]
     },
     "execution_count": 11,
     "metadata": {},
     "output_type": "execute_result"
    }
   ],
   "source": [
    "df_count_samples"
   ]
  },
  {
   "cell_type": "code",
   "execution_count": 12,
   "id": "5f83808c",
   "metadata": {
    "ExecuteTime": {
     "end_time": "2023-07-18T15:51:26.926913Z",
     "start_time": "2023-07-18T15:51:26.905911Z"
    }
   },
   "outputs": [
    {
     "data": {
      "text/plain": [
       "{'NORMAL': 0, 'PNEUMONIA': 1}"
      ]
     },
     "execution_count": 12,
     "metadata": {},
     "output_type": "execute_result"
    }
   ],
   "source": [
    "data_train.class_to_idx"
   ]
  },
  {
   "cell_type": "markdown",
   "id": "4ac143b3",
   "metadata": {},
   "source": [
    "- As we can see, the data is not balanced; the dominand class is \"Class 1\" - Pneumonia. That means we should look into other metrics as well besides accuracy."
   ]
  },
  {
   "cell_type": "code",
   "execution_count": 13,
   "id": "82ebbb8f",
   "metadata": {
    "ExecuteTime": {
     "end_time": "2023-07-18T15:51:28.060909Z",
     "start_time": "2023-07-18T15:51:28.053909Z"
    }
   },
   "outputs": [],
   "source": [
    "classes_t = data_train.classes"
   ]
  },
  {
   "cell_type": "code",
   "execution_count": 14,
   "id": "50b6fb48",
   "metadata": {
    "ExecuteTime": {
     "end_time": "2023-07-18T15:51:28.599912Z",
     "start_time": "2023-07-18T15:51:28.564910Z"
    }
   },
   "outputs": [],
   "source": [
    "dataiter = iter(trainloader)"
   ]
  },
  {
   "cell_type": "code",
   "execution_count": 17,
   "id": "d4c9ad10",
   "metadata": {
    "ExecuteTime": {
     "end_time": "2023-07-18T15:51:34.105713Z",
     "start_time": "2023-07-18T15:51:34.007718Z"
    }
   },
   "outputs": [],
   "source": [
    "images, labels = next(dataiter)"
   ]
  },
  {
   "cell_type": "markdown",
   "id": "103ac78f",
   "metadata": {},
   "source": [
    "- Sampling the data:"
   ]
  },
  {
   "cell_type": "code",
   "execution_count": 18,
   "id": "38120d9e",
   "metadata": {
    "ExecuteTime": {
     "end_time": "2023-07-18T15:51:34.957837Z",
     "start_time": "2023-07-18T15:51:34.619633Z"
    }
   },
   "outputs": [
    {
     "data": {
      "image/png": "[encoded data removed]",
      "text/plain": [
       "<Figure size 640x480 with 1 Axes>"
      ]
     },
     "metadata": {},
     "output_type": "display_data"
    },
    {
     "name": "stdout",
     "output_type": "stream",
     "text": [
      "PNEUMONIA PNEUMONIA NORMAL PNEUMONIA\n"
     ]
    }
   ],
   "source": [
    "imshow(torchvision.utils.make_grid(images))\n",
    "\n",
    "print(' '.join('%5s' % classes_t[labels[j]] for j in range(4)))"
   ]
  },
  {
   "cell_type": "markdown",
   "id": "fd184a43",
   "metadata": {
    "ExecuteTime": {
     "end_time": "2023-06-23T07:14:29.192680Z",
     "start_time": "2023-06-23T07:14:29.187678Z"
    }
   },
   "source": [
    "<a id = 'model'></a>\n",
    "# The model"
   ]
  },
  {
   "cell_type": "markdown",
   "id": "cf637c3b",
   "metadata": {
    "ExecuteTime": {
     "end_time": "2023-07-19T16:42:52.965377Z",
     "start_time": "2023-07-19T16:42:52.954372Z"
    }
   },
   "source": [
    "[Introduction](#Introduction) [Imports](#Imports) [Helper](#Helper)  >>  \n",
    "[Data](#data) [Model](#model)  [Initial Data](#initial) [Sampling Initial Data](#sampling)  >>\n",
    "[Bayesian Optimization](#bayesian) [Imports BO](#imports_bo) [BO Search](#bo_search) >> [Epochs Choice](#epochs) [Final Model](#final) [Confusion Matrix](#confusion_matrix)"
   ]
  },
  {
   "cell_type": "markdown",
   "id": "0c4f4b99",
   "metadata": {},
   "source": [
    "## The standard model"
   ]
  },
  {
   "cell_type": "markdown",
   "id": "e5a57ba0",
   "metadata": {},
   "source": [
    "The diagrams below illustrate the architecture of a classical LeNet-5 Network.\n"
   ]
  },
  {
   "attachments": {
    "1lvvWF48t7cyRWqct13eU0w.jpeg": {
     "image/jpeg": "[encoded data removed]"
    }
   },
   "cell_type": "markdown",
   "id": "04645272",
   "metadata": {},
   "source": [
    "![1lvvWF48t7cyRWqct13eU0w.jpeg](attachment:1lvvWF48t7cyRWqct13eU0w.jpeg)"
   ]
  },
  {
   "attachments": {
    "1gNzz6vvWmF6tDN6pTRTd9g.jpeg": {
     "image/jpeg": "[encoded data removed]"
    }
   },
   "cell_type": "markdown",
   "id": "8be1152d",
   "metadata": {},
   "source": [
    "![1gNzz6vvWmF6tDN6pTRTd9g.jpeg](attachment:1gNzz6vvWmF6tDN6pTRTd9g.jpeg)"
   ]
  },
  {
   "cell_type": "markdown",
   "id": "03a056b7",
   "metadata": {},
   "source": [
    "*Source: https://www.datasciencecentral.com*"
   ]
  },
  {
   "cell_type": "markdown",
   "id": "62f4767e",
   "metadata": {},
   "source": [
    "LeNet-5 is a convolutional neural network (CNN) architecture developed by Yann LeCun in 1998 for handwritten digit recognition. It consists of seven layers, including two convolutional layers, two pooling layers, and two fully connected layers. The first convolutional layer extracts features using a 5x5 filter, followed by a pooling layer. The second convolutional layer extracts more complex features using a 5x5 filter, followed by another pooling layer. The extracted features are then flattened and fed into two fully connected layers, with the final layer producing the classification output. LeNet-5 played a significant role in popularizing CNNs and laid the foundation for modern deep-learning applications."
   ]
  },
  {
   "cell_type": "markdown",
   "id": "2c4689d0",
   "metadata": {},
   "source": [
    "We will use the traditional LeNet-5 architecture as a prototype for a versatile model that will be enhanced through optimization."
   ]
  },
  {
   "cell_type": "markdown",
   "id": "3e8add31",
   "metadata": {},
   "source": [
    "## The versatile model"
   ]
  },
  {
   "cell_type": "markdown",
   "id": "4d0a5ac0",
   "metadata": {},
   "source": [
    "The model has been rewritten to allow for different hyperparameter definitions:\n",
    "- Number of ouputs of each convolutional layer\n",
    "- Kernel size used in each convolutional layer \n",
    "- Filter Size and Stride Step for MaxPool layer\n",
    "\n",
    "That makes so far 6 parameters we will be optimizing in this project. There will be 8 parameters(including the optimizer learning rate and momentum). Also, the input layer, in our case, will consist of resized images to 224x224 pixels."
   ]
  },
  {
   "cell_type": "code",
   "execution_count": 19,
   "id": "0edfe67d",
   "metadata": {
    "ExecuteTime": {
     "end_time": "2023-07-18T15:51:57.990108Z",
     "start_time": "2023-07-18T15:51:57.952302Z"
    }
   },
   "outputs": [],
   "source": [
    "class LeNet(nn.Module):\n",
    "    def __init__(self, conv1out=6, conv1kernel=5, filter_size=2, stride_step=2,\n",
    "                 conv2out=16, conv2kernel=5, fc1_dims=(1,1,1), name=None):\n",
    "        super(LeNet, self).__init__()\n",
    "        if name:\n",
    "            self.name = name\n",
    "\n",
    "        self.conv1 = nn.Conv2d(1, conv1out, conv1kernel)  # * 1 input channel,12 outputs 5x5 kernel size | input_channels, output channels, filter size\n",
    "        self.pool = nn.MaxPool2d(filter_size, stride_step) # ** filter size, stride size # acts the same way in each channele, it does not know the number of channels fo the input\n",
    "        self.conv2 = nn.Conv2d(conv1out, conv2out, conv2kernel)\n",
    "\n",
    "        self.fc1_checked = False  # fc1 is initilized with garbage\n",
    "                                  # fc1 gets adjusted first time forward pass\n",
    "                                  # is called:\n",
    "        self.fc1 = nn.Linear(fc1_dims[0] * fc1_dims[1] * fc1_dims[2], 120)  # shape changes\n",
    "        \n",
    "        self.fc2 = nn.Linear(120, 84)\n",
    "        self.fc3 = nn.Linear(84, 2) #  \n",
    "        \n",
    "        # compute the total number of parameters\n",
    "        self.total_params = sum(p.numel() for p in self.parameters() if p.requires_grad)\n",
    "        print(self.name + ': total params:', self.total_params)\n",
    "        print('* fc1 to be adjusted')\n",
    "        \n",
    "\n",
    "    def forward(self, x):\n",
    "        \n",
    "        x = self.pool(F.relu(self.conv1(x)))\n",
    "        x = self.pool(F.relu(self.conv2(x)))\n",
    "        # print(x.shape) ### \n",
    "        \n",
    "        if self.fc1_checked == False:  # updates fc1 first time it is called\n",
    "            self.fc1_dims = (x.shape[1], x.shape[2], x.shape[3])  # redundant\n",
    "            self.fc1_dims_total = self.fc1_dims[0] * self.fc1_dims[1] * self.fc1_dims[2]\n",
    "            self.fc1 = nn.Linear(self.fc1_dims_total, 120)  # updates fc1 to proper values\n",
    "            self.fc1_checked = True\n",
    "            \n",
    "            # compute the total number of parameters\n",
    "            print('Network has been updated:')\n",
    "            self.total_params = sum(p.numel() for p in self.parameters() if p.requires_grad)\n",
    "            print(self.name + ': total params:', self.total_params)\n",
    "            print(self)\n",
    "\n",
    "        x = x.view(-1, self.fc1_dims_total)\n",
    "        x = F.relu(self.fc1(x))\n",
    "        x = F.relu(self.fc2(x))\n",
    "        x = self.fc3(x)\n",
    "        \n",
    "        return x\n",
    "    \n",
    "\n"
   ]
  },
  {
   "cell_type": "code",
   "execution_count": 20,
   "id": "049adf4e",
   "metadata": {
    "ExecuteTime": {
     "end_time": "2023-07-18T15:52:00.074125Z",
     "start_time": "2023-07-18T15:52:00.058500Z"
    }
   },
   "outputs": [],
   "source": [
    "# writer = SummaryWriter()  # So we can track the training stats // decided to use just tables for now."
   ]
  },
  {
   "cell_type": "markdown",
   "id": "f08ee4a9",
   "metadata": {},
   "source": [
    "## The training function"
   ]
  },
  {
   "cell_type": "markdown",
   "id": "6f100f9e",
   "metadata": {},
   "source": [
    "The function model_training takes 8 hyperparameters and **calls the model** according to the provided parameters. Note there is a 9th parameter which is the epoch number, however we won´t be using Bayesian Optimization for this parameter."
   ]
  },
  {
   "cell_type": "code",
   "execution_count": 130,
   "id": "7867dd60",
   "metadata": {
    "ExecuteTime": {
     "end_time": "2023-07-19T15:56:54.955749Z",
     "start_time": "2023-07-19T15:56:54.922508Z"
    }
   },
   "outputs": [],
   "source": [
    "def model_training(lr=0.001, momentum=0.9, conv1out=6, \n",
    "                   conv1kernel=5, filter_size=2, \n",
    "                   stride_step=2, conv2out=16, conv2kernel=5, epochs = 2, saving_models = False):\n",
    "    start = time.time()  # so we start keeping track of time\n",
    "    \n",
    "    experiment_number = 0  #  TODO: implement experiment number for testing different models at the same time...\n",
    "\n",
    "    # test_models = [(1,1,1,1,1)]  # TODO: possible models passed along the model training call.\n",
    "    \n",
    "    set_seeds()  # so  results are consistent.\n",
    "    \n",
    "    experiment_number += 1\n",
    "\n",
    "    \n",
    "    # Create a new model object each experiment:\n",
    "    model = LeNet(conv1out=conv1out, conv1kernel=conv1kernel, filter_size=filter_size, \n",
    "                        stride_step=stride_step, conv2out=conv2out, conv2kernel=conv2kernel,\n",
    "                        name='LeNet5 adjustable')\n",
    "    \n",
    "    with torch.no_grad():  # so params dont updt - tweak for configuring the network\n",
    "        model(images)      # this updates the network params with a sample of the input\n",
    "                           # without weight updates,  before setting up optimizer.\n",
    "                           # There should be a more elegant way of doing this.\n",
    "\n",
    "    # Loss and optimizer, here we pass the lr and the momentum:\n",
    "    criterion = nn.CrossEntropyLoss()\n",
    "    optimizer = optim.SGD(model.parameters(), lr=lr, momentum=momentum)  \n",
    "\n",
    "    accuracy_results = []  # tracking val. accuracy throught epochs\n",
    "    recall_results = []    # tracking recall score\n",
    "    f2score_results = []   # f2score\n",
    "    \n",
    "    # The epoch loop:\n",
    "    for epoch in range(epochs):  # loop over the dataset multiple times\n",
    "\n",
    "        running_loss = 0.0\n",
    "        for i, data in enumerate(trainloader, 0):\n",
    "            # get the inputs; data is a list of [inputs, labels]\n",
    "            inputs, labels = data\n",
    "\n",
    "            # zero the parameter gradients\n",
    "            optimizer.zero_grad()\n",
    "\n",
    "            # forward + backward + optimize\n",
    "            outputs = model(inputs)\n",
    "            loss = criterion(outputs, labels)\n",
    "            loss.backward()\n",
    "            optimizer.step()\n",
    "\n",
    "            # print statistics\n",
    "            running_loss += loss.item()\n",
    "            if i % 100 == 99:    # print every x mini-batches\n",
    "                print('[%d, %5d] loss: %.3f' %\n",
    "                      (epoch + 1, i + 1, running_loss / 100))\n",
    "                running_loss = 0.0\n",
    "                \n",
    "        print(f'Epoch concluded #: {epoch + 1}')\n",
    "\n",
    "        accuracy, recall, f2score =  perf_check_overall(model, valloader)  # returns: accuracy, recall\n",
    "       \n",
    "        accuracy_results.append(accuracy)  # prepare list of values\n",
    "        recall_results.append(recall)      # to be returned\n",
    "        f2score_results.append(f2score)    # epoch by epoch\n",
    "        \n",
    "        # Saving the model with highest:\n",
    "        \n",
    "        if saving_models:\n",
    "            if np.max(accuracy_results) > accuracy:\n",
    "                save_best = True\n",
    "            else:\n",
    "                save_best = False\n",
    "\n",
    "            if save_best:  # save the final model w/ best val. accuracy\n",
    "\n",
    "                checkpoint = {\n",
    "                    'epoch': epoch,  # or epoch + 1\n",
    "                    'state_dict': model.state_dict(),\n",
    "                    'optimizer': optimizer.state_dict()\n",
    "                }\n",
    "\n",
    "                is_best = True # it is the best so it will copy to model_best folder\n",
    "                checkpoint_dir = './models'\n",
    "                best_model_dir = './model_best'\n",
    "\n",
    "                save_ckp(checkpoint, is_best, checkpoint_dir, best_model_dir)\n",
    "            \n",
    "            \n",
    "            \n",
    "        \n",
    "\n",
    "    end = time.time()\n",
    "    print('Finished training. Time taken: ', end-start)\n",
    "        \n",
    "    global total_params_\n",
    "    total_params_ = model.total_params\n",
    "\n",
    "    return accuracy_results, recall_results, f2score_results\n",
    "\n",
    "    \n",
    "    "
   ]
  },
  {
   "cell_type": "markdown",
   "id": "c4750965",
   "metadata": {},
   "source": [
    "<a id='initial'></a>\n",
    "# Getting initial sample data"
   ]
  },
  {
   "cell_type": "markdown",
   "id": "13260d24",
   "metadata": {
    "ExecuteTime": {
     "end_time": "2023-07-19T16:42:52.965377Z",
     "start_time": "2023-07-19T16:42:52.954372Z"
    }
   },
   "source": [
    "[Introduction](#Introduction) [Imports](#Imports) [Helper](#Helper)  >>  \n",
    "[Data](#data) [Model](#model)  [Initial Data](#initial) [Sampling Initial Data](#sampling)  >>\n",
    "[Bayesian Optimization](#bayesian) [Imports BO](#imports_bo) [BO Search](#bo_search) >> [Epochs Choice](#epochs) [Final Model](#final) [Confusion Matrix](#confusion_matrix)"
   ]
  },
  {
   "cell_type": "markdown",
   "id": "a795b20a",
   "metadata": {
    "ExecuteTime": {
     "end_time": "2023-06-25T14:44:24.638854Z",
     "start_time": "2023-06-25T14:44:24.624853Z"
    }
   },
   "source": [
    "For speed, some parts of the code are run only once, and the results are stored to a pickle file.\n",
    "\n",
    "- Here, we generate, using random parameters, some data points to query the model.\n",
    "- This will be used later on to provide initial data for the Bayesian Optimizer.\n",
    "- One should note that we will use Trust Region Search with BoTorch. It requires data to be between 0 and 1. So to use the data, we can apply minmax on these parameters before passing it to be searched.\n",
    "\n",
    "*To regenerate this data, just set gen_samples = True.*"
   ]
  },
  {
   "cell_type": "code",
   "execution_count": 23,
   "id": "30fb3578",
   "metadata": {
    "ExecuteTime": {
     "end_time": "2023-07-18T15:52:08.069838Z",
     "start_time": "2023-07-18T15:52:08.022962Z"
    },
    "scrolled": false
   },
   "outputs": [
    {
     "data": {
      "text/html": [
       "<div>\n",
       "<style scoped>\n",
       "    .dataframe tbody tr th:only-of-type {\n",
       "        vertical-align: middle;\n",
       "    }\n",
       "\n",
       "    .dataframe tbody tr th {\n",
       "        vertical-align: top;\n",
       "    }\n",
       "\n",
       "    .dataframe thead th {\n",
       "        text-align: right;\n",
       "    }\n",
       "</style>\n",
       "<table border=\"1\" class=\"dataframe\">\n",
       "  <thead>\n",
       "    <tr style=\"text-align: right;\">\n",
       "      <th></th>\n",
       "      <th>lr</th>\n",
       "      <th>momentum</th>\n",
       "      <th>conv1out</th>\n",
       "      <th>conv1kernel</th>\n",
       "      <th>filter_size</th>\n",
       "      <th>stride_step</th>\n",
       "      <th>conv2out</th>\n",
       "      <th>conv2_kernel</th>\n",
       "    </tr>\n",
       "  </thead>\n",
       "  <tbody>\n",
       "    <tr>\n",
       "      <th>0</th>\n",
       "      <td>0.0050</td>\n",
       "      <td>0.900</td>\n",
       "      <td>4</td>\n",
       "      <td>6</td>\n",
       "      <td>4</td>\n",
       "      <td>1</td>\n",
       "      <td>16</td>\n",
       "      <td>4</td>\n",
       "    </tr>\n",
       "    <tr>\n",
       "      <th>1</th>\n",
       "      <td>0.0005</td>\n",
       "      <td>0.900</td>\n",
       "      <td>6</td>\n",
       "      <td>4</td>\n",
       "      <td>4</td>\n",
       "      <td>1</td>\n",
       "      <td>16</td>\n",
       "      <td>5</td>\n",
       "    </tr>\n",
       "    <tr>\n",
       "      <th>2</th>\n",
       "      <td>0.0050</td>\n",
       "      <td>0.900</td>\n",
       "      <td>8</td>\n",
       "      <td>6</td>\n",
       "      <td>4</td>\n",
       "      <td>4</td>\n",
       "      <td>20</td>\n",
       "      <td>6</td>\n",
       "    </tr>\n",
       "    <tr>\n",
       "      <th>3</th>\n",
       "      <td>0.0020</td>\n",
       "      <td>0.700</td>\n",
       "      <td>8</td>\n",
       "      <td>5</td>\n",
       "      <td>4</td>\n",
       "      <td>4</td>\n",
       "      <td>20</td>\n",
       "      <td>4</td>\n",
       "    </tr>\n",
       "    <tr>\n",
       "      <th>4</th>\n",
       "      <td>0.0020</td>\n",
       "      <td>0.999</td>\n",
       "      <td>6</td>\n",
       "      <td>4</td>\n",
       "      <td>3</td>\n",
       "      <td>4</td>\n",
       "      <td>20</td>\n",
       "      <td>6</td>\n",
       "    </tr>\n",
       "    <tr>\n",
       "      <th>5</th>\n",
       "      <td>0.0010</td>\n",
       "      <td>0.700</td>\n",
       "      <td>6</td>\n",
       "      <td>5</td>\n",
       "      <td>3</td>\n",
       "      <td>1</td>\n",
       "      <td>20</td>\n",
       "      <td>5</td>\n",
       "    </tr>\n",
       "    <tr>\n",
       "      <th>6</th>\n",
       "      <td>0.0050</td>\n",
       "      <td>0.900</td>\n",
       "      <td>8</td>\n",
       "      <td>5</td>\n",
       "      <td>3</td>\n",
       "      <td>4</td>\n",
       "      <td>16</td>\n",
       "      <td>6</td>\n",
       "    </tr>\n",
       "    <tr>\n",
       "      <th>7</th>\n",
       "      <td>0.0005</td>\n",
       "      <td>0.700</td>\n",
       "      <td>4</td>\n",
       "      <td>4</td>\n",
       "      <td>2</td>\n",
       "      <td>1</td>\n",
       "      <td>14</td>\n",
       "      <td>4</td>\n",
       "    </tr>\n",
       "    <tr>\n",
       "      <th>8</th>\n",
       "      <td>0.0020</td>\n",
       "      <td>0.999</td>\n",
       "      <td>12</td>\n",
       "      <td>6</td>\n",
       "      <td>4</td>\n",
       "      <td>4</td>\n",
       "      <td>20</td>\n",
       "      <td>6</td>\n",
       "    </tr>\n",
       "  </tbody>\n",
       "</table>\n",
       "</div>"
      ],
      "text/plain": [
       "       lr  momentum  conv1out  conv1kernel  filter_size  stride_step   \n",
       "0  0.0050     0.900         4            6            4            1  \\\n",
       "1  0.0005     0.900         6            4            4            1   \n",
       "2  0.0050     0.900         8            6            4            4   \n",
       "3  0.0020     0.700         8            5            4            4   \n",
       "4  0.0020     0.999         6            4            3            4   \n",
       "5  0.0010     0.700         6            5            3            1   \n",
       "6  0.0050     0.900         8            5            3            4   \n",
       "7  0.0005     0.700         4            4            2            1   \n",
       "8  0.0020     0.999        12            6            4            4   \n",
       "\n",
       "   conv2out  conv2_kernel  \n",
       "0        16             4  \n",
       "1        16             5  \n",
       "2        20             6  \n",
       "3        20             4  \n",
       "4        20             6  \n",
       "5        20             5  \n",
       "6        16             6  \n",
       "7        14             4  \n",
       "8        20             6  "
      ]
     },
     "execution_count": 23,
     "metadata": {},
     "output_type": "execute_result"
    }
   ],
   "source": [
    "\n",
    "gen_samples = False\n",
    "if gen_samples:\n",
    "    lr_list           = [0.0005, 0.001, 0.005,  0.002]  # make sure it is ordered for setting up bounds bellow\n",
    "    momentum_list     = [0.7, 0.9,  0.999]\n",
    "    conv1out_list     = [4, 6, 8, 12] \n",
    "    conv1kernel_list  = [4, 5, 6]\n",
    "    filter_size_list  = [2, 3, 4]\n",
    "    stride_step_list  = [1, 4]\n",
    "    conv2out_list     = [14, 16, 20]\n",
    "    conv2kernel_list  = [4, 5, 6]\n",
    "    \n",
    "    sample_size = 7  # setting  samples.\n",
    "\n",
    "    np.random.seed = 41\n",
    "    np.random.choice(lr_list           , size = sample_size)  # setting x samples.\n",
    "    np.random.choice(momentum_list     , size = sample_size)\n",
    "    np.random.choice(conv1out_list     , size = sample_size)\n",
    "    np.random.choice(conv1kernel_list  , size = sample_size)\n",
    "    np.random.choice(filter_size_list  , size = sample_size)\n",
    "    np.random.choice(stride_step_list  , size = sample_size)\n",
    "    np.random.choice(conv2out_list     , size = sample_size)\n",
    "    np.random.choice(conv2kernel_list  , size = sample_size)\n",
    "\n",
    "    df_random_samples = pd.DataFrame(columns=['lr','momentum','conv1out',\n",
    "                                             'conv1kernel','filter_size',\n",
    "                                             'stride_step','conv2out',\n",
    "                                             'conv2_kernel'])\n",
    "    \n",
    "\n",
    "    \n",
    "    for i in range(sample_size):  # we are setting 16 samples\n",
    "        df_random_samples['lr']           = np.random.choice(lr_list           , size = sample_size)\n",
    "        df_random_samples['momentum']     = np.random.choice(momentum_list     , size = sample_size)\n",
    "        df_random_samples['conv1out']     = np.random.choice(conv1out_list     , size = sample_size)\n",
    "        df_random_samples['conv1kernel']  = np.random.choice(conv1kernel_list  , size = sample_size)\n",
    "        df_random_samples['filter_size']  = np.random.choice(filter_size_list  , size = sample_size)\n",
    "        df_random_samples['stride_step']  = np.random.choice(stride_step_list  , size = sample_size)\n",
    "        df_random_samples['conv2out']     = np.random.choice(conv2out_list     , size = sample_size)\n",
    "        df_random_samples['conv2_kernel'] = np.random.choice(conv2kernel_list  , size = sample_size)\n",
    "        \n",
    "\n",
    "    # Making sure we include the 'boundary':\n",
    "    for a in [0,-1]:\n",
    "        df_random_samples.loc[len(df_random_samples)] = [lr_list[a]         ,\n",
    "                                                        momentum_list[a]    ,\n",
    "                                                        conv1out_list[a]    ,\n",
    "                                                        conv1kernel_list[a] ,\n",
    "                                                        filter_size_list[a] ,\n",
    "                                                        stride_step_list[a] ,\n",
    "                                                        conv2out_list[a]    ,\n",
    "                                                        conv2kernel_list[a] ]\n",
    "    \n",
    "    \n",
    "    # We have to set types, otherwise model input wont accepts 'floats' for 'int' params.:\n",
    "    df_random_samples = df_random_samples.astype({'lr':'float', 'momentum':'float',\n",
    "                                                  'conv1out':'int32', 'conv1kernel':'int',\n",
    "                                                  'filter_size':'int','stride_step':'int',\n",
    "                                                  'conv2out':'int','conv2_kernel':'int' })\n",
    "    \n",
    "    df_random_samples.to_pickle(\"./workflow_data/df_random_samples.pkl\")\n",
    "    \n",
    "else:\n",
    "    try:\n",
    "        df_random_samples = pd.read_pickle(\"./workflow_data/df_random_samples.pkl\")\n",
    "    except:\n",
    "        print(\"Need to create initial samples, set gen_samples to True or check files\")\n",
    "    \n",
    "\n",
    "df_random_samples\n"
   ]
  },
  {
   "cell_type": "code",
   "execution_count": 117,
   "id": "2b58dcc3",
   "metadata": {
    "ExecuteTime": {
     "end_time": "2023-07-19T14:14:39.864017Z",
     "start_time": "2023-07-19T14:14:39.824441Z"
    }
   },
   "outputs": [
    {
     "data": {
      "text/plain": [
       "True"
      ]
     },
     "execution_count": 117,
     "metadata": {},
     "output_type": "execute_result"
    }
   ],
   "source": [
    "# Checks if random generator yield duplicates: \n",
    "# True means no duplicates in this case\n",
    "len(df_random_samples) == len(df_random_samples.drop_duplicates())  "
   ]
  },
  {
   "cell_type": "markdown",
   "id": "11f62173",
   "metadata": {},
   "source": [
    "<a id='sampling'></a>\n",
    "# Sampling the initial Data"
   ]
  },
  {
   "cell_type": "markdown",
   "id": "13078c2e",
   "metadata": {
    "ExecuteTime": {
     "end_time": "2023-07-19T16:42:52.965377Z",
     "start_time": "2023-07-19T16:42:52.954372Z"
    }
   },
   "source": [
    "[Introduction](#Introduction) [Imports](#Imports) [Helper](#Helper)  >>  \n",
    "[Data](#data) [Model](#model)  [Initial Data](#initial) [Sampling Initial Data](#sampling)  >>\n",
    "[Bayesian Optimization](#bayesian) [Imports BO](#imports_bo) [BO Search](#bo_search) >> [Epochs Choice](#epochs) [Final Model](#final) [Confusion Matrix](#confusion_matrix)"
   ]
  },
  {
   "cell_type": "markdown",
   "id": "05aa3275",
   "metadata": {},
   "source": [
    "- Following the creation of data points in the previous section, here we query the model for the results of these points.\n",
    "- Results are stored in a list - accuracy_lists_experiments  \n",
    "  \n",
    "*Set running_init_samples = True to run this part*"
   ]
  },
  {
   "cell_type": "code",
   "execution_count": 25,
   "id": "fa9518cf",
   "metadata": {
    "ExecuteTime": {
     "end_time": "2023-07-18T15:52:11.952167Z",
     "start_time": "2023-07-18T15:52:11.936558Z"
    }
   },
   "outputs": [],
   "source": [
    "# model_training()"
   ]
  },
  {
   "cell_type": "code",
   "execution_count": 26,
   "id": "ffb8a15d",
   "metadata": {
    "ExecuteTime": {
     "end_time": "2023-07-18T15:52:13.974645Z",
     "start_time": "2023-07-18T15:52:13.959034Z"
    },
    "scrolled": true
   },
   "outputs": [],
   "source": [
    "running_init_samples = False\n",
    "\n",
    "if running_init_samples == True:\n",
    "    \n",
    "    # performance_returned = []\n",
    "    accuracy_lists_experiments = []\n",
    "    recall_lists_experiments = []\n",
    "    f2score_lists_experiments = []\n",
    "    \n",
    "    time_taken_experiments = []\n",
    "    num_params_list = []\n",
    "    for i in range(len(df_random_samples)):  # this loops through each experiment - Not epochs!! range(2) for testing\n",
    "        print(f'Generating {i}')\n",
    "        start = time.time()\n",
    "        performance_returned= model_training(lr          = df_random_samples.loc[i,'lr'],\n",
    "                                             momentum    = df_random_samples.loc[i,'momentum'],\n",
    "                                             conv1out    = df_random_samples.loc[i,'conv1out'],\n",
    "                                             conv1kernel = df_random_samples.loc[i,'conv1kernel'],\n",
    "                                             filter_size = df_random_samples.loc[i,'filter_size'],\n",
    "                                             stride_step = df_random_samples.loc[i,'stride_step'],\n",
    "                                             conv2out    = df_random_samples.loc[i,'conv2out'],\n",
    "                                             conv2kernel = df_random_samples.loc[i,'conv2_kernel'],\n",
    "                                             epochs      = 5\n",
    "                                            )\n",
    "        \n",
    "        num_params_list.append(total_params_)\n",
    "        \n",
    "        accuracy_lists_experiments.append(performance_returned[0])\n",
    "        recall_lists_experiments.append(performance_returned[1])\n",
    "        f2score_lists_experiments.append(performance_returned[2])\n",
    "        \n",
    "        end = time.time()\n",
    "        time_taken = end - start\n",
    "        time_taken_experiments.append(time_taken)\n",
    "        \n",
    "\n",
    "# executed in 4h 0m 51s, finished 20:36:21 2023-06-27"
   ]
  },
  {
   "cell_type": "markdown",
   "id": "a564b835",
   "metadata": {},
   "source": [
    "- Sample output:\n",
    "\n",
    "```python\n",
    "Generating 0\n",
    "LeNet5 adjustable: total params: 12708\n",
    "* fc1 to be adjusted\n",
    "Network has been updated:\n",
    "LeNet5 adjustable: total params: 296508\n",
    "LeNet(\n",
    "  (conv1): Conv2d(1, 4, kernel_size=(5, 5), stride=(1, 1))\n",
    "  (pool): MaxPool2d(kernel_size=2, stride=4, padding=0, dilation=1, ceil_mode=False)\n",
    "  (conv2): Conv2d(4, 14, kernel_size=(6, 6), stride=(1, 1))\n",
    "  (fc1): Linear(in_features=2366, out_features=120, bias=True)\n",
    "  (fc2): Linear(in_features=120, out_features=84, bias=True)\n",
    "  (fc3): Linear(in_features=84, out_features=2, bias=True)\n",
    ")\n",
    "[1,   100] loss: 0.639\n",
    "[1,   200] loss: 0.589\n",
    "[1,   300] loss: 0.562\n",
    "[1,   400] loss: 0.572\n",
    "[1,   500] loss: 0.472\n",
    "[1,   600] loss: 0.353\n",
    "[1,   700] loss: 0.230\n",
    "[1,   800] loss: 0.305\n",
    "[1,   900] loss: 0.222\n",
    "[1,  1000] loss: 0.211\n",
    "Epoch concluded #: 1\n",
    "Recall -> 0.9671875\n",
    "Accuracy -> 0.928164196123147\n",
    "f2 score -> 0.9608817137534927\n",
    "Accuracy of the network w/ validation/test: 92 %\n",
    "[2,   100] loss: 0.212\n",
    "[2,   200] loss: 0.226\n",
    "[2,   300] loss: 0.199\n",
    "[2,   400] loss: 0.161\n",
    "\n",
    "    (...)\n",
    "    \n",
    "```"
   ]
  },
  {
   "cell_type": "markdown",
   "id": "f76464ac",
   "metadata": {},
   "source": [
    "Now we can input the data into the dataframe and save it, or load it if we are not running for the first time:"
   ]
  },
  {
   "cell_type": "code",
   "execution_count": 27,
   "id": "5d01e0e4",
   "metadata": {
    "ExecuteTime": {
     "end_time": "2023-07-18T15:52:19.234604Z",
     "start_time": "2023-07-18T15:52:19.204588Z"
    }
   },
   "outputs": [],
   "source": [
    "if running_init_samples:\n",
    "    df_random_samples_w_results = df_random_samples.copy() #  df_random_samples.loc[0:1].copy()\n",
    "    df_random_samples_w_results['accuracy_best'] = [ np.max(i) for i in accuracy_lists_experiments]\n",
    "    df_random_samples_w_results['accuracy_at_e'] = [ i[-1] for i in accuracy_lists_experiments]\n",
    "    \n",
    "    df_random_samples_w_results['accuracy_list'] = accuracy_lists_experiments\n",
    "    df_random_samples_w_results['recall_list'] = recall_lists_experiments\n",
    "    df_random_samples_w_results['f2score_list'] = f2score_lists_experiments\n",
    "\n",
    "    df_random_samples_w_results['time_taken'] = time_taken_experiments\n",
    "    df_random_samples_w_results['total_parameters'] = num_params_list\n",
    "    \n",
    "    df_random_samples_w_results.to_pickle('./workflow_data/df_random_samples_w_results.pkl')\n",
    "else:\n",
    "    try:\n",
    "        df_random_samples_w_results = pd.read_pickle('./workflow_data/df_random_samples_w_results.pkl')\n",
    "        df_random_samples_w_results\n",
    "    except:\n",
    "        print('Can´t find df_random_samples_w_results.pkl file, run trainer with initial data')"
   ]
  },
  {
   "cell_type": "markdown",
   "id": "f65304af",
   "metadata": {},
   "source": [
    "So for the initial data, the following output was generated - observe the column *accuracy*; this is the metric we are optimizing for. Other metrics are being kept track of. This metric is not the most appropriate for this dataset since the data is unbalanced. In a future review of this notebook, following the CRISP methodology, the metric can be changed to *f2score* or *recall*."
   ]
  },
  {
   "cell_type": "code",
   "execution_count": 28,
   "id": "eb9abefe",
   "metadata": {
    "ExecuteTime": {
     "end_time": "2023-07-18T15:52:21.370100Z",
     "start_time": "2023-07-18T15:52:21.197699Z"
    },
    "scrolled": false
   },
   "outputs": [
    {
     "data": {
      "text/html": [
       "<style type=\"text/css\">\n",
       "</style>\n",
       "<table id=\"T_55c1b\">\n",
       "  <thead>\n",
       "    <tr>\n",
       "      <th class=\"blank level0\" >&nbsp;</th>\n",
       "      <th id=\"T_55c1b_level0_col0\" class=\"col_heading level0 col0\" >lr</th>\n",
       "      <th id=\"T_55c1b_level0_col1\" class=\"col_heading level0 col1\" >momentum</th>\n",
       "      <th id=\"T_55c1b_level0_col2\" class=\"col_heading level0 col2\" >conv1out</th>\n",
       "      <th id=\"T_55c1b_level0_col3\" class=\"col_heading level0 col3\" >conv1kernel</th>\n",
       "      <th id=\"T_55c1b_level0_col4\" class=\"col_heading level0 col4\" >filter_size</th>\n",
       "      <th id=\"T_55c1b_level0_col5\" class=\"col_heading level0 col5\" >stride_step</th>\n",
       "      <th id=\"T_55c1b_level0_col6\" class=\"col_heading level0 col6\" >conv2out</th>\n",
       "      <th id=\"T_55c1b_level0_col7\" class=\"col_heading level0 col7\" >conv2_kernel</th>\n",
       "      <th id=\"T_55c1b_level0_col8\" class=\"col_heading level0 col8\" >accuracy_best</th>\n",
       "      <th id=\"T_55c1b_level0_col9\" class=\"col_heading level0 col9\" >accuracy_at_e</th>\n",
       "      <th id=\"T_55c1b_level0_col10\" class=\"col_heading level0 col10\" >accuracy_list</th>\n",
       "      <th id=\"T_55c1b_level0_col11\" class=\"col_heading level0 col11\" >recall_list</th>\n",
       "      <th id=\"T_55c1b_level0_col12\" class=\"col_heading level0 col12\" >f2score_list</th>\n",
       "      <th id=\"T_55c1b_level0_col13\" class=\"col_heading level0 col13\" >time_taken</th>\n",
       "      <th id=\"T_55c1b_level0_col14\" class=\"col_heading level0 col14\" >total_parameters</th>\n",
       "    </tr>\n",
       "  </thead>\n",
       "  <tbody>\n",
       "    <tr>\n",
       "      <th id=\"T_55c1b_level0_row0\" class=\"row_heading level0 row0\" >2</th>\n",
       "      <td id=\"T_55c1b_row0_col0\" class=\"data row0 col0\" >0.005000</td>\n",
       "      <td id=\"T_55c1b_row0_col1\" class=\"data row0 col1\" >0.900000</td>\n",
       "      <td id=\"T_55c1b_row0_col2\" class=\"data row0 col2\" >8</td>\n",
       "      <td id=\"T_55c1b_row0_col3\" class=\"data row0 col3\" >6</td>\n",
       "      <td id=\"T_55c1b_row0_col4\" class=\"data row0 col4\" >4</td>\n",
       "      <td id=\"T_55c1b_row0_col5\" class=\"data row0 col5\" >4</td>\n",
       "      <td id=\"T_55c1b_row0_col6\" class=\"data row0 col6\" >20</td>\n",
       "      <td id=\"T_55c1b_row0_col7\" class=\"data row0 col7\" >6</td>\n",
       "      <td id=\"T_55c1b_row0_col8\" class=\"data row0 col8\" >0.964652</td>\n",
       "      <td id=\"T_55c1b_row0_col9\" class=\"data row0 col9\" >0.960091</td>\n",
       "      <td id=\"T_55c1b_row0_col10\" class=\"data row0 col10\" >[0.927023945267959, 0.9498289623717218, 0.9566704675028507, 0.9646522234891676, 0.9600912200684151]</td>\n",
       "      <td id=\"T_55c1b_row0_col11\" class=\"data row0 col11\" >[0.990625, 0.953125, 0.96875, 0.9875, 0.98125]</td>\n",
       "      <td id=\"T_55c1b_row0_col12\" class=\"data row0 col12\" >[0.9747847478474786, 0.9579145728643215, 0.9693558474046279, 0.9828926905132195, 0.9778885082528808]</td>\n",
       "      <td id=\"T_55c1b_row0_col13\" class=\"data row0 col13\" >647.93</td>\n",
       "      <td id=\"T_55c1b_row0_col14\" class=\"data row0 col14\" >362,130</td>\n",
       "    </tr>\n",
       "    <tr>\n",
       "      <th id=\"T_55c1b_level0_row1\" class=\"row_heading level0 row1\" >1</th>\n",
       "      <td id=\"T_55c1b_row1_col0\" class=\"data row1 col0\" >0.000500</td>\n",
       "      <td id=\"T_55c1b_row1_col1\" class=\"data row1 col1\" >0.900000</td>\n",
       "      <td id=\"T_55c1b_row1_col2\" class=\"data row1 col2\" >6</td>\n",
       "      <td id=\"T_55c1b_row1_col3\" class=\"data row1 col3\" >4</td>\n",
       "      <td id=\"T_55c1b_row1_col4\" class=\"data row1 col4\" >4</td>\n",
       "      <td id=\"T_55c1b_row1_col5\" class=\"data row1 col5\" >1</td>\n",
       "      <td id=\"T_55c1b_row1_col6\" class=\"data row1 col6\" >16</td>\n",
       "      <td id=\"T_55c1b_row1_col7\" class=\"data row1 col7\" >5</td>\n",
       "      <td id=\"T_55c1b_row1_col8\" class=\"data row1 col8\" >0.954390</td>\n",
       "      <td id=\"T_55c1b_row1_col9\" class=\"data row1 col9\" >0.954390</td>\n",
       "      <td id=\"T_55c1b_row1_col10\" class=\"data row1 col10\" >[0.9224629418472063, 0.9475484606613455, 0.9521094640820981, 0.9475484606613455, 0.9543899657924744]</td>\n",
       "      <td id=\"T_55c1b_row1_col11\" class=\"data row1 col11\" >[0.98125, 0.9546875, 0.9703125, 0.978125, 0.9640625]</td>\n",
       "      <td id=\"T_55c1b_row1_col12\" class=\"data row1 col12\" >[0.9679408138101111, 0.958281053952321, 0.9691011235955056, 0.9726538222498446, 0.9658735128365686]</td>\n",
       "      <td id=\"T_55c1b_row1_col13\" class=\"data row1 col13\" >24843.20</td>\n",
       "      <td id=\"T_55c1b_row1_col14\" class=\"data row1 col14\" >85,493,292</td>\n",
       "    </tr>\n",
       "    <tr>\n",
       "      <th id=\"T_55c1b_level0_row2\" class=\"row_heading level0 row2\" >3</th>\n",
       "      <td id=\"T_55c1b_row2_col0\" class=\"data row2 col0\" >0.002000</td>\n",
       "      <td id=\"T_55c1b_row2_col1\" class=\"data row2 col1\" >0.700000</td>\n",
       "      <td id=\"T_55c1b_row2_col2\" class=\"data row2 col2\" >8</td>\n",
       "      <td id=\"T_55c1b_row2_col3\" class=\"data row2 col3\" >5</td>\n",
       "      <td id=\"T_55c1b_row2_col4\" class=\"data row2 col4\" >4</td>\n",
       "      <td id=\"T_55c1b_row2_col5\" class=\"data row2 col5\" >4</td>\n",
       "      <td id=\"T_55c1b_row2_col6\" class=\"data row2 col6\" >20</td>\n",
       "      <td id=\"T_55c1b_row2_col7\" class=\"data row2 col7\" >4</td>\n",
       "      <td id=\"T_55c1b_row2_col8\" class=\"data row2 col8\" >0.950969</td>\n",
       "      <td id=\"T_55c1b_row2_col9\" class=\"data row2 col9\" >0.950969</td>\n",
       "      <td id=\"T_55c1b_row2_col10\" class=\"data row2 col10\" >[0.9007981755986317, 0.9304446978335233, 0.9293044469783353, 0.9452679589509693, 0.95096921322691]</td>\n",
       "      <td id=\"T_55c1b_row2_col11\" class=\"data row2 col11\" >[0.98125, 0.9328125, 0.984375, 0.9734375, 0.9703125]</td>\n",
       "      <td id=\"T_55c1b_row2_col12\" class=\"data row2 col12\" >[0.9623046276432732, 0.9401574803149606, 0.9716224552745217, 0.9691972619788426, 0.9687987519500779]</td>\n",
       "      <td id=\"T_55c1b_row2_col13\" class=\"data row2 col13\" >598.57</td>\n",
       "      <td id=\"T_55c1b_row2_col14\" class=\"data row2 col14\" >418,842</td>\n",
       "    </tr>\n",
       "    <tr>\n",
       "      <th id=\"T_55c1b_level0_row3\" class=\"row_heading level0 row3\" >7</th>\n",
       "      <td id=\"T_55c1b_row3_col0\" class=\"data row3 col0\" >0.000500</td>\n",
       "      <td id=\"T_55c1b_row3_col1\" class=\"data row3 col1\" >0.700000</td>\n",
       "      <td id=\"T_55c1b_row3_col2\" class=\"data row3 col2\" >4</td>\n",
       "      <td id=\"T_55c1b_row3_col3\" class=\"data row3 col3\" >4</td>\n",
       "      <td id=\"T_55c1b_row3_col4\" class=\"data row3 col4\" >2</td>\n",
       "      <td id=\"T_55c1b_row3_col5\" class=\"data row3 col5\" >1</td>\n",
       "      <td id=\"T_55c1b_row3_col6\" class=\"data row3 col6\" >14</td>\n",
       "      <td id=\"T_55c1b_row3_col7\" class=\"data row3 col7\" >4</td>\n",
       "      <td id=\"T_55c1b_row3_col8\" class=\"data row3 col8\" >0.945268</td>\n",
       "      <td id=\"T_55c1b_row3_col9\" class=\"data row3 col9\" >0.945268</td>\n",
       "      <td id=\"T_55c1b_row3_col10\" class=\"data row3 col10\" >[0.9110604332953249, 0.9407069555302167, 0.9372862029646523, 0.9418472063854048, 0.9452679589509693]</td>\n",
       "      <td id=\"T_55c1b_row3_col11\" class=\"data row3 col11\" >[0.9890625, 0.95, 0.9796875, 0.959375, 0.984375]</td>\n",
       "      <td id=\"T_55c1b_row3_col12\" class=\"data row3 col12\" >[0.9696691176470588, 0.9535759096612294, 0.9708888200681326, 0.9596748984057517, 0.9758364312267657]</td>\n",
       "      <td id=\"T_55c1b_row3_col13\" class=\"data row3 col13\" >3264.63</td>\n",
       "      <td id=\"T_55c1b_row3_col14\" class=\"data row3 col14\" >78,393,512</td>\n",
       "    </tr>\n",
       "  </tbody>\n",
       "</table>\n"
      ],
      "text/plain": [
       "<pandas.io.formats.style.Styler at 0x225066c4520>"
      ]
     },
     "execution_count": 28,
     "metadata": {},
     "output_type": "execute_result"
    }
   ],
   "source": [
    "df_random_samples_w_results.sort_values('accuracy_at_e', ascending = False).head(4).style.format({\"total_parameters\": \"{:,d}\", \"time_taken\": \"{:.2f}\"})\n",
    "# df_random_samples_w_results"
   ]
  },
  {
   "cell_type": "markdown",
   "id": "39bcc872",
   "metadata": {},
   "source": [
    "---"
   ]
  },
  {
   "cell_type": "markdown",
   "id": "d5d0092c",
   "metadata": {
    "ExecuteTime": {
     "end_time": "2023-06-23T18:15:08.913649Z",
     "start_time": "2023-06-23T18:15:08.896629Z"
    }
   },
   "source": [
    "<a id='bayesian'></a>\n",
    "# Bayesian Optimization"
   ]
  },
  {
   "cell_type": "markdown",
   "id": "6d8db512",
   "metadata": {
    "ExecuteTime": {
     "end_time": "2023-07-19T16:42:52.965377Z",
     "start_time": "2023-07-19T16:42:52.954372Z"
    }
   },
   "source": [
    "[Introduction](#Introduction) [Imports](#Imports) [Helper](#Helper)  >>  \n",
    "[Data](#data) [Model](#model)  [Initial Data](#initial) [Sampling Initial Data](#sampling)  >>\n",
    "[Bayesian Optimization](#bayesian) [Imports BO](#imports_bo) [BO Search](#bo_search) >> [Epochs Choice](#epochs) [Final Model](#final) [Confusion Matrix](#confusion_matrix)"
   ]
  },
  {
   "cell_type": "markdown",
   "id": "ba783018",
   "metadata": {
    "ExecuteTime": {
     "end_time": "2023-06-25T09:53:56.225339Z",
     "start_time": "2023-06-25T09:53:56.216337Z"
    }
   },
   "source": [
    "In this section, we will perform bayesian optimization in search of the best hyperparameters that yield the highest accuracy."
   ]
  },
  {
   "cell_type": "code",
   "execution_count": 29,
   "id": "fab49edd",
   "metadata": {
    "ExecuteTime": {
     "end_time": "2023-07-18T15:52:51.248727Z",
     "start_time": "2023-07-18T15:52:51.232740Z"
    }
   },
   "outputs": [],
   "source": [
    "# Defining input and output parameters:\n",
    "X_bo = df_random_samples_w_results.iloc[:,:-7]\n",
    "Y_bo = df_random_samples_w_results.iloc[:,-6] # doing accuracy_at_e"
   ]
  },
  {
   "cell_type": "markdown",
   "id": "ed889397",
   "metadata": {},
   "source": [
    "There is a need to normalize the input data since we are using BoTorch. BoTorch will only take data between 0 and 1 and output data within the search space defined between the same range. We can scale the data between 0 and 1 or between .1 and .9. In the latter case, this allows the search to be conducted with higher or lower values present than the ones provided by the initial generated points."
   ]
  },
  {
   "cell_type": "code",
   "execution_count": 30,
   "id": "1796ebf0",
   "metadata": {
    "ExecuteTime": {
     "end_time": "2023-07-18T15:52:52.216741Z",
     "start_time": "2023-07-18T15:52:52.184724Z"
    }
   },
   "outputs": [
    {
     "name": "stdout",
     "output_type": "stream",
     "text": [
      "          0         1     2    3    4    5         6    7\n",
      "0  1.000000  0.668896  0.00  1.0  1.0  0.0  0.333333  0.0\n",
      "1  0.000000  0.668896  0.25  0.0  1.0  0.0  0.333333  0.5\n",
      "2  1.000000  0.668896  0.50  1.0  1.0  1.0  1.000000  1.0\n",
      "3  0.333333  0.000000  0.50  0.5  1.0  1.0  1.000000  0.0\n",
      "4  0.333333  1.000000  0.25  0.0  0.5  1.0  1.000000  1.0\n",
      "5  0.111111  0.000000  0.25  0.5  0.5  0.0  1.000000  0.5\n",
      "6  1.000000  0.668896  0.50  0.5  0.5  1.0  0.333333  1.0\n",
      "7  0.000000  0.000000  0.00  0.0  0.0  0.0  0.000000  0.0\n",
      "8  0.333333  1.000000  1.00  1.0  1.0  1.0  1.000000  1.0\n"
     ]
    }
   ],
   "source": [
    "scalerX_t = MinMaxScaler() # (feature_range=(.1, .9))\n",
    "mm_ = scalerX_t.fit_transform(X_bo)\n",
    "X_bo_mm = pd.DataFrame(mm_)\n",
    "print(X_bo_mm)"
   ]
  },
  {
   "cell_type": "code",
   "execution_count": 31,
   "id": "bdc2ff59",
   "metadata": {
    "ExecuteTime": {
     "end_time": "2023-07-18T15:52:55.175008Z",
     "start_time": "2023-07-18T15:52:55.159454Z"
    }
   },
   "outputs": [],
   "source": [
    "np.set_printoptions(precision = 8, suppress = True)  # suppresing scientific notations\n",
    "# original_values[0]"
   ]
  },
  {
   "cell_type": "markdown",
   "id": "99f72208",
   "metadata": {},
   "source": [
    "## Part 2 - Using BoTorch"
   ]
  },
  {
   "cell_type": "markdown",
   "id": "c50f4b85",
   "metadata": {},
   "source": [
    "To use BoTorch, we need a few imports and functions."
   ]
  },
  {
   "cell_type": "markdown",
   "id": "65d7be33",
   "metadata": {},
   "source": [
    "<a id='imports_bo'></a>\n",
    "### Imports and Helper Functions"
   ]
  },
  {
   "cell_type": "code",
   "execution_count": 46,
   "id": "d31b72a2",
   "metadata": {
    "ExecuteTime": {
     "end_time": "2023-07-18T16:04:59.607323Z",
     "start_time": "2023-07-18T16:04:59.576138Z"
    }
   },
   "outputs": [],
   "source": [
    "from dataclasses import dataclass\n",
    "import numpy as np\n",
    "import torch\n",
    "import math\n",
    "\n",
    "from botorch.acquisition import qExpectedImprovement\n",
    "\n",
    "from botorch.generation import MaxPosteriorSampling\n",
    "from torch.quasirandom import SobolEngine\n",
    "import botorch\n",
    "import gpytorch\n",
    "\n",
    "torch.set_printoptions(precision=10)"
   ]
  },
  {
   "cell_type": "code",
   "execution_count": 38,
   "id": "d57d32c9",
   "metadata": {
    "ExecuteTime": {
     "end_time": "2023-07-18T15:53:12.565464Z",
     "start_time": "2023-07-18T15:53:12.549464Z"
    },
    "code_folding": []
   },
   "outputs": [],
   "source": [
    "# we define a dataclass for our state\n",
    "@dataclass\n",
    "class TurboState:\n",
    "    dim: int # dimension of the problem, aka input dimension\n",
    "    batch_size: int = 1 # we could do batch optimization, but the capstone only does one query at a time\n",
    "    length: float = 0.8 # the length of the current trust region\n",
    "    length_min: float = 0.5 ** 7 # minimum length for the trust region\n",
    "    length_max: float = 1.6 # maximum length for the trust region\n",
    "    failure_counter: int = 0 # initialize counter of the number of failures to improve on the best observation\n",
    "    failure_tolerance: int = float(\"nan\")  # Note: Post-initialized\n",
    "    success_counter: int = 0 # initialize counter of the number of success to improve on the best observation\n",
    "    success_tolerance: int = 10  # Note: The original paper uses 3, this is the number of successes in a row needed to expand the region\n",
    "    best_value: float = -float(\"inf\") # best value so far, initialized to be the infimum\n",
    "    restart_triggered: bool = False \n",
    "\n",
    "    def __post_init__(self):\n",
    "        self.failure_tolerance = math.ceil(\n",
    "            max([4.0 / self.batch_size, float(self.dim) / self.batch_size]) # number of failures needed in a row to shrink the trust region\n",
    "        )\n",
    "\n",
    "\n",
    "def update_state(state, Y_next):\n",
    "    # count if a success, otherwise a failure\n",
    "    if max(Y_next) > state.best_value + 1e-3 * math.fabs(state.best_value):\n",
    "        state.success_counter += 1\n",
    "        state.failure_counter = 0\n",
    "    else:\n",
    "        state.success_counter = 0\n",
    "        state.failure_counter += 1\n",
    "    # check if we need to expand or shrink the trust region\n",
    "    if state.success_counter == state.success_tolerance:  # Expand trust region\n",
    "        state.length = min(2.0 * state.length, state.length_max)\n",
    "        state.success_counter = 0\n",
    "    elif state.failure_counter == state.failure_tolerance:  # Shrink trust region\n",
    "        state.length /= 2.0\n",
    "        state.failure_counter = 0\n",
    "    # set the best value if we got a new observation\n",
    "    state.best_value = max(state.best_value, max(Y_next).item())\n",
    "    if state.length < state.length_min:\n",
    "        state.restart_triggered = True\n",
    "    return state\n"
   ]
  },
  {
   "cell_type": "code",
   "execution_count": 33,
   "id": "f6c39a33",
   "metadata": {
    "ExecuteTime": {
     "end_time": "2023-07-18T15:53:00.448806Z",
     "start_time": "2023-07-18T15:53:00.430793Z"
    },
    "code_folding": []
   },
   "outputs": [],
   "source": [
    "# we use the model given before, we also add the hyper-parameter training as a method\n",
    "class ExactGPModel(gpytorch.models.ExactGP):\n",
    "    def __init__(self, train_x, train_y, likelihood):\n",
    "        super(ExactGPModel, self).__init__(train_x, train_y, likelihood)\n",
    "        # set a constant mean\n",
    "        self.mean_module = gpytorch.means.ConstantMean()\n",
    "        # use a simple RBF kernel with constant scaling\n",
    "        self.covar_module = gpytorch.kernels.ScaleKernel(gpytorch.kernels.RBFKernel(ard_num_dims=train_x.shape[1]))\n",
    "        # set number of hyper-parameter training iterations\n",
    "        self.training_iter = 200\n",
    "\n",
    "    def forward(self, x):\n",
    "        mean_x = self.mean_module(x)\n",
    "        covar_x = self.covar_module(x)\n",
    "        return gpytorch.distributions.MultivariateNormal(mean_x, covar_x)"
   ]
  },
  {
   "cell_type": "code",
   "execution_count": 58,
   "id": "a2f5e638",
   "metadata": {
    "ExecuteTime": {
     "end_time": "2023-07-18T16:27:01.750509Z",
     "start_time": "2023-07-18T16:27:01.714505Z"
    },
    "code_folding": []
   },
   "outputs": [],
   "source": [
    "def generate_batch(\n",
    "    state,\n",
    "    model,  # GP model\n",
    "    X,  # Evaluated points on the domain [0, 1]^d\n",
    "    Y,  # Function values\n",
    "    batch_size = 1, # fix batch size to 1\n",
    "    n_candidates=None,  # Number of candidates for Thompson sampling\n",
    "    num_restarts=10,\n",
    "    raw_samples=512,\n",
    "    acqf=\"ts\",  # \"ei\" or \"ts\"\n",
    "):\n",
    "    assert acqf in (\"ts\")\n",
    "    assert X.min() >= 0.0 and X.max() <= 1.0 and torch.all(torch.isfinite(Y))\n",
    "    if n_candidates is None:\n",
    "        n_candidates = min(5000, max(2000, 200 * X.shape[-1]))\n",
    "\n",
    "    # Scale the trust region to be proportional to the lengthscales\n",
    "    x_center = X[Y.argmax(), :].clone()\n",
    "    weights = model.covar_module.base_kernel.lengthscale.squeeze().detach()\n",
    "    weights = weights / weights.mean()\n",
    "    weights = weights / torch.prod(weights.pow(1.0 / len(weights)))\n",
    "    tr_lb = torch.clamp(x_center - weights * state.length / 2.0, 0.0, 1.0)\n",
    "    tr_ub = torch.clamp(x_center + weights * state.length / 2.0, 0.0, 1.0)\n",
    "    # we focus only on thompson sampling as an acquisition function\n",
    "    \n",
    "    if acqf == \"ts\":\n",
    "        dim = X.shape[-1]\n",
    "        sobol = SobolEngine(dim, scramble=True)\n",
    "        pert = sobol.draw(n_candidates)\n",
    "        pert = tr_lb + (tr_ub - tr_lb) * pert\n",
    "\n",
    "        # Create a perturbation mask\n",
    "        prob_perturb = min(20.0 / dim, 1.0)\n",
    "        mask = (\n",
    "            torch.rand(n_candidates, dim)\n",
    "            <= prob_perturb\n",
    "        )\n",
    "        ind = torch.where(mask.sum(dim=1) == 0)[0]\n",
    "        mask[ind, torch.randint(0, dim - 1, size=(len(ind),))] = 1\n",
    "\n",
    "        # Create candidate points from the perturbations and the mask        \n",
    "        X_cand = x_center.expand(n_candidates, dim).clone()\n",
    "        X_cand[mask] = pert[mask]\n",
    "\n",
    "        # Sample on the candidate points\n",
    "        # set model to evaluation mode\n",
    "        model.eval()\n",
    "        posterior_distribution = model(X_cand)\n",
    "        with torch.no_grad():  # We don't need gradients when using TS\n",
    "            posterior_sample = posterior_distribution.sample()\n",
    "            X_next_idx = torch.argmax(posterior_sample)\n",
    "            X_next = X_cand[X_next_idx]\n",
    "\n",
    "\n",
    "    \n",
    "    \n",
    "    \n",
    "    return X_next"
   ]
  },
  {
   "cell_type": "code",
   "execution_count": 59,
   "id": "4804b818",
   "metadata": {
    "ExecuteTime": {
     "end_time": "2023-07-18T16:27:05.754504Z",
     "start_time": "2023-07-18T16:27:05.738503Z"
    },
    "code_folding": []
   },
   "outputs": [],
   "source": [
    "def next_query_via_TurBO(train_x, train_y, turbo_state, verbose = False):\n",
    "    # the verbose variable decides wether to print the hyper-parameter optimization details\n",
    "    likelihood = gpytorch.likelihoods.GaussianLikelihood()\n",
    "    model = ExactGPModel(train_x, train_y, likelihood)\n",
    "\n",
    "    model.train()\n",
    "    likelihood.train()\n",
    "\n",
    "    # Use the adam optimizer\n",
    "    optimizer = torch.optim.Adam(model.parameters(), lr=0.1)  # Includes GaussianLikelihood parameters\n",
    "\n",
    "    # \"Loss\" for GPs - the marginal log likelihood\n",
    "    mll = gpytorch.mlls.ExactMarginalLogLikelihood(likelihood, model)\n",
    "\n",
    "\n",
    "    for i in range(model.training_iter):\n",
    "        # Zero gradients from previous iteration\n",
    "        optimizer.zero_grad()\n",
    "        # Output from model\n",
    "        output = model(train_x)\n",
    "        # Calc loss and backprop gradients\n",
    "        loss = -mll(output, train_y)\n",
    "        loss.backward()\n",
    "        if (i % 10 == 9) & verbose:\n",
    "            print(f'Iter %d/%d - Loss: %.3f   lengthscale: {model.covar_module.base_kernel.lengthscale}   noise: %.3f' % (\n",
    "                i + 1, model.training_iter, loss.item(),\n",
    "                model.likelihood.noise.item()\n",
    "            ))\n",
    "        optimizer.step()\n",
    "    \n",
    "    return generate_batch(turbo_state, model = model, X = train_x, Y = train_y)"
   ]
  },
  {
   "cell_type": "code",
   "execution_count": 60,
   "id": "f636f9e9",
   "metadata": {
    "ExecuteTime": {
     "end_time": "2023-07-18T16:27:07.499390Z",
     "start_time": "2023-07-18T16:27:07.461637Z"
    },
    "code_folding": []
   },
   "outputs": [],
   "source": [
    "def assignment_format(next_query):\n",
    "    # Formating next_query according to submission standard;\n",
    "    next_query_f = [f'{i:.6f}' for i in next_query]\n",
    "\n",
    "    return '-'.join(next_query_f)"
   ]
  },
  {
   "cell_type": "code",
   "execution_count": 63,
   "id": "3c8539fa",
   "metadata": {
    "ExecuteTime": {
     "end_time": "2023-07-18T16:31:20.215707Z",
     "start_time": "2023-07-18T16:31:20.200085Z"
    }
   },
   "outputs": [],
   "source": [
    "import numpy as np\n",
    "import matplotlib.pyplot as plt\n",
    "from sklearn.gaussian_process import GaussianProcessRegressor\n",
    "\n",
    "import pandas as pd\n",
    "import itertools as itertools"
   ]
  },
  {
   "cell_type": "code",
   "execution_count": 96,
   "id": "7167bb98",
   "metadata": {
    "ExecuteTime": {
     "end_time": "2023-07-18T17:46:13.270989Z",
     "start_time": "2023-07-18T17:46:13.224112Z"
    },
    "code_folding": []
   },
   "outputs": [],
   "source": [
    "# Alternativally I have included my own adapted function for searching\n",
    "# higher dimensional spaces by steps\n",
    "\n",
    "def ucb_search_by_step_8_4(X, Y, max_steps, size_grid, model, *last_results, **factor):\n",
    "    # arg[0] == model\n",
    "    # arg[1] ==next_query\n",
    "    print(max_steps)\n",
    "    \n",
    "    # Creating initial grid:\n",
    "    \n",
    "    if not last_results:\n",
    "\n",
    "        # size_grid = 10\n",
    "        x1 = np.linspace(0, 1, size_grid + 1)\n",
    "        dim = X.shape[1]  # 8 dimension search space\n",
    "        X_grid4 = np.fromiter(it.chain(*it.product(x1, repeat = dim)), dtype = float).reshape(-1,dim)                        \n",
    "\n",
    "        # X_grid4 = np.array(X_grid4)\n",
    "        mean, std = model.predict(X_grid4, return_std = True)\n",
    "        ucb4 = mean + 1.96 * std  # 68% data  falls within 1 std, 1.96 is like ~99% of the data        \n",
    "\n",
    "        idx_max4 = np.argmax(ucb4)\n",
    "        next_query4 = X_grid4[idx_max4]\n",
    "        \n",
    "        print(f\"ucb = {ucb4[idx_max4]}, iters_left = {max_steps}\")\n",
    "        print(next_query4)\n",
    "        print()\n",
    "              \n",
    "        if max_steps <= 1:\n",
    "            return next_query4\n",
    "        else:\n",
    "            return ucb_search_by_step_8_4(X, Y, max_steps - 1, size_grid, model, next_query4)\n",
    "        \n",
    "    else:\n",
    "\n",
    "        \n",
    "        dim = X.shape[1]  # x dimension search space\n",
    "        \n",
    "        \n",
    "        \n",
    "        bound = []\n",
    "        \n",
    "        \n",
    "        if not factor:\n",
    "            factor_lower = 1 / size_grid / 2\n",
    "            factor_upper = 1 + 1 / size_grid / 2\n",
    "        if factor:\n",
    "            factor_lower = factor['f_low']\n",
    "            factor_upper = factor['f_up']\n",
    "        \n",
    "        \n",
    "        \n",
    "        \n",
    "        for i in range(len(last_results[0])):\n",
    "            if last_results[0][i] <= factor_lower:  # prevents spilling on the lower side\n",
    "                lower_bound = 0.0\n",
    "            else:\n",
    "                # factor_lower = 0.9\n",
    "                lower_bound = last_results[0][i] - factor_lower\n",
    "                \n",
    "            if last_results[0][i] >= 1 - factor_lower:  #prevents spilling on the upper side - however needs more adjustmt\n",
    "                upper_bound = 0.999999\n",
    "            else:\n",
    "                # factor_upper = 1.1  # TODO, unhard code factor_upper/ factor_lower\n",
    "                upper_bound = last_results[0][i] + factor_lower\n",
    "\n",
    "            print(f'setting LowB={lower_bound}, UppB={upper_bound}')\n",
    "            \n",
    "            bound.append(np.linspace(lower_bound, upper_bound, size_grid +1))\n",
    "            \n",
    "\n",
    "        X_grid4 = np.fromiter(it.chain.from_iterable(it.product(*bound)), dtype=float).reshape(-1, dim)\n",
    "\n",
    "        \n",
    "        mean, std = model.predict(X_grid4, return_std = True)\n",
    "        ucb4 = mean + 1.96 * std  # 68% data  falls within 1 std, 1.96 is like ~99% of the data        \n",
    "\n",
    "        idx_max4 = np.argmax(ucb4)\n",
    "        next_query4 = X_grid4[idx_max4]\n",
    "              \n",
    "        print(f\"ucb = {ucb4[idx_max4]}, iters_left = {max_steps}\")\n",
    "        print(next_query4)\n",
    "        print()\n",
    "              \n",
    "        if max_steps <= 1:\n",
    "            # Formating next_query according to submission standard;\n",
    "            next_query_f = [f'{i:.6f}' for i in next_query4]\n",
    "\n",
    "            next_query_f = '-'.join(next_query_f)\n",
    "            print(next_query_f)\n",
    "                        \n",
    "            return next_query4\n",
    "        else:\n",
    "            return ucb_search_by_step_8_4(X,Y,max_steps - 1, size_grid, model, next_query4)  "
   ]
  },
  {
   "cell_type": "markdown",
   "id": "9e1dbbee",
   "metadata": {},
   "source": [
    "---"
   ]
  },
  {
   "cell_type": "markdown",
   "id": "9a2b86b3",
   "metadata": {},
   "source": [
    "### Running a single experiment based on the initial sampling"
   ]
  },
  {
   "cell_type": "code",
   "execution_count": 119,
   "id": "daec59f3",
   "metadata": {
    "ExecuteTime": {
     "end_time": "2023-07-19T14:21:31.203914Z",
     "start_time": "2023-07-19T14:21:31.195778Z"
    }
   },
   "outputs": [],
   "source": [
    "# model = GaussianProcessRegressor()\n",
    "# model.fit(X_bo_mm,Y_bo)\n",
    "# next_query_ucb = ucb_search_by_step_8_4(X_bo_mm, Y_bo, 6, 5, model)"
   ]
  },
  {
   "cell_type": "code",
   "execution_count": 120,
   "id": "eb12e2ea",
   "metadata": {
    "ExecuteTime": {
     "end_time": "2023-07-19T14:21:40.288361Z",
     "start_time": "2023-07-19T14:21:40.284149Z"
    }
   },
   "outputs": [],
   "source": [
    "# next_query_ucb = next_query.reshape(1,-1)\n",
    "# original_values = scalerX_t.inverse_transform(next_query_ucb)\n",
    "# original_values"
   ]
  },
  {
   "cell_type": "code",
   "execution_count": 99,
   "id": "9eb6c22d",
   "metadata": {
    "ExecuteTime": {
     "end_time": "2023-07-18T17:48:36.283814Z",
     "start_time": "2023-07-18T17:48:34.516393Z"
    }
   },
   "outputs": [
    {
     "name": "stdout",
     "output_type": "stream",
     "text": [
      "Next chose query: tensor([0.4542554617, 0.6689120588, 0.3315903472, 0.8427501757, 0.9796280336,\n",
      "        0.8298983574, 0.0492729146, 0.8908448584], dtype=torch.float64)\n",
      "0.454255-0.668912-0.331590-0.842750-0.979628-0.829898-0.049273-0.890845\n"
     ]
    },
    {
     "name": "stderr",
     "output_type": "stream",
     "text": [
      "C:\\Users\\Fu\\.conda\\envs\\notebook\\lib\\site-packages\\linear_operator\\utils\\cholesky.py:40: NumericalWarning: A not p.d., added jitter of 1.0e-08 to the diagonal\n",
      "  warnings.warn(\n"
     ]
    }
   ],
   "source": [
    "state = TurboState(dim = 8)\n",
    "\n",
    "train_x1 = torch.from_numpy(X_bo_mm.to_numpy())\n",
    "train_y1 = torch.from_numpy(Y_bo.to_numpy()) #.to_numpy())\n",
    "\n",
    "next_query = next_query_via_TurBO(train_x=train_x1, train_y=train_y1, turbo_state=state)\n",
    "print(f'Next chose query: {next_query}')\n",
    "print(assignment_format(next_query))"
   ]
  },
  {
   "cell_type": "code",
   "execution_count": 100,
   "id": "c7f3f8bd",
   "metadata": {
    "ExecuteTime": {
     "end_time": "2023-07-18T17:48:42.377681Z",
     "start_time": "2023-07-18T17:48:42.346444Z"
    }
   },
   "outputs": [
    {
     "data": {
      "text/plain": [
       "array([[ 0.00254415,  0.90000471,  6.65272278,  5.68550035,  3.95925607,\n",
       "         3.48969507, 14.29563749,  5.78168972]])"
      ]
     },
     "execution_count": 100,
     "metadata": {},
     "output_type": "execute_result"
    }
   ],
   "source": [
    "# Unormalizing BoTorch results:\n",
    "next_query = next_query.reshape(1,-1)\n",
    "original_values = scalerX_t.inverse_transform(next_query)\n",
    "original_values"
   ]
  },
  {
   "cell_type": "markdown",
   "id": "959a7baa",
   "metadata": {},
   "source": [
    "- The returned array calculates the next hyperparameters for sampling. As we can see from the unormalized results some numbers will have to be rounded(eg. number of output layers)"
   ]
  },
  {
   "cell_type": "markdown",
   "id": "9ba62951",
   "metadata": {},
   "source": [
    "BoTorch results will be plugged in our model: \n",
    "```python\n",
    "['lr', 'momentum', 'conv1out', 'conv1kernel', 'filter_size','stride_step', 'conv2out', 'conv2_kernel']\n",
    "```"
   ]
  },
  {
   "cell_type": "markdown",
   "id": "041eca8e",
   "metadata": {},
   "source": [
    "<a id ='bo_search'></a>\n",
    "### The Bayesian Optimizaton Search"
   ]
  },
  {
   "cell_type": "markdown",
   "id": "9f074907",
   "metadata": {
    "ExecuteTime": {
     "end_time": "2023-07-19T16:42:52.965377Z",
     "start_time": "2023-07-19T16:42:52.954372Z"
    }
   },
   "source": [
    "[Introduction](#Introduction) [Imports](#Imports) [Helper](#Helper)  >>  \n",
    "[Data](#data) [Model](#model)  [Initial Data](#initial) [Sampling Initial Data](#sampling)  >>\n",
    "[Bayesian Optimization](#bayesian) [Imports BO](#imports_bo) [BO Search](#bo_search) >> [Epochs Choice](#epochs) [Final Model](#final) [Confusion Matrix](#confusion_matrix)"
   ]
  },
  {
   "cell_type": "markdown",
   "id": "c9850d52",
   "metadata": {},
   "source": [
    "By setting running_bayes_from_scratch to ```True```, we can start a new session for the Bayesian optimization, or we can set it to ```False``` and append the previously generated results to resume the search for further improvements. "
   ]
  },
  {
   "cell_type": "code",
   "execution_count": 41,
   "id": "a5b76045",
   "metadata": {
    "ExecuteTime": {
     "end_time": "2023-07-18T15:53:48.474750Z",
     "start_time": "2023-07-18T15:53:48.446749Z"
    }
   },
   "outputs": [],
   "source": [
    "running_bayes_from_scratch = False\n",
    "\n",
    "if running_bayes_from_scratch:\n",
    "    df_bo_results = df_random_samples_w_results.copy()\n",
    "else:\n",
    "    try:\n",
    "        df_bo_results = pd.read_pickle('./workflow_data/df_bo_results.pkl')\n",
    "    except:\n",
    "        print('Can´t find df_bo_results file. Run a new session?')"
   ]
  },
  {
   "cell_type": "code",
   "execution_count": 121,
   "id": "26da84d8",
   "metadata": {
    "ExecuteTime": {
     "end_time": "2023-07-19T14:22:31.500946Z",
     "start_time": "2023-07-19T14:22:31.488938Z"
    }
   },
   "outputs": [],
   "source": [
    "# df_bo_results.sort_values('accuracy_at_e', ascending = False).head(10)"
   ]
  },
  {
   "cell_type": "code",
   "execution_count": 116,
   "id": "8a477fd6",
   "metadata": {
    "ExecuteTime": {
     "end_time": "2023-07-19T13:47:29.298917Z",
     "start_time": "2023-07-19T13:02:19.729232Z"
    },
    "scrolled": true
   },
   "outputs": [
    {
     "name": "stderr",
     "output_type": "stream",
     "text": [
      "C:\\Users\\Fu\\.conda\\envs\\notebook\\lib\\site-packages\\linear_operator\\utils\\cholesky.py:40: NumericalWarning: A not p.d., added jitter of 1.0e-08 to the diagonal\n",
      "  warnings.warn(\n"
     ]
    },
    {
     "name": "stdout",
     "output_type": "stream",
     "text": [
      "\n",
      "Next choice query: tensor([0.3435254991, 0.6017071850, 0.0133030261, 0.3103492856, 0.9659939057,\n",
      "        0.8247955303, 0.3031932540, 0.5075199604], dtype=torch.float64)\n",
      "0.343525-0.601707-0.013303-0.310349-0.965994-0.824796-0.303193-0.507520\n",
      "\n",
      " Next choice query(unnorm): [[ 0.00228964  0.89529122  3.75165606  4.62871927  4.1534742   3.73765883\n",
      "  15.836232    5.08725572]]\n",
      "\n",
      "lr = 0.0022896445042625215, momentum = 0.8952912189542669,conv1out    = 4,\n",
      "                               conv1kernel = 5,filter_size = 4,\n",
      "                               stride_step = 4,conv2out    = 16,\n",
      "                               conv2kernel = 5,epochs = 5\n",
      "LeNet5 adjustable: total params: 12294\n",
      "* fc1 to be adjusted\n",
      "Network has been updated:\n",
      "LeNet5 adjustable: total params: 288654\n",
      "LeNet(\n",
      "  (conv1): Conv2d(1, 4, kernel_size=(5, 5), stride=(1, 1))\n",
      "  (pool): MaxPool2d(kernel_size=4, stride=4, padding=0, dilation=1, ceil_mode=False)\n",
      "  (conv2): Conv2d(4, 16, kernel_size=(5, 5), stride=(1, 1))\n",
      "  (fc1): Linear(in_features=2304, out_features=120, bias=True)\n",
      "  (fc2): Linear(in_features=120, out_features=84, bias=True)\n",
      "  (fc3): Linear(in_features=84, out_features=2, bias=True)\n",
      ")\n",
      "[1,   100] loss: 0.617\n",
      "[1,   200] loss: 0.551\n",
      "[1,   300] loss: 0.509\n",
      "[1,   400] loss: 0.309\n",
      "[1,   500] loss: 0.233\n",
      "[1,   600] loss: 0.234\n",
      "[1,   700] loss: 0.262\n",
      "[1,   800] loss: 0.239\n",
      "[1,   900] loss: 0.188\n",
      "[1,  1000] loss: 0.213\n",
      "Epoch concluded #: 1\n",
      "Recall -> 0.9828125\n",
      "Accuracy -> 0.9179019384264538\n",
      "f2 score -> 0.9676923076923077\n",
      "Accuracy of the network w/ validation/test: 91 %\n",
      "[2,   100] loss: 0.189\n",
      "[2,   200] loss: 0.152\n",
      "[2,   300] loss: 0.160\n",
      "[2,   400] loss: 0.177\n",
      "[2,   500] loss: 0.173\n",
      "[2,   600] loss: 0.148\n",
      "[2,   700] loss: 0.197\n",
      "[2,   800] loss: 0.148\n",
      "[2,   900] loss: 0.119\n",
      "[2,  1000] loss: 0.200\n",
      "Epoch concluded #: 2\n",
      "Recall -> 0.9375\n",
      "Accuracy -> 0.9418472063854048\n",
      "f2 score -> 0.9460737937559128\n",
      "Accuracy of the network w/ validation/test: 94 %\n",
      "[3,   100] loss: 0.106\n",
      "[3,   200] loss: 0.136\n",
      "[3,   300] loss: 0.137\n",
      "[3,   400] loss: 0.163\n",
      "[3,   500] loss: 0.158\n",
      "[3,   600] loss: 0.104\n",
      "[3,   700] loss: 0.174\n",
      "[3,   800] loss: 0.124\n",
      "[3,   900] loss: 0.154\n",
      "[3,  1000] loss: 0.094\n",
      "Epoch concluded #: 3\n",
      "Recall -> 0.9703125\n",
      "Accuracy -> 0.9589509692132269\n",
      "f2 score -> 0.9709193245778613\n",
      "Accuracy of the network w/ validation/test: 95 %\n",
      "[4,   100] loss: 0.102\n",
      "[4,   200] loss: 0.160\n",
      "[4,   300] loss: 0.105\n",
      "[4,   400] loss: 0.103\n",
      "[4,   500] loss: 0.118\n",
      "[4,   600] loss: 0.149\n",
      "[4,   700] loss: 0.083\n",
      "[4,   800] loss: 0.145\n",
      "[4,   900] loss: 0.117\n",
      "[4,  1000] loss: 0.145\n",
      "Epoch concluded #: 4\n",
      "Recall -> 0.96875\n",
      "Accuracy -> 0.9612314709236032\n",
      "f2 score -> 0.9705698184095176\n",
      "Accuracy of the network w/ validation/test: 96 %\n",
      "[5,   100] loss: 0.098\n",
      "[5,   200] loss: 0.128\n",
      "[5,   300] loss: 0.160\n",
      "[5,   400] loss: 0.087\n",
      "[5,   500] loss: 0.109\n",
      "[5,   600] loss: 0.114\n",
      "[5,   700] loss: 0.133\n",
      "[5,   800] loss: 0.103\n",
      "[5,   900] loss: 0.110\n",
      "[5,  1000] loss: 0.130\n",
      "Epoch concluded #: 5\n",
      "Recall -> 0.98125\n",
      "Accuracy -> 0.9543899657924744\n",
      "f2 score -> 0.97636815920398\n",
      "Accuracy of the network w/ validation/test: 95 %\n",
      "Finished training. Time taken:  722.6546945571899\n"
     ]
    },
    {
     "name": "stderr",
     "output_type": "stream",
     "text": [
      "C:\\Users\\Fu\\.conda\\envs\\notebook\\lib\\site-packages\\linear_operator\\utils\\cholesky.py:40: NumericalWarning: A not p.d., added jitter of 1.0e-08 to the diagonal\n",
      "  warnings.warn(\n"
     ]
    },
    {
     "name": "stdout",
     "output_type": "stream",
     "text": [
      "\n",
      "Next choice query: tensor([0.2862739861, 0.6020376935, 0.0364435245, 0.1898443401, 0.9963325544,\n",
      "        0.7207867780, 0.8201737768, 0.8688681722], dtype=torch.float64)\n",
      "0.286274-0.602038-0.036444-0.189844-0.996333-0.720787-0.820174-0.868868\n",
      "\n",
      " Next choice query(unnorm): [[ 0.00192242  0.89540613  3.96691651  4.34847521  4.2240292   3.3748376\n",
      "  19.44307286  5.9276004 ]]\n",
      "\n",
      "lr = 0.001922420527560117, momentum = 0.8954061283112976,conv1out    = 4,\n",
      "                               conv1kernel = 4,filter_size = 4,\n",
      "                               stride_step = 3,conv2out    = 19,\n",
      "                               conv2kernel = 6,epochs = 5\n",
      "LeNet5 adjustable: total params: 13397\n",
      "* fc1 to be adjusted\n",
      "Network has been updated:\n",
      "LeNet5 adjustable: total params: 1116797\n",
      "LeNet(\n",
      "  (conv1): Conv2d(1, 4, kernel_size=(4, 4), stride=(1, 1))\n",
      "  (pool): MaxPool2d(kernel_size=4, stride=3, padding=0, dilation=1, ceil_mode=False)\n",
      "  (conv2): Conv2d(4, 19, kernel_size=(6, 6), stride=(1, 1))\n",
      "  (fc1): Linear(in_features=9196, out_features=120, bias=True)\n",
      "  (fc2): Linear(in_features=120, out_features=84, bias=True)\n",
      "  (fc3): Linear(in_features=84, out_features=2, bias=True)\n",
      ")\n",
      "[1,   100] loss: 0.576\n",
      "[1,   200] loss: 0.390\n",
      "[1,   300] loss: 0.328\n",
      "[1,   400] loss: 0.293\n",
      "[1,   500] loss: 0.239\n",
      "[1,   600] loss: 0.269\n",
      "[1,   700] loss: 0.262\n",
      "[1,   800] loss: 0.214\n",
      "[1,   900] loss: 0.188\n",
      "[1,  1000] loss: 0.166\n",
      "Epoch concluded #: 1\n",
      "Recall -> 0.9546875\n",
      "Accuracy -> 0.935005701254276\n",
      "f2 score -> 0.9549859331040951\n",
      "Accuracy of the network w/ validation/test: 93 %\n",
      "[2,   100] loss: 0.199\n",
      "[2,   200] loss: 0.186\n",
      "[2,   300] loss: 0.160\n",
      "[2,   400] loss: 0.146\n",
      "[2,   500] loss: 0.182\n",
      "[2,   600] loss: 0.129\n",
      "[2,   700] loss: 0.177\n",
      "[2,   800] loss: 0.178\n",
      "[2,   900] loss: 0.178\n",
      "[2,  1000] loss: 0.178\n",
      "Epoch concluded #: 2\n",
      "Recall -> 0.971875\n",
      "Accuracy -> 0.9521094640820981\n",
      "f2 score -> 0.9700561447286337\n",
      "Accuracy of the network w/ validation/test: 95 %\n",
      "[3,   100] loss: 0.137\n",
      "[3,   200] loss: 0.156\n",
      "[3,   300] loss: 0.177\n",
      "[3,   400] loss: 0.149\n",
      "[3,   500] loss: 0.152\n",
      "[3,   600] loss: 0.142\n",
      "[3,   700] loss: 0.134\n",
      "[3,   800] loss: 0.102\n",
      "[3,   900] loss: 0.161\n",
      "[3,  1000] loss: 0.139\n",
      "Epoch concluded #: 3\n",
      "Recall -> 0.965625\n",
      "Accuracy -> 0.9532497149372862\n",
      "f2 score -> 0.9665311229277448\n",
      "Accuracy of the network w/ validation/test: 95 %\n",
      "[4,   100] loss: 0.128\n",
      "[4,   200] loss: 0.113\n",
      "[4,   300] loss: 0.094\n",
      "[4,   400] loss: 0.141\n",
      "[4,   500] loss: 0.093\n",
      "[4,   600] loss: 0.146\n",
      "[4,   700] loss: 0.128\n",
      "[4,   800] loss: 0.131\n",
      "[4,   900] loss: 0.139\n",
      "[4,  1000] loss: 0.140\n",
      "Epoch concluded #: 4\n",
      "Recall -> 0.96875\n",
      "Accuracy -> 0.9589509692132269\n",
      "f2 score -> 0.9699624530663329\n",
      "Accuracy of the network w/ validation/test: 95 %\n",
      "[5,   100] loss: 0.088\n",
      "[5,   200] loss: 0.145\n",
      "[5,   300] loss: 0.117\n",
      "[5,   400] loss: 0.126\n",
      "[5,   500] loss: 0.112\n",
      "[5,   600] loss: 0.122\n",
      "[5,   700] loss: 0.076\n",
      "[5,   800] loss: 0.127\n",
      "[5,   900] loss: 0.169\n",
      "[5,  1000] loss: 0.060\n",
      "Epoch concluded #: 5\n",
      "Recall -> 0.98125\n",
      "Accuracy -> 0.9566704675028507\n",
      "f2 score -> 0.9769757311761046\n",
      "Accuracy of the network w/ validation/test: 95 %\n",
      "Finished training. Time taken:  711.2673485279083\n"
     ]
    },
    {
     "name": "stderr",
     "output_type": "stream",
     "text": [
      "C:\\Users\\Fu\\.conda\\envs\\notebook\\lib\\site-packages\\linear_operator\\utils\\cholesky.py:40: NumericalWarning: A not p.d., added jitter of 1.0e-08 to the diagonal\n",
      "  warnings.warn(\n"
     ]
    },
    {
     "name": "stdout",
     "output_type": "stream",
     "text": [
      "\n",
      "Next choice query: tensor([0.9618331194, 0.6068686240, 0.0209388235, 0.7467019558, 0.9812549424,\n",
      "        0.9743138362, 0.3581568019, 0.4935258627], dtype=torch.float64)\n",
      "0.961833-0.606869-0.020939-0.746702-0.981255-0.974314-0.358157-0.493526\n",
      "\n",
      " Next choice query(unnorm): [[ 0.00625561  0.89708572  3.82268673  5.64349292  4.18896498  4.25923431\n",
      "  16.21969862  5.05471131]]\n",
      "\n",
      "lr = 0.006255607519599872, momentum = 0.8970857192675291,conv1out    = 4,\n",
      "                               conv1kernel = 6,filter_size = 4,\n",
      "                               stride_step = 4,conv2out    = 16,\n",
      "                               conv2kernel = 5,epochs = 5\n",
      "LeNet5 adjustable: total params: 12338\n",
      "* fc1 to be adjusted\n",
      "Network has been updated:\n",
      "LeNet5 adjustable: total params: 288698\n",
      "LeNet(\n",
      "  (conv1): Conv2d(1, 4, kernel_size=(6, 6), stride=(1, 1))\n",
      "  (pool): MaxPool2d(kernel_size=4, stride=4, padding=0, dilation=1, ceil_mode=False)\n",
      "  (conv2): Conv2d(4, 16, kernel_size=(5, 5), stride=(1, 1))\n",
      "  (fc1): Linear(in_features=2304, out_features=120, bias=True)\n",
      "  (fc2): Linear(in_features=120, out_features=84, bias=True)\n",
      "  (fc3): Linear(in_features=84, out_features=2, bias=True)\n",
      ")\n",
      "[1,   100] loss: 0.596\n",
      "[1,   200] loss: 0.443\n",
      "[1,   300] loss: 0.369\n",
      "[1,   400] loss: 0.333\n",
      "[1,   500] loss: 0.328\n",
      "[1,   600] loss: 0.236\n",
      "[1,   700] loss: 0.218\n",
      "[1,   800] loss: 0.216\n",
      "[1,   900] loss: 0.176\n",
      "[1,  1000] loss: 0.155\n",
      "Epoch concluded #: 1\n",
      "Recall -> 0.9953125\n",
      "Accuracy -> 0.8779931584948689\n",
      "f2 score -> 0.96485913359588\n",
      "Accuracy of the network w/ validation/test: 87 %\n",
      "[2,   100] loss: 0.203\n",
      "[2,   200] loss: 0.212\n",
      "[2,   300] loss: 0.183\n",
      "[2,   400] loss: 0.156\n",
      "[2,   500] loss: 0.204\n",
      "[2,   600] loss: 0.145\n",
      "[2,   700] loss: 0.179\n",
      "[2,   800] loss: 0.184\n",
      "[2,   900] loss: 0.156\n",
      "[2,  1000] loss: 0.154\n",
      "Epoch concluded #: 2\n",
      "Recall -> 0.9859375\n",
      "Accuracy -> 0.936145952109464\n",
      "f2 score -> 0.9743668931439161\n",
      "Accuracy of the network w/ validation/test: 93 %\n",
      "[3,   100] loss: 0.113\n",
      "[3,   200] loss: 0.157\n",
      "[3,   300] loss: 0.195\n",
      "[3,   400] loss: 0.159\n",
      "[3,   500] loss: 0.107\n",
      "[3,   600] loss: 0.154\n",
      "[3,   700] loss: 0.129\n",
      "[3,   800] loss: 0.137\n",
      "[3,   900] loss: 0.109\n",
      "[3,  1000] loss: 0.131\n",
      "Epoch concluded #: 3\n",
      "Recall -> 0.984375\n",
      "Accuracy -> 0.9441277080957811\n",
      "f2 score -> 0.97553422112109\n",
      "Accuracy of the network w/ validation/test: 94 %\n",
      "[4,   100] loss: 0.108\n",
      "[4,   200] loss: 0.095\n",
      "[4,   300] loss: 0.125\n",
      "[4,   400] loss: 0.143\n",
      "[4,   500] loss: 0.114\n",
      "[4,   600] loss: 0.104\n",
      "[4,   700] loss: 0.132\n",
      "[4,   800] loss: 0.109\n",
      "[4,   900] loss: 0.130\n",
      "[4,  1000] loss: 0.101\n",
      "Epoch concluded #: 4\n",
      "Recall -> 0.96875\n",
      "Accuracy -> 0.9589509692132269\n",
      "f2 score -> 0.9699624530663329\n",
      "Accuracy of the network w/ validation/test: 95 %\n",
      "[5,   100] loss: 0.071\n",
      "[5,   200] loss: 0.121\n",
      "[5,   300] loss: 0.118\n",
      "[5,   400] loss: 0.090\n",
      "[5,   500] loss: 0.073\n",
      "[5,   600] loss: 0.082\n",
      "[5,   700] loss: 0.157\n",
      "[5,   800] loss: 0.112\n",
      "[5,   900] loss: 0.078\n",
      "[5,  1000] loss: 0.100\n",
      "Epoch concluded #: 5\n",
      "Recall -> 0.9734375\n",
      "Accuracy -> 0.9589509692132269\n",
      "f2 score -> 0.9728294815740162\n",
      "Accuracy of the network w/ validation/test: 95 %\n",
      "Finished training. Time taken:  630.2313945293427\n"
     ]
    },
    {
     "name": "stderr",
     "output_type": "stream",
     "text": [
      "C:\\Users\\Fu\\.conda\\envs\\notebook\\lib\\site-packages\\linear_operator\\utils\\cholesky.py:40: NumericalWarning: A not p.d., added jitter of 1.0e-08 to the diagonal\n",
      "  warnings.warn(\n"
     ]
    },
    {
     "name": "stdout",
     "output_type": "stream",
     "text": [
      "\n",
      "Next choice query: tensor([0.8356778622, 0.6017370186, 0.0220665317, 0.7498574853, 0.7716178177,\n",
      "        0.9778014183, 0.7272306461, 0.2356015593], dtype=torch.float64)\n",
      "0.835678-0.601737-0.022067-0.749857-0.771618-0.977801-0.727231-0.235602\n",
      "\n",
      " Next choice query(unnorm): [[ 0.00581337  0.89530159  3.83317704  5.65083136  3.70143679  4.2714003\n",
      "  18.79463241  4.45488735]]\n",
      "\n",
      "lr = 0.005813367146967768, momentum = 0.8953015913676775,conv1out    = 4,\n",
      "                               conv1kernel = 6,filter_size = 4,\n",
      "                               stride_step = 4,conv2out    = 19,\n",
      "                               conv2kernel = 4,epochs = 5\n",
      "LeNet5 adjustable: total params: 11957\n",
      "* fc1 to be adjusted\n",
      "Network has been updated:\n",
      "LeNet5 adjustable: total params: 340157\n",
      "LeNet(\n",
      "  (conv1): Conv2d(1, 4, kernel_size=(6, 6), stride=(1, 1))\n",
      "  (pool): MaxPool2d(kernel_size=4, stride=4, padding=0, dilation=1, ceil_mode=False)\n",
      "  (conv2): Conv2d(4, 19, kernel_size=(4, 4), stride=(1, 1))\n",
      "  (fc1): Linear(in_features=2736, out_features=120, bias=True)\n",
      "  (fc2): Linear(in_features=120, out_features=84, bias=True)\n",
      "  (fc3): Linear(in_features=84, out_features=2, bias=True)\n",
      ")\n",
      "[1,   100] loss: 0.580\n",
      "[1,   200] loss: 0.403\n",
      "[1,   300] loss: 0.524\n",
      "[1,   400] loss: 0.419\n",
      "[1,   500] loss: 0.329\n",
      "[1,   600] loss: 0.261\n",
      "[1,   700] loss: 0.299\n",
      "[1,   800] loss: 0.248\n",
      "[1,   900] loss: 0.196\n",
      "[1,  1000] loss: 0.264\n",
      "Epoch concluded #: 1\n",
      "Recall -> 0.9421875\n",
      "Accuracy -> 0.9304446978335233\n",
      "f2 score -> 0.9460307499215561\n",
      "Accuracy of the network w/ validation/test: 93 %\n",
      "[2,   100] loss: 0.206\n",
      "[2,   200] loss: 0.198\n",
      "[2,   300] loss: 0.146\n",
      "[2,   400] loss: 0.179\n",
      "[2,   500] loss: 0.184\n",
      "[2,   600] loss: 0.165\n",
      "[2,   700] loss: 0.179\n",
      "[2,   800] loss: 0.208\n",
      "[2,   900] loss: 0.162\n",
      "[2,  1000] loss: 0.149\n",
      "Epoch concluded #: 2\n",
      "Recall -> 0.975\n",
      "Accuracy -> 0.9452679589509693\n",
      "f2 score -> 0.9701492537313433\n",
      "Accuracy of the network w/ validation/test: 94 %\n",
      "[3,   100] loss: 0.133\n",
      "[3,   200] loss: 0.108\n",
      "[3,   300] loss: 0.130\n",
      "[3,   400] loss: 0.151\n",
      "[3,   500] loss: 0.150\n",
      "[3,   600] loss: 0.098\n",
      "[3,   700] loss: 0.158\n",
      "[3,   800] loss: 0.133\n",
      "[3,   900] loss: 0.098\n",
      "[3,  1000] loss: 0.104\n",
      "Epoch concluded #: 3\n",
      "Recall -> 0.9765625\n",
      "Accuracy -> 0.9543899657924744\n",
      "f2 score -> 0.9735202492211836\n",
      "Accuracy of the network w/ validation/test: 95 %\n",
      "[4,   100] loss: 0.119\n",
      "[4,   200] loss: 0.112\n",
      "[4,   300] loss: 0.111\n",
      "[4,   400] loss: 0.106\n",
      "[4,   500] loss: 0.113\n",
      "[4,   600] loss: 0.102\n",
      "[4,   700] loss: 0.155\n",
      "[4,   800] loss: 0.092\n",
      "[4,   900] loss: 0.143\n",
      "[4,  1000] loss: 0.125\n",
      "Epoch concluded #: 4\n",
      "Recall -> 0.9890625\n",
      "Accuracy -> 0.9452679589509693\n",
      "f2 score -> 0.9786641929499074\n",
      "Accuracy of the network w/ validation/test: 94 %\n",
      "[5,   100] loss: 0.084\n",
      "[5,   200] loss: 0.143\n",
      "[5,   300] loss: 0.077\n",
      "[5,   400] loss: 0.126\n",
      "[5,   500] loss: 0.104\n",
      "[5,   600] loss: 0.084\n",
      "[5,   700] loss: 0.071\n",
      "[5,   800] loss: 0.123\n",
      "[5,   900] loss: 0.052\n",
      "[5,  1000] loss: 0.097\n",
      "Epoch concluded #: 5\n",
      "Recall -> 0.9921875\n",
      "Accuracy -> 0.95096921322691\n",
      "f2 score -> 0.9820600061862048\n",
      "Accuracy of the network w/ validation/test: 95 %\n",
      "Finished training. Time taken:  639.5294551849365\n"
     ]
    }
   ],
   "source": [
    "# the loop\n",
    "\n",
    "run_loop = True    # Do we run the training loop now? Set it to True so it runs\n",
    "                    # It will append data to the saved pickled, unless otherwise\n",
    "\n",
    "if run_loop:\n",
    "    for i in range(4):  # Generate and test i samples...  We can keep running\n",
    "                        # as often as we want, results get saved to a file...\n",
    "                        # remember to read the results before.\n",
    "                        # it will read depending if chunk of code is set run\n",
    "                        # or 'resume search'.\n",
    "            \n",
    "        # normalize data to train\n",
    "        # df_bo_results is the data to normalize\n",
    "        X_bo = df_bo_results.iloc[:,:-7]\n",
    "        Y_bo = df_bo_results.iloc[:,-6]\n",
    "\n",
    "        scalerX = MinMaxScaler(feature_range=(0.04, .9))\n",
    "        X_bo_mm = pd.DataFrame(scalerX.fit_transform(X_bo))\n",
    "        # print(X_bo_mm.to_numpy())\n",
    "\n",
    "\n",
    "        # run BoTorch\n",
    "        state = TurboState(dim = 8)\n",
    "        train_x1 = torch.from_numpy(X_bo_mm.to_numpy())\n",
    "        train_y1 = torch.from_numpy(Y_bo.to_numpy())\n",
    "        next_query = next_query_via_TurBO(train_x=train_x1, train_y=train_y1, turbo_state=state)\n",
    "\n",
    "        \n",
    "        # run via UCB\n",
    "        # model = GaussianProcessRegressor()\n",
    "        # model.fit(X_bo_mm,Y_bo)\n",
    "        # next_query = ucb_search_by_step_8_4(X_bo_mm, Y_bo, 4, 5, model)\n",
    "        \n",
    "        \n",
    "        print(f'\\nNext choice query: {next_query}')\n",
    "        print(assignment_format(next_query))\n",
    "\n",
    "        # un-normalize BoTorch results\n",
    "        next_query = next_query.reshape(1,-1)\n",
    "\n",
    "        original_values = scalerX.inverse_transform(next_query)\n",
    "        print(f'\\n Next choice query(unnorm): {original_values}\\n')\n",
    "\n",
    "        \n",
    "        # Run model with unormalized data\n",
    "        time_taken_experiments = []\n",
    "        accuracy_lists_experiments = []\n",
    "        recall_lists_experiments = []\n",
    "        f2score_lists_experiments = []\n",
    "    \n",
    "        time_taken_experiments = []\n",
    "        num_params_list = []\n",
    "        \n",
    "        \n",
    "        \n",
    "        start = time.time()\n",
    "        \n",
    "        print(f'''lr = {original_values[0][0]}, momentum = {original_values[0][1]},conv1out    = {round(original_values[0][2])},\n",
    "                               conv1kernel = {round(original_values[0][3])},filter_size = {round(original_values[0][4])},\n",
    "                               stride_step = {round(original_values[0][5])},conv2out    = {round(original_values[0][6])},\n",
    "                               conv2kernel = {round(original_values[0][7])},epochs = 5''')\n",
    "        \n",
    "        performance_returned = model_training(lr          = original_values[0][0],\n",
    "                               momentum    = original_values[0][1],\n",
    "                               conv1out    = round(original_values[0][2]),\n",
    "                               conv1kernel = round(original_values[0][3]),\n",
    "                               filter_size = round(original_values[0][4]),\n",
    "                               stride_step = round(original_values[0][5]),\n",
    "                               conv2out    = round(original_values[0][6]),\n",
    "                               conv2kernel = round(original_values[0][7]),\n",
    "                               epochs = 5\n",
    "                                                    )\n",
    "        \n",
    "        num_params_list.append(total_params_)\n",
    "        accuracy_lists_experiments.append(performance_returned[0])\n",
    "        recall_lists_experiments.append(performance_returned[1])\n",
    "        f2score_lists_experiments.append(performance_returned[2])\n",
    "        \n",
    "        \n",
    "        end = time.time()\n",
    "        time_taken = end-start\n",
    "        \n",
    "        time_taken_experiments.append(time_taken)\n",
    "\n",
    "\n",
    "        # This is the row to be inserted:\n",
    "        # insert BoTorch results + model result in dataframe\n",
    "        new_row_bo = list(*original_values)\n",
    "        \n",
    "        # Accuracy best:\n",
    "        new_row_bo.append(np.max(accuracy_lists_experiments[0]))    #  returns a list, we have to change that to max of list, if using epoch > 1\n",
    "        # Accuracy at epoch:\n",
    "        new_row_bo.append(accuracy_lists_experiments[0][-1])\n",
    "                                                                 # here we are doing best accuracy out of the number of epochs...\n",
    "        new_row_bo.append(accuracy_lists_experiments[0])\n",
    "        new_row_bo.append(recall_lists_experiments[0])\n",
    "        new_row_bo.append(f2score_lists_experiments[0])\n",
    "        \n",
    "        new_row_bo.append(time_taken)\n",
    "        new_row_bo.append(total_params_)    # Remember total_params_ is has global escope\n",
    "\n",
    "        for a in range(2,len(new_row_bo)-7):  # now we round specific values in the list to insert in the df\n",
    "            new_row_bo[a] = round(new_row_bo[a])\n",
    "\n",
    "        df_bo_results.loc[len(df_bo_results)] = new_row_bo  # insert in df values\n",
    "\n",
    "        # Now we save the results - The running time for this loop might be long, better save\n",
    "        # it on each iteration - we should do the same when generating sample results above...\n",
    "\n",
    "        df_bo_results.to_pickle('./workflow_data/df_bo_results.pkl')\n",
    "\n",
    "        #df_bo_results.loc[len(df_bo_results)] = original_values\n",
    "\n"
   ]
  },
  {
   "cell_type": "code",
   "execution_count": 137,
   "id": "37bd388f",
   "metadata": {
    "ExecuteTime": {
     "end_time": "2023-07-19T16:11:32.592258Z",
     "start_time": "2023-07-19T16:11:32.572022Z"
    }
   },
   "outputs": [],
   "source": [
    "df_bo_results['recall_best'] = df_bo_results['recall_list'].apply(lambda x: np.max(x))\n",
    "df_bo_results['f2_best'] = df_bo_results['f2score_list'].apply(lambda x: np.max(x))"
   ]
  },
  {
   "cell_type": "code",
   "execution_count": 199,
   "id": "6674a459",
   "metadata": {
    "ExecuteTime": {
     "end_time": "2023-07-19T19:55:02.158914Z",
     "start_time": "2023-07-19T19:55:02.150677Z"
    }
   },
   "outputs": [],
   "source": [
    "df_bo_results['recall_best_at_e'] = df_bo_results['recall_list'].apply(lambda x: x[-1])\n",
    "df_bo_results['f2_best_at_e'] = df_bo_results['f2score_list'].apply(lambda x: x[-1])"
   ]
  },
  {
   "cell_type": "code",
   "execution_count": 229,
   "id": "a1313e55",
   "metadata": {
    "ExecuteTime": {
     "end_time": "2023-07-20T10:13:54.638284Z",
     "start_time": "2023-07-20T10:13:54.591282Z"
    },
    "scrolled": false
   },
   "outputs": [
    {
     "data": {
      "text/html": [
       "<div>\n",
       "<style scoped>\n",
       "    .dataframe tbody tr th:only-of-type {\n",
       "        vertical-align: middle;\n",
       "    }\n",
       "\n",
       "    .dataframe tbody tr th {\n",
       "        vertical-align: top;\n",
       "    }\n",
       "\n",
       "    .dataframe thead th {\n",
       "        text-align: right;\n",
       "    }\n",
       "</style>\n",
       "<table border=\"1\" class=\"dataframe\">\n",
       "  <thead>\n",
       "    <tr style=\"text-align: right;\">\n",
       "      <th></th>\n",
       "      <th>lr</th>\n",
       "      <th>momentum</th>\n",
       "      <th>conv1out</th>\n",
       "      <th>conv1kernel</th>\n",
       "      <th>filter_size</th>\n",
       "      <th>stride_step</th>\n",
       "      <th>conv2out</th>\n",
       "      <th>conv2_kernel</th>\n",
       "      <th>accuracy_best</th>\n",
       "      <th>accuracy_at_e</th>\n",
       "      <th>accuracy_list</th>\n",
       "      <th>recall_list</th>\n",
       "      <th>f2score_list</th>\n",
       "      <th>time_taken</th>\n",
       "      <th>total_parameters</th>\n",
       "      <th>recall_best</th>\n",
       "      <th>f2_best</th>\n",
       "      <th>recall_best_at_e</th>\n",
       "      <th>f2_best_at_e</th>\n",
       "    </tr>\n",
       "  </thead>\n",
       "  <tbody>\n",
       "    <tr>\n",
       "      <th>56</th>\n",
       "      <td>0.004553</td>\n",
       "      <td>0.899062</td>\n",
       "      <td>4</td>\n",
       "      <td>5</td>\n",
       "      <td>4</td>\n",
       "      <td>4</td>\n",
       "      <td>14</td>\n",
       "      <td>5</td>\n",
       "      <td>0.963512</td>\n",
       "      <td>0.963512</td>\n",
       "      <td>[0.9372862029646523, 0.9521094640820981, 0.949...</td>\n",
       "      <td>[0.984375, 0.98125, 0.95625, 0.990625, 0.971875]</td>\n",
       "      <td>[0.973724884080371, 0.9757613424487258, 0.9598...</td>\n",
       "      <td>843.036585</td>\n",
       "      <td>253892</td>\n",
       "      <td>0.990625</td>\n",
       "      <td>0.978999</td>\n",
       "      <td>0.971875</td>\n",
       "      <td>0.973091</td>\n",
       "    </tr>\n",
       "    <tr>\n",
       "      <th>49</th>\n",
       "      <td>0.002131</td>\n",
       "      <td>0.899210</td>\n",
       "      <td>10</td>\n",
       "      <td>6</td>\n",
       "      <td>4</td>\n",
       "      <td>4</td>\n",
       "      <td>14</td>\n",
       "      <td>6</td>\n",
       "      <td>0.961231</td>\n",
       "      <td>0.961231</td>\n",
       "      <td>[0.936145952109464, 0.9418472063854048, 0.9486...</td>\n",
       "      <td>[0.9609375, 0.9703125, 0.965625, 0.9875, 0.976...</td>\n",
       "      <td>[0.9591391141609484, 0.9663865546218487, 0.965...</td>\n",
       "      <td>721.230530</td>\n",
       "      <td>257798</td>\n",
       "      <td>0.987500</td>\n",
       "      <td>0.979845</td>\n",
       "      <td>0.976562</td>\n",
       "      <td>0.975343</td>\n",
       "    </tr>\n",
       "    <tr>\n",
       "      <th>12</th>\n",
       "      <td>0.002345</td>\n",
       "      <td>0.901656</td>\n",
       "      <td>10</td>\n",
       "      <td>6</td>\n",
       "      <td>4</td>\n",
       "      <td>3</td>\n",
       "      <td>15</td>\n",
       "      <td>6</td>\n",
       "      <td>0.961231</td>\n",
       "      <td>0.961231</td>\n",
       "      <td>[0.9007981755986317, 0.9452679589509693, 0.950...</td>\n",
       "      <td>[0.99375, 0.9875, 0.9859375, 0.96875, 0.9734375]</td>\n",
       "      <td>[0.969807868252516, 0.9777227722772278, 0.9782...</td>\n",
       "      <td>997.824735</td>\n",
       "      <td>887439</td>\n",
       "      <td>0.993750</td>\n",
       "      <td>0.978295</td>\n",
       "      <td>0.973437</td>\n",
       "      <td>0.973438</td>\n",
       "    </tr>\n",
       "    <tr>\n",
       "      <th>58</th>\n",
       "      <td>0.005859</td>\n",
       "      <td>0.897152</td>\n",
       "      <td>5</td>\n",
       "      <td>4</td>\n",
       "      <td>4</td>\n",
       "      <td>4</td>\n",
       "      <td>17</td>\n",
       "      <td>4</td>\n",
       "      <td>0.960091</td>\n",
       "      <td>0.960091</td>\n",
       "      <td>[0.8757126567844926, 0.9555302166476625, 0.953...</td>\n",
       "      <td>[0.996875, 0.98125, 0.95625, 0.9734375, 0.971875]</td>\n",
       "      <td>[0.9652042360060514, 0.9766718506998445, 0.960...</td>\n",
       "      <td>617.766224</td>\n",
       "      <td>356676</td>\n",
       "      <td>0.996875</td>\n",
       "      <td>0.976672</td>\n",
       "      <td>0.971875</td>\n",
       "      <td>0.972179</td>\n",
       "    </tr>\n",
       "    <tr>\n",
       "      <th>2</th>\n",
       "      <td>0.005000</td>\n",
       "      <td>0.900000</td>\n",
       "      <td>8</td>\n",
       "      <td>6</td>\n",
       "      <td>4</td>\n",
       "      <td>4</td>\n",
       "      <td>20</td>\n",
       "      <td>6</td>\n",
       "      <td>0.964652</td>\n",
       "      <td>0.960091</td>\n",
       "      <td>[0.927023945267959, 0.9498289623717218, 0.9566...</td>\n",
       "      <td>[0.990625, 0.953125, 0.96875, 0.9875, 0.98125]</td>\n",
       "      <td>[0.9747847478474786, 0.9579145728643215, 0.969...</td>\n",
       "      <td>647.930753</td>\n",
       "      <td>362130</td>\n",
       "      <td>0.990625</td>\n",
       "      <td>0.982893</td>\n",
       "      <td>0.981250</td>\n",
       "      <td>0.977889</td>\n",
       "    </tr>\n",
       "  </tbody>\n",
       "</table>\n",
       "</div>"
      ],
      "text/plain": [
       "          lr  momentum  conv1out  conv1kernel  filter_size  stride_step   \n",
       "56  0.004553  0.899062         4            5            4            4  \\\n",
       "49  0.002131  0.899210        10            6            4            4   \n",
       "12  0.002345  0.901656        10            6            4            3   \n",
       "58  0.005859  0.897152         5            4            4            4   \n",
       "2   0.005000  0.900000         8            6            4            4   \n",
       "\n",
       "    conv2out  conv2_kernel  accuracy_best  accuracy_at_e   \n",
       "56        14             5       0.963512       0.963512  \\\n",
       "49        14             6       0.961231       0.961231   \n",
       "12        15             6       0.961231       0.961231   \n",
       "58        17             4       0.960091       0.960091   \n",
       "2         20             6       0.964652       0.960091   \n",
       "\n",
       "                                        accuracy_list   \n",
       "56  [0.9372862029646523, 0.9521094640820981, 0.949...  \\\n",
       "49  [0.936145952109464, 0.9418472063854048, 0.9486...   \n",
       "12  [0.9007981755986317, 0.9452679589509693, 0.950...   \n",
       "58  [0.8757126567844926, 0.9555302166476625, 0.953...   \n",
       "2   [0.927023945267959, 0.9498289623717218, 0.9566...   \n",
       "\n",
       "                                          recall_list   \n",
       "56   [0.984375, 0.98125, 0.95625, 0.990625, 0.971875]  \\\n",
       "49  [0.9609375, 0.9703125, 0.965625, 0.9875, 0.976...   \n",
       "12   [0.99375, 0.9875, 0.9859375, 0.96875, 0.9734375]   \n",
       "58  [0.996875, 0.98125, 0.95625, 0.9734375, 0.971875]   \n",
       "2      [0.990625, 0.953125, 0.96875, 0.9875, 0.98125]   \n",
       "\n",
       "                                         f2score_list  time_taken   \n",
       "56  [0.973724884080371, 0.9757613424487258, 0.9598...  843.036585  \\\n",
       "49  [0.9591391141609484, 0.9663865546218487, 0.965...  721.230530   \n",
       "12  [0.969807868252516, 0.9777227722772278, 0.9782...  997.824735   \n",
       "58  [0.9652042360060514, 0.9766718506998445, 0.960...  617.766224   \n",
       "2   [0.9747847478474786, 0.9579145728643215, 0.969...  647.930753   \n",
       "\n",
       "    total_parameters  recall_best   f2_best  recall_best_at_e  f2_best_at_e  \n",
       "56            253892     0.990625  0.978999          0.971875      0.973091  \n",
       "49            257798     0.987500  0.979845          0.976562      0.975343  \n",
       "12            887439     0.993750  0.978295          0.973437      0.973438  \n",
       "58            356676     0.996875  0.976672          0.971875      0.972179  \n",
       "2             362130     0.990625  0.982893          0.981250      0.977889  "
      ]
     },
     "execution_count": 229,
     "metadata": {},
     "output_type": "execute_result"
    }
   ],
   "source": [
    "df_bo_results.sort_values(by = 'accuracy_at_e' , ascending=False).head(5)"
   ]
  },
  {
   "cell_type": "markdown",
   "id": "6f2f1c2d",
   "metadata": {},
   "source": [
    "Now we can check the 5 best parameters according to our searches.\n",
    "- All the models in the dataframe from index 6 onwards were trained based on parameters found by the bayesian search. We can´t say that the results obtained through random/list search were so bad;\n",
    "- When checking the best accuracy on the number of trained epochs: at Index **02**  the model with **random search** was able to hit **96.00%** accuracy. Meanwhile at index **56** using **BoTorch with Thompson Sampling** we were able to find an accuracy of **96.35%**."
   ]
  },
  {
   "cell_type": "markdown",
   "id": "a02c3df5",
   "metadata": {},
   "source": [
    "We can also check the best ```f2score``` and ```recall``` metric in the obtained data below:"
   ]
  },
  {
   "cell_type": "code",
   "execution_count": 234,
   "id": "724557e2",
   "metadata": {
    "ExecuteTime": {
     "end_time": "2023-07-20T10:15:54.910776Z",
     "start_time": "2023-07-20T10:15:54.879778Z"
    }
   },
   "outputs": [
    {
     "data": {
      "text/html": [
       "<div>\n",
       "<style scoped>\n",
       "    .dataframe tbody tr th:only-of-type {\n",
       "        vertical-align: middle;\n",
       "    }\n",
       "\n",
       "    .dataframe tbody tr th {\n",
       "        vertical-align: top;\n",
       "    }\n",
       "\n",
       "    .dataframe thead th {\n",
       "        text-align: right;\n",
       "    }\n",
       "</style>\n",
       "<table border=\"1\" class=\"dataframe\">\n",
       "  <thead>\n",
       "    <tr style=\"text-align: right;\">\n",
       "      <th></th>\n",
       "      <th>lr</th>\n",
       "      <th>momentum</th>\n",
       "      <th>conv1out</th>\n",
       "      <th>conv1kernel</th>\n",
       "      <th>filter_size</th>\n",
       "      <th>stride_step</th>\n",
       "      <th>conv2out</th>\n",
       "      <th>conv2_kernel</th>\n",
       "      <th>accuracy_best</th>\n",
       "      <th>accuracy_at_e</th>\n",
       "      <th>accuracy_list</th>\n",
       "      <th>recall_list</th>\n",
       "      <th>f2score_list</th>\n",
       "      <th>time_taken</th>\n",
       "      <th>total_parameters</th>\n",
       "      <th>recall_best</th>\n",
       "      <th>f2_best</th>\n",
       "      <th>recall_best_at_e</th>\n",
       "      <th>f2_best_at_e</th>\n",
       "    </tr>\n",
       "  </thead>\n",
       "  <tbody>\n",
       "    <tr>\n",
       "      <th>63</th>\n",
       "      <td>0.005813</td>\n",
       "      <td>0.895302</td>\n",
       "      <td>4</td>\n",
       "      <td>6</td>\n",
       "      <td>4</td>\n",
       "      <td>4</td>\n",
       "      <td>19</td>\n",
       "      <td>4</td>\n",
       "      <td>0.95439</td>\n",
       "      <td>0.950969</td>\n",
       "      <td>[0.9304446978335233, 0.9452679589509693, 0.954...</td>\n",
       "      <td>[0.9421875, 0.975, 0.9765625, 0.9890625, 0.992...</td>\n",
       "      <td>[0.9460307499215561, 0.9701492537313433, 0.973...</td>\n",
       "      <td>639.530456</td>\n",
       "      <td>340157</td>\n",
       "      <td>0.992188</td>\n",
       "      <td>0.98206</td>\n",
       "      <td>0.992188</td>\n",
       "      <td>0.98206</td>\n",
       "    </tr>\n",
       "  </tbody>\n",
       "</table>\n",
       "</div>"
      ],
      "text/plain": [
       "          lr  momentum  conv1out  conv1kernel  filter_size  stride_step   \n",
       "63  0.005813  0.895302         4            6            4            4  \\\n",
       "\n",
       "    conv2out  conv2_kernel  accuracy_best  accuracy_at_e   \n",
       "63        19             4        0.95439       0.950969  \\\n",
       "\n",
       "                                        accuracy_list   \n",
       "63  [0.9304446978335233, 0.9452679589509693, 0.954...  \\\n",
       "\n",
       "                                          recall_list   \n",
       "63  [0.9421875, 0.975, 0.9765625, 0.9890625, 0.992...  \\\n",
       "\n",
       "                                         f2score_list  time_taken   \n",
       "63  [0.9460307499215561, 0.9701492537313433, 0.973...  639.530456  \\\n",
       "\n",
       "    total_parameters  recall_best  f2_best  recall_best_at_e  f2_best_at_e  \n",
       "63            340157     0.992188  0.98206          0.992188       0.98206  "
      ]
     },
     "execution_count": 234,
     "metadata": {},
     "output_type": "execute_result"
    }
   ],
   "source": [
    "df_bo_results.sort_values(by = 'f2_best_at_e' , ascending=False).head(1)"
   ]
  },
  {
   "cell_type": "code",
   "execution_count": 235,
   "id": "d0afe360",
   "metadata": {
    "ExecuteTime": {
     "end_time": "2023-07-20T10:17:06.928889Z",
     "start_time": "2023-07-20T10:17:06.904892Z"
    }
   },
   "outputs": [
    {
     "data": {
      "text/html": [
       "<div>\n",
       "<style scoped>\n",
       "    .dataframe tbody tr th:only-of-type {\n",
       "        vertical-align: middle;\n",
       "    }\n",
       "\n",
       "    .dataframe tbody tr th {\n",
       "        vertical-align: top;\n",
       "    }\n",
       "\n",
       "    .dataframe thead th {\n",
       "        text-align: right;\n",
       "    }\n",
       "</style>\n",
       "<table border=\"1\" class=\"dataframe\">\n",
       "  <thead>\n",
       "    <tr style=\"text-align: right;\">\n",
       "      <th></th>\n",
       "      <th>lr</th>\n",
       "      <th>momentum</th>\n",
       "      <th>conv1out</th>\n",
       "      <th>conv1kernel</th>\n",
       "      <th>filter_size</th>\n",
       "      <th>stride_step</th>\n",
       "      <th>conv2out</th>\n",
       "      <th>conv2_kernel</th>\n",
       "      <th>accuracy_best</th>\n",
       "      <th>accuracy_at_e</th>\n",
       "      <th>accuracy_list</th>\n",
       "      <th>recall_list</th>\n",
       "      <th>f2score_list</th>\n",
       "      <th>time_taken</th>\n",
       "      <th>total_parameters</th>\n",
       "      <th>recall_best</th>\n",
       "      <th>f2_best</th>\n",
       "      <th>recall_best_at_e</th>\n",
       "      <th>f2_best_at_e</th>\n",
       "    </tr>\n",
       "  </thead>\n",
       "  <tbody>\n",
       "    <tr>\n",
       "      <th>8</th>\n",
       "      <td>0.002</td>\n",
       "      <td>0.999</td>\n",
       "      <td>12</td>\n",
       "      <td>6</td>\n",
       "      <td>4</td>\n",
       "      <td>4</td>\n",
       "      <td>20</td>\n",
       "      <td>6</td>\n",
       "      <td>0.729761</td>\n",
       "      <td>0.729761</td>\n",
       "      <td>[0.7297605473204105, 0.7297605473204105, 0.729...</td>\n",
       "      <td>[1.0, 1.0, 1.0, 1.0, 1.0]</td>\n",
       "      <td>[0.9310445155659005, 0.9310445155659005, 0.931...</td>\n",
       "      <td>755.920754</td>\n",
       "      <td>365158</td>\n",
       "      <td>1.0</td>\n",
       "      <td>0.931045</td>\n",
       "      <td>1.0</td>\n",
       "      <td>0.931045</td>\n",
       "    </tr>\n",
       "  </tbody>\n",
       "</table>\n",
       "</div>"
      ],
      "text/plain": [
       "      lr  momentum  conv1out  conv1kernel  filter_size  stride_step  conv2out   \n",
       "8  0.002     0.999        12            6            4            4        20  \\\n",
       "\n",
       "   conv2_kernel  accuracy_best  accuracy_at_e   \n",
       "8             6       0.729761       0.729761  \\\n",
       "\n",
       "                                       accuracy_list   \n",
       "8  [0.7297605473204105, 0.7297605473204105, 0.729...  \\\n",
       "\n",
       "                 recall_list   \n",
       "8  [1.0, 1.0, 1.0, 1.0, 1.0]  \\\n",
       "\n",
       "                                        f2score_list  time_taken   \n",
       "8  [0.9310445155659005, 0.9310445155659005, 0.931...  755.920754  \\\n",
       "\n",
       "   total_parameters  recall_best   f2_best  recall_best_at_e  f2_best_at_e  \n",
       "8            365158          1.0  0.931045               1.0      0.931045  "
      ]
     },
     "execution_count": 235,
     "metadata": {},
     "output_type": "execute_result"
    }
   ],
   "source": [
    "df_bo_results.sort_values(by = 'recall_best_at_e' , ascending=False).head(1)"
   ]
  },
  {
   "cell_type": "markdown",
   "id": "1852b9c7",
   "metadata": {},
   "source": [
    "<a id='epochs'></a>\n",
    "# Chosen model # epochs"
   ]
  },
  {
   "cell_type": "markdown",
   "id": "9c7a6603",
   "metadata": {
    "ExecuteTime": {
     "end_time": "2023-07-19T16:42:52.965377Z",
     "start_time": "2023-07-19T16:42:52.954372Z"
    }
   },
   "source": [
    "[Introduction](#Introduction) [Imports](#Imports) [Helper](#Helper)  >>  \n",
    "[Data](#data) [Model](#model)  [Initial Data](#initial) [Sampling Initial Data](#sampling)  >>\n",
    "[Bayesian Optimization](#bayesian) [Imports BO](#imports_bo) [BO Search](#bo_search) >> [Epochs Choice](#epochs) [Final Model](#final) [Confusion Matrix](#confusion_matrix)"
   ]
  },
  {
   "cell_type": "markdown",
   "id": "9cf9feb7",
   "metadata": {},
   "source": [
    "In this section, we take the chosen model for further improvement based on the results obtained by the Bayesian Search. We will run the preferred model for more epochs and check the results. In this case, we are choosing the one with the highest accuracy, but we intend to select the # of epochs with the highest F2score. \n",
    "\n",
    "Set ```model_index``` and ```run_this``` to true to run the 30 epochs below"
   ]
  },
  {
   "cell_type": "markdown",
   "id": "195913ee",
   "metadata": {},
   "source": [
    "- Here we are testing the model index with the best accuracy:"
   ]
  },
  {
   "cell_type": "code",
   "execution_count": 166,
   "id": "439da304",
   "metadata": {
    "ExecuteTime": {
     "end_time": "2023-07-19T18:51:22.902355Z",
     "start_time": "2023-07-19T17:55:04.422840Z"
    }
   },
   "outputs": [
    {
     "name": "stdout",
     "output_type": "stream",
     "text": [
      "LeNet5 adjustable: total params: 12092\n",
      "* fc1 to be adjusted\n",
      "Network has been updated:\n",
      "LeNet5 adjustable: total params: 253892\n",
      "LeNet(\n",
      "  (conv1): Conv2d(1, 4, kernel_size=(5, 5), stride=(1, 1))\n",
      "  (pool): MaxPool2d(kernel_size=4, stride=4, padding=0, dilation=1, ceil_mode=False)\n",
      "  (conv2): Conv2d(4, 14, kernel_size=(5, 5), stride=(1, 1))\n",
      "  (fc1): Linear(in_features=2016, out_features=120, bias=True)\n",
      "  (fc2): Linear(in_features=120, out_features=84, bias=True)\n",
      "  (fc3): Linear(in_features=84, out_features=2, bias=True)\n",
      ")\n",
      "[1,   100] loss: 0.658\n",
      "[1,   200] loss: 0.627\n",
      "[1,   300] loss: 0.595\n",
      "[1,   400] loss: 0.587\n",
      "[1,   500] loss: 0.579\n",
      "[1,   600] loss: 0.551\n",
      "[1,   700] loss: 0.614\n",
      "[1,   800] loss: 0.563\n",
      "[1,   900] loss: 0.547\n",
      "[1,  1000] loss: 0.541\n",
      "Epoch concluded #: 1\n",
      "Recall -> 1.0\n",
      "Accuracy -> 0.7297605473204105\n",
      "f2 score -> 0.9310445155659005\n",
      "Accuracy of the network w/ validation/test: 72 %\n",
      "[2,   100] loss: 0.408\n",
      "[2,   200] loss: 0.385\n",
      "[2,   300] loss: 0.299\n",
      "[2,   400] loss: 0.280\n",
      "[2,   500] loss: 0.245\n",
      "[2,   600] loss: 0.275\n",
      "[2,   700] loss: 0.223\n",
      "[2,   800] loss: 0.213\n",
      "[2,   900] loss: 0.241\n",
      "[2,  1000] loss: 0.219\n",
      "Epoch concluded #: 2\n",
      "Recall -> 0.9734375\n",
      "Accuracy -> 0.9201824401368301\n",
      "f2 score -> 0.9626081582200247\n",
      "Accuracy of the network w/ validation/test: 92 %\n",
      "[3,   100] loss: 0.239\n",
      "[3,   200] loss: 0.160\n",
      "[3,   300] loss: 0.183\n",
      "[3,   400] loss: 0.184\n",
      "[3,   500] loss: 0.197\n",
      "[3,   600] loss: 0.180\n",
      "[3,   700] loss: 0.200\n",
      "[3,   800] loss: 0.217\n",
      "[3,   900] loss: 0.166\n",
      "[3,  1000] loss: 0.194\n",
      "Epoch concluded #: 3\n",
      "Recall -> 0.965625\n",
      "Accuracy -> 0.9384264538198404\n",
      "f2 score -> 0.9626168224299064\n",
      "Accuracy of the network w/ validation/test: 93 %\n",
      "[4,   100] loss: 0.143\n",
      "[4,   200] loss: 0.196\n",
      "[4,   300] loss: 0.145\n",
      "[4,   400] loss: 0.204\n",
      "[4,   500] loss: 0.147\n",
      "[4,   600] loss: 0.136\n",
      "[4,   700] loss: 0.167\n",
      "[4,   800] loss: 0.138\n",
      "[4,   900] loss: 0.180\n",
      "[4,  1000] loss: 0.191\n",
      "Epoch concluded #: 4\n",
      "Recall -> 0.9921875\n",
      "Accuracy -> 0.928164196123147\n",
      "f2 score -> 0.9760221334153089\n",
      "Accuracy of the network w/ validation/test: 92 %\n",
      "[5,   100] loss: 0.134\n",
      "[5,   200] loss: 0.151\n",
      "[5,   300] loss: 0.169\n",
      "[5,   400] loss: 0.170\n",
      "[5,   500] loss: 0.166\n",
      "[5,   600] loss: 0.153\n",
      "[5,   700] loss: 0.139\n",
      "[5,   800] loss: 0.133\n",
      "[5,   900] loss: 0.180\n",
      "[5,  1000] loss: 0.142\n",
      "Epoch concluded #: 5\n",
      "Recall -> 0.9625\n",
      "Accuracy -> 0.9464082098061574\n",
      "f2 score -> 0.9628008752735231\n",
      "Accuracy of the network w/ validation/test: 94 %\n",
      "[6,   100] loss: 0.153\n",
      "[6,   200] loss: 0.144\n",
      "[6,   300] loss: 0.107\n",
      "[6,   400] loss: 0.130\n",
      "[6,   500] loss: 0.132\n",
      "[6,   600] loss: 0.117\n",
      "[6,   700] loss: 0.114\n",
      "[6,   800] loss: 0.163\n",
      "[6,   900] loss: 0.146\n",
      "[6,  1000] loss: 0.168\n",
      "Epoch concluded #: 6\n",
      "Recall -> 0.971875\n",
      "Accuracy -> 0.9498289623717218\n",
      "f2 score -> 0.9694513715710724\n",
      "Accuracy of the network w/ validation/test: 94 %\n",
      "[7,   100] loss: 0.136\n",
      "[7,   200] loss: 0.102\n",
      "[7,   300] loss: 0.148\n",
      "[7,   400] loss: 0.142\n",
      "[7,   500] loss: 0.113\n",
      "[7,   600] loss: 0.114\n",
      "[7,   700] loss: 0.133\n",
      "[7,   800] loss: 0.146\n",
      "[7,   900] loss: 0.118\n",
      "[7,  1000] loss: 0.137\n",
      "Epoch concluded #: 7\n",
      "Recall -> 0.9859375\n",
      "Accuracy -> 0.9441277080957811\n",
      "f2 score -> 0.9764778706282884\n",
      "Accuracy of the network w/ validation/test: 94 %\n",
      "[8,   100] loss: 0.137\n",
      "[8,   200] loss: 0.113\n",
      "[8,   300] loss: 0.115\n",
      "[8,   400] loss: 0.071\n",
      "[8,   500] loss: 0.123\n",
      "[8,   600] loss: 0.153\n",
      "[8,   700] loss: 0.150\n",
      "[8,   800] loss: 0.107\n",
      "[8,   900] loss: 0.135\n",
      "[8,  1000] loss: 0.167\n",
      "Epoch concluded #: 8\n",
      "Recall -> 0.978125\n",
      "Accuracy -> 0.95096921322691\n",
      "f2 score -> 0.973561430793157\n",
      "Accuracy of the network w/ validation/test: 95 %\n",
      "[9,   100] loss: 0.100\n",
      "[9,   200] loss: 0.150\n",
      "[9,   300] loss: 0.133\n",
      "[9,   400] loss: 0.099\n",
      "[9,   500] loss: 0.126\n",
      "[9,   600] loss: 0.142\n",
      "[9,   700] loss: 0.131\n",
      "[9,   800] loss: 0.144\n",
      "[9,   900] loss: 0.109\n",
      "[9,  1000] loss: 0.120\n",
      "Epoch concluded #: 9\n",
      "Recall -> 0.96875\n",
      "Accuracy -> 0.9543899657924744\n",
      "f2 score -> 0.96875\n",
      "Accuracy of the network w/ validation/test: 95 %\n",
      "[10,   100] loss: 0.124\n",
      "[10,   200] loss: 0.113\n",
      "[10,   300] loss: 0.095\n",
      "[10,   400] loss: 0.129\n",
      "[10,   500] loss: 0.129\n",
      "[10,   600] loss: 0.115\n",
      "[10,   700] loss: 0.113\n",
      "[10,   800] loss: 0.130\n",
      "[10,   900] loss: 0.109\n",
      "[10,  1000] loss: 0.094\n",
      "Epoch concluded #: 10\n",
      "Recall -> 0.978125\n",
      "Accuracy -> 0.9532497149372862\n",
      "f2 score -> 0.97416744475568\n",
      "Accuracy of the network w/ validation/test: 95 %\n",
      "[11,   100] loss: 0.116\n",
      "[11,   200] loss: 0.101\n",
      "[11,   300] loss: 0.126\n",
      "[11,   400] loss: 0.102\n",
      "[11,   500] loss: 0.127\n",
      "[11,   600] loss: 0.119\n",
      "[11,   700] loss: 0.113\n",
      "[11,   800] loss: 0.123\n",
      "[11,   900] loss: 0.123\n",
      "[11,  1000] loss: 0.082\n",
      "Epoch concluded #: 11\n",
      "Recall -> 0.9671875\n",
      "Accuracy -> 0.9578107183580388\n",
      "f2 score -> 0.9687010954616591\n",
      "Accuracy of the network w/ validation/test: 95 %\n",
      "[12,   100] loss: 0.089\n",
      "[12,   200] loss: 0.137\n",
      "[12,   300] loss: 0.105\n",
      "[12,   400] loss: 0.068\n",
      "[12,   500] loss: 0.102\n",
      "[12,   600] loss: 0.081\n",
      "[12,   700] loss: 0.094\n",
      "[12,   800] loss: 0.159\n",
      "[12,   900] loss: 0.100\n",
      "[12,  1000] loss: 0.136\n",
      "Epoch concluded #: 12\n",
      "Recall -> 0.971875\n",
      "Accuracy -> 0.9555302166476625\n",
      "f2 score -> 0.9709647205744615\n",
      "Accuracy of the network w/ validation/test: 95 %\n",
      "[13,   100] loss: 0.073\n",
      "[13,   200] loss: 0.105\n",
      "[13,   300] loss: 0.119\n",
      "[13,   400] loss: 0.118\n",
      "[13,   500] loss: 0.061\n",
      "[13,   600] loss: 0.118\n",
      "[13,   700] loss: 0.071\n",
      "[13,   800] loss: 0.121\n",
      "[13,   900] loss: 0.113\n",
      "[13,  1000] loss: 0.087\n",
      "Epoch concluded #: 13\n",
      "Recall -> 0.971875\n",
      "Accuracy -> 0.9589509692132269\n",
      "f2 score -> 0.971875\n",
      "Accuracy of the network w/ validation/test: 95 %\n",
      "[14,   100] loss: 0.105\n",
      "[14,   200] loss: 0.092\n",
      "[14,   300] loss: 0.096\n",
      "[14,   400] loss: 0.102\n",
      "[14,   500] loss: 0.071\n",
      "[14,   600] loss: 0.106\n",
      "[14,   700] loss: 0.101\n",
      "[14,   800] loss: 0.095\n",
      "[14,   900] loss: 0.087\n",
      "[14,  1000] loss: 0.102\n",
      "Epoch concluded #: 14\n",
      "Recall -> 0.9671875\n",
      "Accuracy -> 0.9578107183580388\n",
      "f2 score -> 0.9687010954616591\n",
      "Accuracy of the network w/ validation/test: 95 %\n",
      "[15,   100] loss: 0.105\n",
      "[15,   200] loss: 0.110\n",
      "[15,   300] loss: 0.080\n",
      "[15,   400] loss: 0.066\n",
      "[15,   500] loss: 0.111\n",
      "[15,   600] loss: 0.084\n",
      "[15,   700] loss: 0.088\n",
      "[15,   800] loss: 0.095\n",
      "[15,   900] loss: 0.122\n",
      "[15,  1000] loss: 0.069\n",
      "Epoch concluded #: 15\n",
      "Recall -> 0.9921875\n",
      "Accuracy -> 0.942987457240593\n",
      "f2 score -> 0.9799382716049383\n",
      "Accuracy of the network w/ validation/test: 94 %\n",
      "[16,   100] loss: 0.106\n",
      "[16,   200] loss: 0.044\n",
      "[16,   300] loss: 0.104\n",
      "[16,   400] loss: 0.097\n",
      "[16,   500] loss: 0.076\n",
      "[16,   600] loss: 0.067\n",
      "[16,   700] loss: 0.082\n",
      "[16,   800] loss: 0.078\n",
      "[16,   900] loss: 0.116\n",
      "[16,  1000] loss: 0.120\n",
      "Epoch concluded #: 16\n",
      "Recall -> 0.9859375\n",
      "Accuracy -> 0.9555302166476625\n",
      "f2 score -> 0.9795094691089722\n",
      "Accuracy of the network w/ validation/test: 95 %\n",
      "[17,   100] loss: 0.071\n",
      "[17,   200] loss: 0.130\n",
      "[17,   300] loss: 0.064\n",
      "[17,   400] loss: 0.102\n",
      "[17,   500] loss: 0.096\n",
      "[17,   600] loss: 0.117\n",
      "[17,   700] loss: 0.064\n",
      "[17,   800] loss: 0.057\n",
      "[17,   900] loss: 0.085\n",
      "[17,  1000] loss: 0.059\n",
      "Epoch concluded #: 17\n",
      "Recall -> 0.984375\n",
      "Accuracy -> 0.9612314709236032\n",
      "f2 score -> 0.9800871188550094\n",
      "Accuracy of the network w/ validation/test: 96 %\n",
      "[18,   100] loss: 0.130\n",
      "[18,   200] loss: 0.065\n",
      "[18,   300] loss: 0.076\n",
      "[18,   400] loss: 0.080\n",
      "[18,   500] loss: 0.073\n",
      "[18,   600] loss: 0.068\n",
      "[18,   700] loss: 0.097\n",
      "[18,   800] loss: 0.067\n",
      "[18,   900] loss: 0.059\n",
      "[18,  1000] loss: 0.098\n",
      "Epoch concluded #: 18\n",
      "Recall -> 0.95625\n",
      "Accuracy -> 0.9543899657924744\n",
      "f2 score -> 0.9610552763819095\n",
      "Accuracy of the network w/ validation/test: 95 %\n",
      "[19,   100] loss: 0.069\n",
      "[19,   200] loss: 0.097\n",
      "[19,   300] loss: 0.084\n",
      "[19,   400] loss: 0.097\n",
      "[19,   500] loss: 0.087\n",
      "[19,   600] loss: 0.070\n",
      "[19,   700] loss: 0.065\n",
      "[19,   800] loss: 0.066\n",
      "[19,   900] loss: 0.068\n",
      "[19,  1000] loss: 0.067\n",
      "Epoch concluded #: 19\n",
      "Recall -> 0.9796875\n",
      "Accuracy -> 0.9623717217787914\n",
      "f2 score -> 0.9775491113189898\n",
      "Accuracy of the network w/ validation/test: 96 %\n",
      "[20,   100] loss: 0.055\n",
      "[20,   200] loss: 0.060\n",
      "[20,   300] loss: 0.099\n",
      "[20,   400] loss: 0.077\n",
      "[20,   500] loss: 0.050\n",
      "[20,   600] loss: 0.052\n",
      "[20,   700] loss: 0.099\n",
      "[20,   800] loss: 0.097\n",
      "[20,   900] loss: 0.052\n",
      "[20,  1000] loss: 0.088\n",
      "Epoch concluded #: 20\n",
      "Recall -> 0.9671875\n",
      "Accuracy -> 0.9635119726339795\n",
      "f2 score -> 0.970219435736677\n",
      "Accuracy of the network w/ validation/test: 96 %\n"
     ]
    },
    {
     "name": "stdout",
     "output_type": "stream",
     "text": [
      "[21,   100] loss: 0.081\n",
      "[21,   200] loss: 0.061\n",
      "[21,   300] loss: 0.061\n",
      "[21,   400] loss: 0.066\n",
      "[21,   500] loss: 0.081\n",
      "[21,   600] loss: 0.071\n",
      "[21,   700] loss: 0.053\n",
      "[21,   800] loss: 0.048\n",
      "[21,   900] loss: 0.079\n",
      "[21,  1000] loss: 0.093\n",
      "Epoch concluded #: 21\n",
      "Recall -> 0.984375\n",
      "Accuracy -> 0.9657924743443558\n",
      "f2 score -> 0.981308411214953\n",
      "Accuracy of the network w/ validation/test: 96 %\n",
      "[22,   100] loss: 0.073\n",
      "[22,   200] loss: 0.068\n",
      "[22,   300] loss: 0.050\n",
      "[22,   400] loss: 0.046\n",
      "[22,   500] loss: 0.061\n",
      "[22,   600] loss: 0.053\n",
      "[22,   700] loss: 0.070\n",
      "[22,   800] loss: 0.051\n",
      "[22,   900] loss: 0.061\n",
      "[22,  1000] loss: 0.080\n",
      "Epoch concluded #: 22\n",
      "Recall -> 0.98125\n",
      "Accuracy -> 0.9669327251995439\n",
      "f2 score -> 0.9797191887675506\n",
      "Accuracy of the network w/ validation/test: 96 %\n",
      "[23,   100] loss: 0.053\n",
      "[23,   200] loss: 0.054\n",
      "[23,   300] loss: 0.043\n",
      "[23,   400] loss: 0.084\n",
      "[23,   500] loss: 0.069\n",
      "[23,   600] loss: 0.061\n",
      "[23,   700] loss: 0.034\n",
      "[23,   800] loss: 0.080\n",
      "[23,   900] loss: 0.074\n",
      "[23,  1000] loss: 0.051\n",
      "Epoch concluded #: 23\n",
      "Recall -> 0.978125\n",
      "Accuracy -> 0.9680729760547321\n",
      "f2 score -> 0.9781249999999999\n",
      "Accuracy of the network w/ validation/test: 96 %\n",
      "[24,   100] loss: 0.050\n",
      "[24,   200] loss: 0.040\n",
      "[24,   300] loss: 0.061\n",
      "[24,   400] loss: 0.068\n",
      "[24,   500] loss: 0.063\n",
      "[24,   600] loss: 0.075\n",
      "[24,   700] loss: 0.053\n",
      "[24,   800] loss: 0.056\n",
      "[24,   900] loss: 0.068\n",
      "[24,  1000] loss: 0.022\n",
      "Epoch concluded #: 24\n",
      "Recall -> 0.9703125\n",
      "Accuracy -> 0.9612314709236032\n",
      "f2 score -> 0.9715269086357947\n",
      "Accuracy of the network w/ validation/test: 96 %\n",
      "[25,   100] loss: 0.057\n",
      "[25,   200] loss: 0.044\n",
      "[25,   300] loss: 0.079\n",
      "[25,   400] loss: 0.031\n",
      "[25,   500] loss: 0.072\n",
      "[25,   600] loss: 0.032\n",
      "[25,   700] loss: 0.068\n",
      "[25,   800] loss: 0.046\n",
      "[25,   900] loss: 0.028\n",
      "[25,  1000] loss: 0.085\n",
      "Epoch concluded #: 25\n",
      "Recall -> 0.96875\n",
      "Accuracy -> 0.9646522234891676\n",
      "f2 score -> 0.9714822939517394\n",
      "Accuracy of the network w/ validation/test: 96 %\n",
      "[26,   100] loss: 0.044\n",
      "[26,   200] loss: 0.047\n",
      "[26,   300] loss: 0.042\n",
      "[26,   400] loss: 0.040\n",
      "[26,   500] loss: 0.037\n",
      "[26,   600] loss: 0.053\n",
      "[26,   700] loss: 0.052\n",
      "[26,   800] loss: 0.070\n",
      "[26,   900] loss: 0.046\n",
      "[26,  1000] loss: 0.078\n",
      "Epoch concluded #: 26\n",
      "Recall -> 0.975\n",
      "Accuracy -> 0.9646522234891676\n",
      "f2 score -> 0.9753047827446076\n",
      "Accuracy of the network w/ validation/test: 96 %\n",
      "[27,   100] loss: 0.051\n",
      "[27,   200] loss: 0.048\n",
      "[27,   300] loss: 0.058\n",
      "[27,   400] loss: 0.022\n",
      "[27,   500] loss: 0.055\n",
      "[27,   600] loss: 0.049\n",
      "[27,   700] loss: 0.028\n",
      "[27,   800] loss: 0.030\n",
      "[27,   900] loss: 0.040\n",
      "[27,  1000] loss: 0.039\n",
      "Epoch concluded #: 27\n",
      "Recall -> 0.984375\n",
      "Accuracy -> 0.9635119726339795\n",
      "f2 score -> 0.9806973848069738\n",
      "Accuracy of the network w/ validation/test: 96 %\n",
      "[28,   100] loss: 0.047\n",
      "[28,   200] loss: 0.024\n",
      "[28,   300] loss: 0.022\n",
      "[28,   400] loss: 0.058\n",
      "[28,   500] loss: 0.050\n",
      "[28,   600] loss: 0.038\n",
      "[28,   700] loss: 0.041\n",
      "[28,   800] loss: 0.083\n",
      "[28,   900] loss: 0.031\n",
      "[28,  1000] loss: 0.026\n",
      "Epoch concluded #: 28\n",
      "Recall -> 0.9859375\n",
      "Accuracy -> 0.9657924743443558\n",
      "f2 score -> 0.9822540473225406\n",
      "Accuracy of the network w/ validation/test: 96 %\n",
      "[29,   100] loss: 0.007\n",
      "[29,   200] loss: 0.045\n",
      "[29,   300] loss: 0.042\n",
      "[29,   400] loss: 0.030\n",
      "[29,   500] loss: 0.052\n",
      "[29,   600] loss: 0.049\n",
      "[29,   700] loss: 0.041\n",
      "[29,   800] loss: 0.064\n",
      "[29,   900] loss: 0.024\n",
      "[29,  1000] loss: 0.028\n",
      "Epoch concluded #: 29\n",
      "Recall -> 0.99375\n",
      "Accuracy -> 0.9566704675028507\n",
      "f2 score -> 0.9845201238390092\n",
      "Accuracy of the network w/ validation/test: 95 %\n",
      "[30,   100] loss: 0.043\n",
      "[30,   200] loss: 0.023\n",
      "[30,   300] loss: 0.010\n",
      "[30,   400] loss: 0.040\n",
      "[30,   500] loss: 0.020\n",
      "[30,   600] loss: 0.018\n",
      "[30,   700] loss: 0.017\n",
      "[30,   800] loss: 0.019\n",
      "[30,   900] loss: 0.052\n",
      "[30,  1000] loss: 0.043\n",
      "Epoch concluded #: 30\n",
      "Recall -> 0.9796875\n",
      "Accuracy -> 0.9657924743443558\n",
      "f2 score -> 0.9784644194756555\n",
      "Accuracy of the network w/ validation/test: 96 %\n",
      "Finished training. Time taken:  3378.4652705192566\n"
     ]
    }
   ],
   "source": [
    "run_this = True\n",
    "model_index = 56\n",
    "if run_this:\n",
    "    acc_list, recall_list, f2score_list = model_training(lr            =       df_bo_results.iloc[model_index][0],\n",
    "                                                         momentum      =       df_bo_results.iloc[model_index][0],\n",
    "                                                         conv1out      = round(df_bo_results.iloc[model_index][2]),  \n",
    "                                                         conv1kernel   = round(df_bo_results.iloc[model_index][3]), \n",
    "                                                         filter_size   = round(df_bo_results.iloc[model_index][4]),  \n",
    "                                                         stride_step   = round(df_bo_results.iloc[model_index][5]), \n",
    "                                                         conv2out      = round(df_bo_results.iloc[model_index][6]), \n",
    "                                                         conv2kernel   = round(df_bo_results.iloc[model_index][7]), \n",
    "                                                         epochs        = 30,\n",
    "                                                         saving_models = True)\n",
    "    "
   ]
  },
  {
   "cell_type": "code",
   "execution_count": 171,
   "id": "46962fff",
   "metadata": {
    "ExecuteTime": {
     "end_time": "2023-07-19T19:13:15.050150Z",
     "start_time": "2023-07-19T19:13:15.037555Z"
    }
   },
   "outputs": [],
   "source": [
    "# model.eval()\n",
    "# perf_check_overall(model, testloader)"
   ]
  },
  {
   "cell_type": "code",
   "execution_count": null,
   "id": "77fff1df",
   "metadata": {},
   "outputs": [],
   "source": []
  },
  {
   "cell_type": "code",
   "execution_count": 172,
   "id": "4051e17c",
   "metadata": {
    "ExecuteTime": {
     "end_time": "2023-07-19T19:13:18.052108Z",
     "start_time": "2023-07-19T19:13:18.034107Z"
    }
   },
   "outputs": [],
   "source": [
    "epo_list = np.arange(1,31)"
   ]
  },
  {
   "cell_type": "markdown",
   "id": "46381a07",
   "metadata": {},
   "source": [
    "Uncomment the lines below if running the model up to 30 pickles to create a dataframe with results and then save data to a hard disk."
   ]
  },
  {
   "cell_type": "code",
   "execution_count": 174,
   "id": "6b744fd0",
   "metadata": {
    "ExecuteTime": {
     "end_time": "2023-07-19T19:19:05.843685Z",
     "start_time": "2023-07-19T19:19:05.819163Z"
    }
   },
   "outputs": [],
   "source": [
    "df_model_chosen_data = pd.DataFrame({'epoch':epo_list, \n",
    "                                     #'loss_results':loss_results, \n",
    "                                     'accuracy_results':acc_list,\n",
    "                                     'f2score_results':f2score_list,\n",
    "                                     'recall_results':recall_list\n",
    "                                    })\n"
   ]
  },
  {
   "cell_type": "code",
   "execution_count": 204,
   "id": "70eef345",
   "metadata": {
    "ExecuteTime": {
     "end_time": "2023-07-19T20:05:45.596335Z",
     "start_time": "2023-07-19T20:05:45.585962Z"
    }
   },
   "outputs": [],
   "source": [
    "df_model_chosen_data.to_pickle('./workflow_data/df_model_chosen_data.pkl')"
   ]
  },
  {
   "cell_type": "code",
   "execution_count": 150,
   "id": "d6b5283a",
   "metadata": {
    "ExecuteTime": {
     "end_time": "2023-07-19T17:36:15.238403Z",
     "start_time": "2023-07-19T17:36:15.226306Z"
    }
   },
   "outputs": [
    {
     "name": "stdout",
     "output_type": "stream",
     "text": [
      "Issue reading chosen model data\n"
     ]
    }
   ],
   "source": [
    "try:\n",
    "    df_model_chosen_data = pd.read_pickle('./workflow_data/df_model_chosen_data.pkl')\n",
    "except:\n",
    "    print('Issue reading chosen model data')\n"
   ]
  },
  {
   "cell_type": "code",
   "execution_count": 192,
   "id": "47baf824",
   "metadata": {
    "ExecuteTime": {
     "end_time": "2023-07-19T19:51:21.647135Z",
     "start_time": "2023-07-19T19:51:21.376886Z"
    }
   },
   "outputs": [
    {
     "data": {
      "image/png": "[encoded data removed]",
      "text/plain": [
       "<Figure size 640x480 with 1 Axes>"
      ]
     },
     "metadata": {},
     "output_type": "display_data"
    }
   ],
   "source": [
    "plt.plot(df_model_chosen_data.epoch, df_model_chosen_data.accuracy_results, label='accuracy')\n",
    "plt.xlabel('epoch #')\n",
    "plt.plot(df_model_chosen_data.epoch, df_model_chosen_data.f2score_results, label='f2score')\n",
    "plt.axhline(y=df_model_chosen_data.f2score_results.max(), color='r', linestyle='--', label='Max F2 Score')\n",
    "max_f2score_epoch = df_model_chosen_data.epoch[df_model_chosen_data.f2score_results.idxmax()]\n",
    "plt.axvline(x=max_f2score_epoch, color='c', linestyle='--', label='Max F2 Score Epoch')\n",
    "plt.plot(df_model_chosen_data.epoch, df_model_chosen_data.recall_results, label = 'recall')\n",
    "plt.legend()\n",
    "plt.show()"
   ]
  },
  {
   "cell_type": "markdown",
   "id": "0aa59ee6",
   "metadata": {},
   "source": [
    "Even though we trained the model to optimize accuracy, as said before, this performance metric wouldn't be a good performance metric for this dataset because the data is unbalanced. A better metric to be used is F2Score.  \n",
    "  \n",
    "We can observe that the highest F2Score happens at epoch 29."
   ]
  },
  {
   "cell_type": "markdown",
   "id": "41ff68e1",
   "metadata": {
    "ExecuteTime": {
     "end_time": "2023-07-19T20:08:27.815805Z",
     "start_time": "2023-07-19T20:08:27.808233Z"
    }
   },
   "source": [
    "- Here we can test the current best model for accuracy against the test data*(not the validation data)*:"
   ]
  },
  {
   "cell_type": "code",
   "execution_count": 209,
   "id": "70f74fa8",
   "metadata": {
    "ExecuteTime": {
     "end_time": "2023-07-19T20:14:30.860233Z",
     "start_time": "2023-07-19T20:14:30.813299Z"
    }
   },
   "outputs": [],
   "source": [
    "model, optimizer, last_epoch = load_ckp(ckp_path, model, optimizer)"
   ]
  },
  {
   "cell_type": "code",
   "execution_count": 210,
   "id": "50c7f486",
   "metadata": {
    "ExecuteTime": {
     "end_time": "2023-07-19T20:14:51.669998Z",
     "start_time": "2023-07-19T20:14:34.541105Z"
    }
   },
   "outputs": [
    {
     "name": "stdout",
     "output_type": "stream",
     "text": [
      "Recall -> 0.9750778816199377\n",
      "Accuracy -> 0.9613636363636363\n",
      "f2 score -> 0.9744707347447074\n",
      "Accuracy of the network w/ validation/test: 96 %\n"
     ]
    },
    {
     "data": {
      "text/plain": [
       "(0.9613636363636363, 0.9750778816199377, 0.9744707347447074)"
      ]
     },
     "execution_count": 210,
     "metadata": {},
     "output_type": "execute_result"
    }
   ],
   "source": [
    "model.eval()\n",
    "perf_check_overall(model, testloader)"
   ]
  },
  {
   "cell_type": "markdown",
   "id": "9c6365d3",
   "metadata": {},
   "source": [
    "As we can see the returned **F2 Score is 0.9744**, which is not bad."
   ]
  },
  {
   "cell_type": "markdown",
   "id": "dd8ff3a7",
   "metadata": {
    "ExecuteTime": {
     "end_time": "2023-06-29T08:59:15.159187Z",
     "start_time": "2023-06-29T08:59:15.142010Z"
    }
   },
   "source": [
    "<a id='final'></a>\n",
    "# Training the final model"
   ]
  },
  {
   "cell_type": "markdown",
   "id": "18a4ae22",
   "metadata": {
    "ExecuteTime": {
     "end_time": "2023-07-19T16:42:52.965377Z",
     "start_time": "2023-07-19T16:42:52.954372Z"
    }
   },
   "source": [
    "[Introduction](#Introduction) [Imports](#Imports) [Helper](#Helper)  >>  \n",
    "[Data](#data) [Model](#model)  [Initial Data](#initial) [Sampling Initial Data](#sampling)  >>\n",
    "[Bayesian Optimization](#bayesian) [Imports BO](#imports_bo) [BO Search](#bo_search) >> [Epochs Choice](#epochs) [Final Model](#final) [Confusion Matrix](#confusion_matrix)"
   ]
  },
  {
   "cell_type": "markdown",
   "id": "03031136",
   "metadata": {},
   "source": [
    "Now we run the model at epoch #29."
   ]
  },
  {
   "cell_type": "code",
   "execution_count": 211,
   "id": "18601360",
   "metadata": {
    "ExecuteTime": {
     "end_time": "2023-07-19T21:24:28.868504Z",
     "start_time": "2023-07-19T20:26:02.510022Z"
    }
   },
   "outputs": [
    {
     "name": "stdout",
     "output_type": "stream",
     "text": [
      "LeNet5 adjustable: total params: 12092\n",
      "* fc1 to be adjusted\n",
      "Network has been updated:\n",
      "LeNet5 adjustable: total params: 253892\n",
      "LeNet(\n",
      "  (conv1): Conv2d(1, 4, kernel_size=(5, 5), stride=(1, 1))\n",
      "  (pool): MaxPool2d(kernel_size=4, stride=4, padding=0, dilation=1, ceil_mode=False)\n",
      "  (conv2): Conv2d(4, 14, kernel_size=(5, 5), stride=(1, 1))\n",
      "  (fc1): Linear(in_features=2016, out_features=120, bias=True)\n",
      "  (fc2): Linear(in_features=120, out_features=84, bias=True)\n",
      "  (fc3): Linear(in_features=84, out_features=2, bias=True)\n",
      ")\n",
      "[1,  100] loss:0.600 [1,  200] loss:0.531 [1,  300] loss:0.338 [1,  400] loss:0.313 [1,  500] loss:0.211 [1,  600] loss:0.198 [1,  700] loss:0.249 [1,  800] loss:0.235 [1,  900] loss:0.179 [1, 1000] loss:0.194 \n",
      "Epoch concluded #: 1  Recall -> 0.984375\n",
      "Accuracy -> 0.9372862029646523\n",
      "f2 score -> 0.973724884080371\n",
      "Accuracy of the network w/ validation/test: 93 %\n",
      "[2,  100] loss:0.127 [2,  200] loss:0.174 [2,  300] loss:0.171 [2,  400] loss:0.158 [2,  500] loss:0.186 [2,  600] loss:0.192 [2,  700] loss:0.187 [2,  800] loss:0.144 [2,  900] loss:0.187 [2, 1000] loss:0.118 \n",
      "Epoch concluded #: 2  Recall -> 0.98125\n",
      "Accuracy -> 0.9521094640820981\n",
      "f2 score -> 0.9757613424487258\n",
      "Accuracy of the network w/ validation/test: 95 %\n",
      "[3,  100] loss:0.139 [3,  200] loss:0.084 [3,  300] loss:0.160 [3,  400] loss:0.152 [3,  500] loss:0.145 [3,  600] loss:0.116 [3,  700] loss:0.152 [3,  800] loss:0.173 [3,  900] loss:0.110 [3, 1000] loss:0.168 \n",
      "Epoch concluded #: 3  Recall -> 0.95625\n",
      "Accuracy -> 0.9498289623717218\n",
      "f2 score -> 0.9598494353826852\n",
      "Accuracy of the network w/ validation/test: 94 %\n",
      "[4,  100] loss:0.091 [4,  200] loss:0.122 [4,  300] loss:0.105 [4,  400] loss:0.124 [4,  500] loss:0.111 [4,  600] loss:0.089 [4,  700] loss:0.112 [4,  800] loss:0.087 [4,  900] loss:0.153 [4, 1000] loss:0.142 \n",
      "Epoch concluded #: 4  Recall -> 0.990625\n",
      "Accuracy -> 0.942987457240593\n",
      "f2 score -> 0.9789993823347746\n",
      "Accuracy of the network w/ validation/test: 94 %\n",
      "[5,  100] loss:0.066 [5,  200] loss:0.120 [5,  300] loss:0.125 [5,  400] loss:0.072 [5,  500] loss:0.108 [5,  600] loss:0.144 [5,  700] loss:0.097 [5,  800] loss:0.093 [5,  900] loss:0.161 [5, 1000] loss:0.083 \n",
      "Epoch concluded #: 5  Recall -> 0.971875\n",
      "Accuracy -> 0.9635119726339795\n",
      "f2 score -> 0.9730913642052567\n",
      "Accuracy of the network w/ validation/test: 96 %\n",
      "[6,  100] loss:0.068 [6,  200] loss:0.084 [6,  300] loss:0.070 [6,  400] loss:0.123 [6,  500] loss:0.076 [6,  600] loss:0.063 [6,  700] loss:0.070 [6,  800] loss:0.101 [6,  900] loss:0.087 [6, 1000] loss:0.121 \n",
      "Epoch concluded #: 6  Recall -> 0.9875\n",
      "Accuracy -> 0.9441277080957811\n",
      "f2 score -> 0.9774203526136717\n",
      "Accuracy of the network w/ validation/test: 94 %\n",
      "[7,  100] loss:0.076 [7,  200] loss:0.055 [7,  300] loss:0.061 [7,  400] loss:0.093 [7,  500] loss:0.063 [7,  600] loss:0.065 [7,  700] loss:0.098 [7,  800] loss:0.064 [7,  900] loss:0.092 [7, 1000] loss:0.110 \n",
      "Epoch concluded #: 7  Recall -> 0.9859375\n",
      "Accuracy -> 0.9578107183580388\n",
      "f2 score -> 0.9801180490835664\n",
      "Accuracy of the network w/ validation/test: 95 %\n",
      "[8,  100] loss:0.065 [8,  200] loss:0.085 [8,  300] loss:0.080 [8,  400] loss:0.063 [8,  500] loss:0.067 [8,  600] loss:0.090 [8,  700] loss:0.067 [8,  800] loss:0.034 [8,  900] loss:0.055 [8, 1000] loss:0.108 \n",
      "Epoch concluded #: 8  Recall -> 0.9890625\n",
      "Accuracy -> 0.9578107183580388\n",
      "f2 score -> 0.9820043437790877\n",
      "Accuracy of the network w/ validation/test: 95 %\n",
      "[9,  100] loss:0.043 [9,  200] loss:0.067 [9,  300] loss:0.056 [9,  400] loss:0.020 [9,  500] loss:0.081 [9,  600] loss:0.054 [9,  700] loss:0.070 [9,  800] loss:0.046 [9,  900] loss:0.073 [9, 1000] loss:0.102 \n",
      "Epoch concluded #: 9  Recall -> 0.975\n",
      "Accuracy -> 0.9612314709236032\n",
      "f2 score -> 0.9743910056214865\n",
      "Accuracy of the network w/ validation/test: 96 %\n",
      "[10,  100] loss:0.045 [10,  200] loss:0.039 [10,  300] loss:0.032 [10,  400] loss:0.048 [10,  500] loss:0.059 [10,  600] loss:0.059 [10,  700] loss:0.031 [10,  800] loss:0.061 [10,  900] loss:0.055 [10, 1000] loss:0.086 \n",
      "Epoch concluded #: 10  Recall -> 0.959375\n",
      "Accuracy -> 0.9566704675028507\n",
      "f2 score -> 0.9635907093534212\n",
      "Accuracy of the network w/ validation/test: 95 %\n",
      "[11,  100] loss:0.037 [11,  200] loss:0.031 [11,  300] loss:0.038 [11,  400] loss:0.071 [11,  500] loss:0.031 [11,  600] loss:0.072 [11,  700] loss:0.062 [11,  800] loss:0.023 [11,  900] loss:0.035 [11, 1000] loss:0.025 \n",
      "Epoch concluded #: 11  Recall -> 0.971875\n",
      "Accuracy -> 0.9612314709236032\n",
      "f2 score -> 0.9724828017510946\n",
      "Accuracy of the network w/ validation/test: 96 %\n",
      "[12,  100] loss:0.038 [12,  200] loss:0.049 [12,  300] loss:0.070 [12,  400] loss:0.048 [12,  500] loss:0.036 [12,  600] loss:0.017 [12,  700] loss:0.055 [12,  800] loss:0.041 [12,  900] loss:0.035 [12, 1000] loss:0.058 \n",
      "Epoch concluded #: 12  Recall -> 0.95625\n",
      "Accuracy -> 0.9555302166476625\n",
      "f2 score -> 0.9613572101790764\n",
      "Accuracy of the network w/ validation/test: 95 %\n",
      "[13,  100] loss:0.016 [13,  200] loss:0.012 [13,  300] loss:0.028 [13,  400] loss:0.082 [13,  500] loss:0.015 [13,  600] loss:0.042 [13,  700] loss:0.019 [13,  800] loss:0.023 [13,  900] loss:0.023 [13, 1000] loss:0.019 \n",
      "Epoch concluded #: 13  Recall -> 0.946875\n",
      "Accuracy -> 0.9486887115165337\n",
      "f2 score -> 0.9537299338999055\n",
      "Accuracy of the network w/ validation/test: 94 %\n",
      "[14,  100] loss:0.077 [14,  200] loss:0.056 [14,  300] loss:0.021 [14,  400] loss:0.026 [14,  500] loss:0.008 [14,  600] loss:0.027 [14,  700] loss:0.026 [14,  800] loss:0.030 [14,  900] loss:0.034 [14, 1000] loss:0.068 \n",
      "Epoch concluded #: 14  Recall -> 0.93125\n",
      "Accuracy -> 0.9395667046750285\n",
      "f2 score -> 0.9415481832543444\n",
      "Accuracy of the network w/ validation/test: 93 %\n",
      "[15,  100] loss:0.035 [15,  200] loss:0.028 [15,  300] loss:0.007 [15,  400] loss:0.007 [15,  500] loss:0.006 [15,  600] loss:0.007 [15,  700] loss:0.003 [15,  800] loss:0.003 [15,  900] loss:0.016 [15, 1000] loss:0.002 \n",
      "Epoch concluded #: 15  Recall -> 0.9765625\n",
      "Accuracy -> 0.9612314709236032\n",
      "f2 score -> 0.9753433208489388\n",
      "Accuracy of the network w/ validation/test: 96 %\n",
      "[16,  100] loss:0.022 [16,  200] loss:0.045 [16,  300] loss:0.071 [16,  400] loss:0.043 [16,  500] loss:0.041 [16,  600] loss:0.012 [16,  700] loss:0.045 [16,  800] loss:0.028 [16,  900] loss:0.020 [16, 1000] loss:0.051 \n",
      "Epoch concluded #: 16  Recall -> 0.9859375\n",
      "Accuracy -> 0.9635119726339795\n",
      "f2 score -> 0.9816428126944617\n",
      "Accuracy of the network w/ validation/test: 96 %\n",
      "[17,  100] loss:0.004 [17,  200] loss:0.011 [17,  300] loss:0.006 [17,  400] loss:0.004 [17,  500] loss:0.022 [17,  600] loss:0.006 [17,  700] loss:0.001 [17,  800] loss:0.005 [17,  900] loss:0.044 [17, 1000] loss:0.013 \n",
      "Epoch concluded #: 17  Recall -> 0.9609375\n",
      "Accuracy -> 0.9589509692132269\n",
      "f2 score -> 0.9651600753295668\n",
      "Accuracy of the network w/ validation/test: 95 %\n",
      "[18,  100] loss:0.005 [18,  200] loss:0.005 [18,  300] loss:0.002 [18,  400] loss:0.001 [18,  500] loss:0.000 [18,  600] loss:0.002 [18,  700] loss:0.002 [18,  800] loss:0.034 [18,  900] loss:0.020 [18, 1000] loss:0.015 \n",
      "Epoch concluded #: 18  Recall -> 0.9734375\n",
      "Accuracy -> 0.9566704675028507\n",
      "f2 score -> 0.9722222222222221\n",
      "Accuracy of the network w/ validation/test: 95 %\n",
      "[19,  100] loss:0.011 [19,  200] loss:0.017 [19,  300] loss:0.007 [19,  400] loss:0.004 [19,  500] loss:0.002 [19,  600] loss:0.002 [19,  700] loss:0.011 [19,  800] loss:0.017 [19,  900] loss:0.012 [19, 1000] loss:0.015 \n",
      "Epoch concluded #: 19  Recall -> 0.9125\n",
      "Accuracy -> 0.927023945267959\n",
      "f2 score -> 0.9263959390862944\n",
      "Accuracy of the network w/ validation/test: 92 %\n",
      "[20,  100] loss:0.014 [20,  200] loss:0.006 [20,  300] loss:0.092 [20,  400] loss:0.053 [20,  500] loss:0.011 [20,  600] loss:0.004 [20,  700] loss:0.005 [20,  800] loss:0.001 [20,  900] loss:0.002 [20, 1000] loss:0.001 \n",
      "Epoch concluded #: 20  Recall -> 0.96875\n",
      "Accuracy -> 0.9589509692132269\n",
      "f2 score -> 0.9699624530663329\n",
      "Accuracy of the network w/ validation/test: 95 %\n",
      "[21,  100] loss:0.003 [21,  200] loss:0.002 [21,  300] loss:0.001 [21,  400] loss:0.001 [21,  500] loss:0.003 [21,  600] loss:0.006 [21,  700] loss:0.001 [21,  800] loss:0.000 [21,  900] loss:0.001 [21, 1000] loss:0.000 \n",
      "Epoch concluded #: 21  Recall -> 0.975\n",
      "Accuracy -> 0.9612314709236032\n",
      "f2 score -> 0.9743910056214865\n",
      "Accuracy of the network w/ validation/test: 96 %\n"
     ]
    },
    {
     "name": "stdout",
     "output_type": "stream",
     "text": [
      "[22,  100] loss:0.000 [22,  200] loss:0.000 [22,  300] loss:0.000 [22,  400] loss:0.000 [22,  500] loss:0.000 [22,  600] loss:0.000 [22,  700] loss:0.001 [22,  800] loss:0.001 [22,  900] loss:0.000 [22, 1000] loss:0.000 \n",
      "Epoch concluded #: 22  Recall -> 0.975\n",
      "Accuracy -> 0.9600912200684151\n",
      "f2 score -> 0.974086793630971\n",
      "Accuracy of the network w/ validation/test: 96 %\n",
      "[23,  100] loss:0.000 [23,  200] loss:0.000 [23,  300] loss:0.000 [23,  400] loss:0.000 [23,  500] loss:0.000 [23,  600] loss:0.000 [23,  700] loss:0.000 [23,  800] loss:0.000 [23,  900] loss:0.000 [23, 1000] loss:0.000 \n",
      "Epoch concluded #: 23  Recall -> 0.975\n",
      "Accuracy -> 0.9600912200684151\n",
      "f2 score -> 0.974086793630971\n",
      "Accuracy of the network w/ validation/test: 96 %\n",
      "[24,  100] loss:0.000 [24,  200] loss:0.000 [24,  300] loss:0.000 [24,  400] loss:0.000 [24,  500] loss:0.000 [24,  600] loss:0.000 [24,  700] loss:0.000 [24,  800] loss:0.000 [24,  900] loss:0.000 [24, 1000] loss:0.000 \n",
      "Epoch concluded #: 24  Recall -> 0.975\n",
      "Accuracy -> 0.9600912200684151\n",
      "f2 score -> 0.974086793630971\n",
      "Accuracy of the network w/ validation/test: 96 %\n",
      "[25,  100] loss:0.000 [25,  200] loss:0.000 [25,  300] loss:0.000 [25,  400] loss:0.000 [25,  500] loss:0.000 [25,  600] loss:0.000 [25,  700] loss:0.000 [25,  800] loss:0.000 [25,  900] loss:0.000 [25, 1000] loss:0.000 \n",
      "Epoch concluded #: 25  Recall -> 0.975\n",
      "Accuracy -> 0.9600912200684151\n",
      "f2 score -> 0.974086793630971\n",
      "Accuracy of the network w/ validation/test: 96 %\n",
      "[26,  100] loss:0.000 [26,  200] loss:0.000 [26,  300] loss:0.000 [26,  400] loss:0.000 [26,  500] loss:0.000 [26,  600] loss:0.000 [26,  700] loss:0.000 [26,  800] loss:0.000 [26,  900] loss:0.000 [26, 1000] loss:0.000 \n",
      "Epoch concluded #: 26  Recall -> 0.975\n",
      "Accuracy -> 0.9600912200684151\n",
      "f2 score -> 0.974086793630971\n",
      "Accuracy of the network w/ validation/test: 96 %\n",
      "[27,  100] loss:0.000 [27,  200] loss:0.000 [27,  300] loss:0.000 [27,  400] loss:0.000 [27,  500] loss:0.000 [27,  600] loss:0.000 [27,  700] loss:0.000 [27,  800] loss:0.000 [27,  900] loss:0.000 [27, 1000] loss:0.000 \n",
      "Epoch concluded #: 27  Recall -> 0.975\n",
      "Accuracy -> 0.9600912200684151\n",
      "f2 score -> 0.974086793630971\n",
      "Accuracy of the network w/ validation/test: 96 %\n",
      "[28,  100] loss:0.000 [28,  200] loss:0.000 [28,  300] loss:0.000 [28,  400] loss:0.000 [28,  500] loss:0.000 [28,  600] loss:0.000 [28,  700] loss:0.000 [28,  800] loss:0.000 [28,  900] loss:0.000 [28, 1000] loss:0.000 \n",
      "Epoch concluded #: 28  Recall -> 0.975\n",
      "Accuracy -> 0.9600912200684151\n",
      "f2 score -> 0.974086793630971\n",
      "Accuracy of the network w/ validation/test: 96 %\n",
      "[29,  100] loss:0.000 [29,  200] loss:0.000 [29,  300] loss:0.000 [29,  400] loss:0.000 [29,  500] loss:0.000 [29,  600] loss:0.000 [29,  700] loss:0.000 [29,  800] loss:0.000 [29,  900] loss:0.000 [29, 1000] loss:0.000 \n",
      "Epoch concluded #: 29  Recall -> 0.975\n",
      "Accuracy -> 0.9600912200684151\n",
      "f2 score -> 0.974086793630971\n",
      "Accuracy of the network w/ validation/test: 96 %\n",
      "Finished training. Time taken:  3506.307727098465\n"
     ]
    }
   ],
   "source": [
    "run_this_final = True\n",
    "index_number = 56\n",
    "epochs = 29\n",
    "\n",
    "if run_this_final:\n",
    "\n",
    "    start = time.time()  # so we start keeping track of time\n",
    "    set_seeds()  # so  results are consistent.\n",
    "    # Create a new model object each experiment:\n",
    "    model = LeNet(conv1out      =  round(df_bo_results.iloc[index_number][2]),  # < - !!!\n",
    "                  conv1kernel   =  round(df_bo_results.iloc[index_number][3]),  # < !! \n",
    "                  filter_size   =  round(df_bo_results.iloc[index_number][4]),  # < !! \n",
    "                  stride_step   =  round(df_bo_results.iloc[index_number][5]),  # < !! \n",
    "                  conv2out      =  round(df_bo_results.iloc[index_number][6]),  # < !!\n",
    "                  conv2kernel   =  round(df_bo_results.iloc[index_number][7]),  # < !!\n",
    "                  name          =  'LeNet5 adjustable')\n",
    "\n",
    "    with torch.no_grad():  # trial for setting model params\n",
    "        model(images)      \n",
    "\n",
    "    # Loss and optimizer:\n",
    "    criterion = nn.CrossEntropyLoss()\n",
    "    optimizer = optim.SGD(model.parameters(), \n",
    "                          lr       = df_bo_results.iloc[index_number][0],   # <  !!!\n",
    "                          momentum = df_bo_results.iloc[index_number][1])   #\n",
    "\n",
    "    accuracy_results = []  # tracking val. accuracy throught epochs\n",
    "    loss_results = []\n",
    "    recall_results = []\n",
    "    f2score_results = []\n",
    "\n",
    "    # The epoch loop:\n",
    "    for epoch in range(epochs):  # loop over the dataset multiple times           <  - !!\n",
    "        running_loss = 0.0\n",
    "        for i, data in enumerate(trainloader, 0):\n",
    "            # get the inputs; data is a list of [inputs, labels]\n",
    "            inputs, labels = data\n",
    "\n",
    "            # zero the parameter gradients\n",
    "            optimizer.zero_grad()\n",
    "\n",
    "            # forward + backward + optimize\n",
    "            outputs = model(inputs)\n",
    "            loss = criterion(outputs, labels)\n",
    "            loss.backward()\n",
    "            optimizer.step()\n",
    "\n",
    "            # print statistics\n",
    "            running_loss += loss.item()\n",
    "\n",
    "\n",
    "            if i % 100 == 99:    # print every x mini-batches\n",
    "                print('[%d,%5d] loss:%.3f' %\n",
    "                      (epoch + 1, i + 1, running_loss / 100), end = ' ')\n",
    "\n",
    "                last_comp_loss_epo = running_loss / 100\n",
    "                running_loss = 0.0\n",
    "\n",
    "\n",
    "        print(f'\\nEpoch concluded #: {epoch + 1} ', end = ' ')\n",
    "\n",
    "        loss_results.append(last_comp_loss_epo)\n",
    "        accuracy, recall, f2score =  perf_check_overall(model, valloader)  # returns: accuracy, recall\n",
    "        accuracy_results.append(accuracy)  # prepare list of values\n",
    "        recall_results.append(recall)      # to be returned\n",
    "        f2score_results.append(f2score)    # epoch by epoch\n",
    "        \n",
    "\n",
    "    end = time.time()\n",
    "    print('Finished training. Time taken: ', end-start)\n",
    "\n",
    "# Time taken:  1256.9220094680786"
   ]
  },
  {
   "cell_type": "markdown",
   "id": "30df047e",
   "metadata": {},
   "source": [
    "Now we can save or load the data depending on whether last cell was run:"
   ]
  },
  {
   "cell_type": "code",
   "execution_count": 212,
   "id": "845413c5",
   "metadata": {
    "ExecuteTime": {
     "end_time": "2023-07-19T22:24:53.933413Z",
     "start_time": "2023-07-19T22:24:53.855414Z"
    },
    "code_folding": []
   },
   "outputs": [],
   "source": [
    "if run_this_final:  # save the final model w/ best val. accuracy\n",
    "    checkpoint = {\n",
    "        'epoch': epoch,  # or epoch + 1\n",
    "        'state_dict': model.state_dict(),\n",
    "        'optimizer': optimizer.state_dict()\n",
    "    }\n",
    "\n",
    "    is_best = True # it is the best so it will copy to model_best folder\n",
    "    checkpoint_dir = './models_f2'\n",
    "    best_model_dir = './model_best_f2'\n",
    "\n",
    "    save_ckp(checkpoint, is_best, checkpoint_dir, best_model_dir)\n",
    "    \n",
    "else:  # load best model:\n",
    "    model = LeNet(conv1out      =  round(df_bo_results.iloc[23][2]),  # < - !!!\n",
    "                  conv1kernel   =  round(df_bo_results.iloc[23][3]),  # < !! \n",
    "                  filter_size   =  round(df_bo_results.iloc[23][4]),  # < !! \n",
    "                  stride_step   =  round(df_bo_results.iloc[23][5]),  # < !! \n",
    "                  conv2out      =  round(df_bo_results.iloc[23][6]),  # < !!\n",
    "                  conv2kernel   =  round(df_bo_results.iloc[23][7]),  # < !!\n",
    "                  name          =  'LeNet5 adjustable')\n",
    "    with torch.no_grad():  # trial for setting model params\n",
    "        model(images) \n",
    "    \n",
    "    criterion = nn.CrossEntropyLoss()\n",
    "    \n",
    "    optimizer = optim.SGD(model.parameters(), \n",
    "                          lr       = df_bo_results.iloc[23][0],   # <  !!!\n",
    "                          momentum = df_bo_results.iloc[23][1])   #\n",
    "    \n",
    "    \n",
    "    ckp_path = './model_best_f2/best_model.pt'\n",
    "    \n",
    "    model, optimizer, last_epoch = load_ckp(ckp_path, model, optimizer)"
   ]
  },
  {
   "cell_type": "code",
   "execution_count": 217,
   "id": "b14e583b",
   "metadata": {
    "ExecuteTime": {
     "end_time": "2023-07-19T22:58:54.598269Z",
     "start_time": "2023-07-19T22:58:54.571277Z"
    }
   },
   "outputs": [],
   "source": [
    "epo_list = np.arange(1,30)\n",
    "df_epoch_data = pd.DataFrame({'epoch':epo_list, \n",
    "                                     #'loss_results':loss_results, \n",
    "                                     'accuracy_results':accuracy_results,\n",
    "                                     'f2score_results':f2score_results,\n",
    "                                     'recall_results':recall_results\n",
    "                                    })"
   ]
  },
  {
   "cell_type": "markdown",
   "id": "f2cef528",
   "metadata": {},
   "source": [
    "**Testing chosen model for accuracy against test data:**"
   ]
  },
  {
   "cell_type": "code",
   "execution_count": 219,
   "id": "52b26171",
   "metadata": {
    "ExecuteTime": {
     "end_time": "2023-07-20T09:37:07.500678Z",
     "start_time": "2023-07-20T09:36:47.348063Z"
    }
   },
   "outputs": [
    {
     "name": "stdout",
     "output_type": "stream",
     "text": [
      "Recall -> 0.9797507788161994\n",
      "Accuracy -> 0.9647727272727272\n",
      "f2 score -> 0.9782270606531881\n",
      "Accuracy of the network w/ validation/test: 96 %\n"
     ]
    },
    {
     "data": {
      "text/plain": [
       "(0.9647727272727272, 0.9797507788161994, 0.9782270606531881)"
      ]
     },
     "execution_count": 219,
     "metadata": {},
     "output_type": "execute_result"
    }
   ],
   "source": [
    "model.eval()\n",
    "perf_check_overall(model, testloader)\n"
   ]
  },
  {
   "cell_type": "markdown",
   "id": "5692ff31",
   "metadata": {},
   "source": [
    "- Model has 96.47% accuracy with test data, and F2Score of 0.97, Recall rate 0.97."
   ]
  },
  {
   "cell_type": "markdown",
   "id": "92ab0f37",
   "metadata": {
    "ExecuteTime": {
     "end_time": "2023-07-20T10:48:38.758883Z",
     "start_time": "2023-07-20T10:48:38.748883Z"
    }
   },
   "source": [
    "<a id='confusion_matrix'></a>\n",
    "## Confusion Matrix"
   ]
  },
  {
   "cell_type": "markdown",
   "id": "1bd2efa1",
   "metadata": {
    "ExecuteTime": {
     "end_time": "2023-07-19T16:42:52.965377Z",
     "start_time": "2023-07-19T16:42:52.954372Z"
    }
   },
   "source": [
    "[Introduction](#Introduction) [Imports](#Imports) [Helper](#Helper)  >>  \n",
    "[Data](#data) [Model](#model)  [Initial Data](#initial) [Sampling Initial Data](#sampling)  >>\n",
    "[Bayesian Optimization](#bayesian) [Imports BO](#imports_bo) [BO Search](#bo_search) >> [Epochs Choice](#epochs) [Final Model](#final) [Confusion Matrix](#confusion_matrix)"
   ]
  },
  {
   "cell_type": "markdown",
   "id": "0cd3bba0",
   "metadata": {},
   "source": [
    "Running predictions on test dataset:"
   ]
  },
  {
   "cell_type": "code",
   "execution_count": 254,
   "id": "3184f866",
   "metadata": {
    "ExecuteTime": {
     "end_time": "2023-07-20T10:50:08.470809Z",
     "start_time": "2023-07-20T10:49:54.304815Z"
    }
   },
   "outputs": [],
   "source": [
    "correct = 0\n",
    "total = 0\n",
    "labels_all_test = torch.Tensor()\n",
    "outputs_all_test = torch.Tensor()\n",
    "with torch.no_grad():\n",
    "        for data in testloader:\n",
    "            images, labels = data\n",
    "            labels_all_test = torch.cat((labels_all_test,labels))\n",
    "            outputs = model(images)\n",
    "            _, predicted = torch.max(outputs.data, 1)\n",
    "            outputs_all_test = torch.cat((outputs_all_test,predicted))\n",
    "            total += labels.size(0)\n",
    "            correct += (predicted == labels).sum().item()"
   ]
  },
  {
   "cell_type": "markdown",
   "id": "e48cd0a1",
   "metadata": {},
   "source": [
    "Now, on validation dataset:"
   ]
  },
  {
   "cell_type": "code",
   "execution_count": 258,
   "id": "63d4cd26",
   "metadata": {
    "ExecuteTime": {
     "end_time": "2023-07-20T10:52:57.166258Z",
     "start_time": "2023-07-20T10:52:36.860635Z"
    }
   },
   "outputs": [],
   "source": [
    "correct = 0\n",
    "total = 0\n",
    "labels_all_val = torch.Tensor()\n",
    "outputs_all_val = torch.Tensor()\n",
    "with torch.no_grad():\n",
    "        for data in valloader:\n",
    "            images, labels = data\n",
    "            labels_all_val = torch.cat((labels_all_val,labels))\n",
    "            outputs = model(images)\n",
    "            _, predicted = torch.max(outputs.data, 1)\n",
    "            outputs_all_val = torch.cat((outputs_all_val,predicted))\n",
    "            total += labels.size(0)\n",
    "            correct += (predicted == labels).sum().item()"
   ]
  },
  {
   "cell_type": "code",
   "execution_count": 259,
   "id": "9175717a",
   "metadata": {
    "ExecuteTime": {
     "end_time": "2023-07-20T10:52:59.511585Z",
     "start_time": "2023-07-20T10:52:59.503597Z"
    }
   },
   "outputs": [],
   "source": [
    "# labels_all == outputs_all"
   ]
  },
  {
   "cell_type": "code",
   "execution_count": 260,
   "id": "56cd91f2",
   "metadata": {
    "ExecuteTime": {
     "end_time": "2023-07-20T10:53:00.137743Z",
     "start_time": "2023-07-20T10:53:00.125726Z"
    }
   },
   "outputs": [],
   "source": [
    "from sklearn.metrics import confusion_matrix, ConfusionMatrixDisplay"
   ]
  },
  {
   "cell_type": "markdown",
   "id": "84950507",
   "metadata": {},
   "source": [
    "Generating Confusion Matrix according to predictions:"
   ]
  },
  {
   "cell_type": "code",
   "execution_count": 282,
   "id": "87c559af",
   "metadata": {
    "ExecuteTime": {
     "end_time": "2023-07-20T11:09:29.091504Z",
     "start_time": "2023-07-20T11:09:29.070496Z"
    }
   },
   "outputs": [],
   "source": [
    "cm_val = confusion_matrix(labels_all_val, outputs_all_val)  # true, pred\n",
    "disp_val = ConfusionMatrixDisplay(confusion_matrix=cm_val, display_labels=data_train.class_to_idx)\n",
    "\n",
    "cm_test = confusion_matrix(labels_all_test, outputs_all_test)  # true, pred\n",
    "disp_test = ConfusionMatrixDisplay(confusion_matrix=cm_test, display_labels=data_train.class_to_idx)"
   ]
  },
  {
   "cell_type": "code",
   "execution_count": 281,
   "id": "6340ac29",
   "metadata": {
    "ExecuteTime": {
     "end_time": "2023-07-20T11:07:03.751563Z",
     "start_time": "2023-07-20T11:07:03.506722Z"
    },
    "scrolled": false
   },
   "outputs": [
    {
     "data": {
      "image/png": "[encoded data removed]",
      "text/plain": [
       "<Figure size 1200x500 with 2 Axes>"
      ]
     },
     "metadata": {},
     "output_type": "display_data"
    }
   ],
   "source": [
    "\n",
    "fig, (ax1, ax2) = plt.subplots(1, 2, figsize=(12, 5))\n",
    "\n",
    "disp_val = ConfusionMatrixDisplay(confusion_matrix=cm_val, display_labels=data_train.class_to_idx)\n",
    "disp_val.plot(ax=ax1,colorbar = False)\n",
    "ax1.set_title('Validation - Confusion Matrix')\n",
    "\n",
    "disp_test = ConfusionMatrixDisplay(confusion_matrix=cm_test, display_labels=data_train.class_to_idx)\n",
    "disp_test.plot(ax=ax2, colorbar = False)\n",
    "ax2.set_title('Test - Confusion Matrix')\n",
    "\n",
    "plt.subplots_adjust(wspace=0.5)\n",
    "plt.show()\n"
   ]
  },
  {
   "cell_type": "markdown",
   "id": "488cf490",
   "metadata": {},
   "source": [
    "In this kind of problem the type of error plays a role in the usefulness of the model, and how it could be applied in a real world task. So it is necessary to consider two types of errors:\n",
    "\n",
    "> **False Positive (Type 1 Error):** You predicted positive and it’s false. You predicted that animal is a cat but it actually is not (it’s a dog).  \n",
    "> **False Negative (Type 2 Error):** You predicted negative and it’s false. You predicted that animal is not a cat but it actually is.\n",
    "\n",
    "In this case of a medical environment, having to choose the kind of error that the model can be optimized for, what would be the proper choice? If you classify a patient as 'normal', when in fact, he has pneumonia, he won't be able to get appropriate treatment. However, suppose you classify a patient as positive for 'pneumonia'. In that case, he will get through to a doctor to do further investigations on that particular case and conclude if the patient has pneumonia.  \n",
    "\n",
    "So, in this case, the proper course of action would be to minimize False Negatives(Type 2 error). Telling a patient he does not have a condition when he has will prevent further medical investigation into his case.\n",
    "\n",
    "In this context, Recall is an important metric, and it is defined as the ratio of the total number of correctly classified positive classes divided by the total number of positive classes.\n",
    "$$\\text{Recall} = \\frac{\\text{True Positives}}{\\text{True Positives} + \\text{False Negatives}}$$\n"
   ]
  },
  {
   "cell_type": "code",
   "execution_count": 286,
   "id": "4adf063d",
   "metadata": {
    "ExecuteTime": {
     "end_time": "2023-07-20T12:24:29.992569Z",
     "start_time": "2023-07-20T12:24:29.972852Z"
    }
   },
   "outputs": [
    {
     "name": "stdout",
     "output_type": "stream",
     "text": [
      "Recall test dataset: 0.9797507788161994\n",
      "F2Score test dataset: 0.9782270606531881\n"
     ]
    }
   ],
   "source": [
    "recall_test = recall_score(labels_all_test, outputs_all_test)\n",
    "f2score_test = fbeta_score(labels_all_test, outputs_all_test, beta=2)\n",
    "print(f'Recall test dataset: {recall_test}')\n",
    "print(f'F2Score test dataset: {f2score_test}')"
   ]
  },
  {
   "cell_type": "markdown",
   "id": "51acac6a",
   "metadata": {},
   "source": [
    "As we can see, for the Recall metric(629 / (629+13) ), we correctly identified almost 98% of patients that were sick as sick, leaving roughly 2% misdiagnosed. In this context, in a review cycle for this work, the Recall performance should be prioritized to achieve 100%, even though it might mean getting more errors type 1.  \n",
    "\n",
    "On the other hand, F-Score is a measurement that combines both Precision and Recall; by setting F to 2, we will give more importance to Recall.\n",
    "\n",
    "$$F_\\beta = \\frac{(1 + \\beta^2) \\cdot \\text{Precision} \\cdot \\text{Recall}}{(\\beta^2 \\cdot \\text{Precision}) + \\text{Recall}}$$\n",
    "\n",
    "\n",
    ">*Fβ-score Formula Symbol*  \n",
    ">A factor indicating how much more important recall is than precision. For example, if we consider recall to be twice as important as precision, we can set β to 2. The standard F-score is equivalent to setting β to one.[1](https://deepai.org/machine-learning-glossary-and-terms/f-score)  \n",
    "  \n",
    "We can check that the F2Score is compatible with the Recall Score. The results obtained were similar when giving the recall score twice the importance over the Precision metrics. The advantage of F2Score is that it will consider the Precision as well, making sure we are not getting a good Recall measurement just because we are classifying everything as positive, and just because of that getting a good recall."
   ]
  },
  {
   "cell_type": "markdown",
   "id": "8aed703a",
   "metadata": {
    "ExecuteTime": {
     "end_time": "2023-07-20T16:43:43.394991Z",
     "start_time": "2023-07-20T16:43:43.295981Z"
    }
   },
   "source": [
    "# Conclusion"
   ]
  },
  {
   "cell_type": "markdown",
   "id": "74679f85",
   "metadata": {},
   "source": [
    "In this data project centred around X-ray image classification for medical diagnosis, Bayesian optimization has been widely used in achieving exceptional results. By combining Bayesian optimization with BoTorch Trust Region Search, we enhanced the performance of our LeNet5-based CNN model.\n",
    "\n",
    "Bayesian optimization is a powerful technique that excels in scenarios where the objective function is costly to evaluate, as is often the case in complex machine learning models. It leverages a probabilistic model to intelligently explore the hyperparameter space, making informed decisions about which configurations to try next. This capability becomes crucial when training deep learning models, which typically require significant computational resources and time.\n",
    "\n",
    "In this project, Bayesian optimization played a vital role in fine-tuning hyperparameters to maximize the optimization metric. This should be considered an initial work for reviewing. The focus for the following review should be minimizing Type 2 errors. This will reduce the risk of missing positive cases during diagnoses, ultimately improving patient outcomes and healthcare efficiency.\n",
    "\n",
    "Botorch provided a flexible and modular platform for implementing Bayesian optimization algorithms. At the same time, trust region search efficiently explored the search space yielding better results with less computational power.\n",
    "\n",
    "The Recall score of approximately 0.98 achieved in our project demonstrates the efficacy of Bayesian optimization in optimizing the model's performance for medical diagnosis tasks. However, there is always room for improvement. Exploring additional hyperparameter configurations and incorporating more sophisticated models into the optimization pipeline may yield even better results in future iterations.\n",
    "\n",
    "Bayesian optimization was a critical component of this project, playing a key role in fine-tuning hyperparameters and achieving exceptional metrics. Its ability to optimize complex models in computationally efficient ways proved instrumental in creating a robust and reliable X-ray image classification system for medical diagnosis. Leveraging the power of Bayesian optimization, the model will continue to evolve, ultimately leading to better metrics."
   ]
  },
  {
   "cell_type": "code",
   "execution_count": null,
   "id": "fa2d8096",
   "metadata": {},
   "outputs": [],
   "source": []
  }
 ],
 "metadata": {
  "kernelspec": {
   "display_name": "Python 3 (ipykernel)",
   "language": "python",
   "name": "python3"
  },
  "language_info": {
   "codemirror_mode": {
    "name": "ipython",
    "version": 3
   },
   "file_extension": ".py",
   "mimetype": "text/x-python",
   "name": "python",
   "nbconvert_exporter": "python",
   "pygments_lexer": "ipython3",
   "version": "3.8.16"
  },
  "toc": {
   "base_numbering": 1,
   "nav_menu": {
    "height": "353px",
    "width": "276.667px"
   },
   "number_sections": true,
   "sideBar": true,
   "skip_h1_title": false,
   "title_cell": "Table of Contents",
   "title_sidebar": "Contents",
   "toc_cell": false,
   "toc_position": {
    "height": "calc(100% - 180px)",
    "left": "10px",
    "top": "150px",
    "width": "165px"
   },
   "toc_section_display": true,
   "toc_window_display": false
  },
  "varInspector": {
   "cols": {
    "lenName": 16,
    "lenType": 16,
    "lenVar": 40
   },
   "kernels_config": {
    "python": {
     "delete_cmd_postfix": "",
     "delete_cmd_prefix": "del ",
     "library": "var_list.py",
     "varRefreshCmd": "print(var_dic_list())"
    },
    "r": {
     "delete_cmd_postfix": ") ",
     "delete_cmd_prefix": "rm(",
     "library": "var_list.r",
     "varRefreshCmd": "cat(var_dic_list()) "
    }
   },
   "types_to_exclude": [
    "module",
    "function",
    "builtin_function_or_method",
    "instance",
    "_Feature"
   ],
   "window_display": false
  }
 },
 "nbformat": 4,
 "nbformat_minor": 5
}
